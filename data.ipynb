{
 "cells": [
  {
   "attachments": {},
   "cell_type": "markdown",
   "metadata": {},
   "source": [
    "### Install packages"
   ]
  },
  {
   "cell_type": "code",
   "execution_count": 1,
   "metadata": {},
   "outputs": [
    {
     "name": "stdout",
     "output_type": "stream",
     "text": [
      "\u001b[33mDEPRECATION: Configuring installation scheme with distutils config files is deprecated and will no longer work in the near future. If you are using a Homebrew or Linuxbrew Python, please see discussion at https://github.com/Homebrew/homebrew-core/issues/76621\u001b[0m\u001b[33m\n",
      "\u001b[0mRequirement already satisfied: html2text==2020.1.16 in /opt/homebrew/lib/python3.9/site-packages (from -r requirements.txt (line 1)) (2020.1.16)\n",
      "Collecting mwxml==0.3.3\n",
      "  Downloading mwxml-0.3.3-py2.py3-none-any.whl (32 kB)\n",
      "Requirement already satisfied: wikitextparser==0.51.2 in /opt/homebrew/lib/python3.9/site-packages (from -r requirements.txt (line 3)) (0.51.2)\n",
      "Requirement already satisfied: bz2file==0.98 in /opt/homebrew/lib/python3.9/site-packages (from -r requirements.txt (line 4)) (0.98)\n",
      "Collecting requests==2.30.0\n",
      "  Downloading requests-2.30.0-py3-none-any.whl (62 kB)\n",
      "\u001b[2K     \u001b[90m━━━━━━━━━━━━━━━━━━━━━━━━━━━━━━━━━━━━━━━━\u001b[0m \u001b[32m62.5/62.5 kB\u001b[0m \u001b[31m2.2 MB/s\u001b[0m eta \u001b[36m0:00:00\u001b[0m\n",
      "\u001b[?25hRequirement already satisfied: jsonschema>=2.5.1 in /opt/homebrew/lib/python3.9/site-packages (from mwxml==0.3.3->-r requirements.txt (line 2)) (4.4.0)\n",
      "Collecting mwcli>=0.0.2\n",
      "  Downloading mwcli-0.0.3-py2.py3-none-any.whl (8.4 kB)\n",
      "Collecting mwtypes>=0.3.0\n",
      "  Downloading mwtypes-0.3.2-py2.py3-none-any.whl (21 kB)\n",
      "Collecting para>=0.0.1\n",
      "  Downloading para-0.0.8-py3-none-any.whl (6.5 kB)\n",
      "Requirement already satisfied: regex>=2022.9.11 in /opt/homebrew/lib/python3.9/site-packages (from wikitextparser==0.51.2->-r requirements.txt (line 3)) (2023.5.5)\n",
      "Requirement already satisfied: wcwidth in /Users/sophiabuehl/Library/Python/3.9/lib/python/site-packages (from wikitextparser==0.51.2->-r requirements.txt (line 3)) (0.2.5)\n",
      "Requirement already satisfied: urllib3<3,>=1.21.1 in /opt/homebrew/lib/python3.9/site-packages (from requests==2.30.0->-r requirements.txt (line 5)) (1.26.8)\n",
      "Requirement already satisfied: charset-normalizer<4,>=2 in /opt/homebrew/lib/python3.9/site-packages (from requests==2.30.0->-r requirements.txt (line 5)) (2.0.10)\n",
      "Requirement already satisfied: certifi>=2017.4.17 in /opt/homebrew/lib/python3.9/site-packages (from requests==2.30.0->-r requirements.txt (line 5)) (2021.10.8)\n",
      "Requirement already satisfied: idna<4,>=2.5 in /opt/homebrew/lib/python3.9/site-packages (from requests==2.30.0->-r requirements.txt (line 5)) (3.3)\n",
      "Requirement already satisfied: attrs>=17.4.0 in /opt/homebrew/lib/python3.9/site-packages (from jsonschema>=2.5.1->mwxml==0.3.3->-r requirements.txt (line 2)) (21.4.0)\n",
      "Requirement already satisfied: pyrsistent!=0.17.0,!=0.17.1,!=0.17.2,>=0.14.0 in /opt/homebrew/lib/python3.9/site-packages (from jsonschema>=2.5.1->mwxml==0.3.3->-r requirements.txt (line 2)) (0.18.1)\n",
      "Collecting docopt\n",
      "  Downloading docopt-0.6.2.tar.gz (25 kB)\n",
      "  Preparing metadata (setup.py) ... \u001b[?25ldone\n",
      "\u001b[?25hCollecting jsonable>=0.3.0\n",
      "  Downloading jsonable-0.3.1-py2.py3-none-any.whl (11 kB)\n",
      "Building wheels for collected packages: docopt\n",
      "  Building wheel for docopt (setup.py) ... \u001b[?25ldone\n",
      "\u001b[?25h  Created wheel for docopt: filename=docopt-0.6.2-py2.py3-none-any.whl size=13723 sha256=2e8c5b39f56094a9523a5f4594650134f44a925146159c2624534717cef3f392\n",
      "  Stored in directory: /Users/sophiabuehl/Library/Caches/pip/wheels/4e/29/5e/e5f6f558e24e0d70f6808e3e8fdaf2c04ff597233098afc550\n",
      "Successfully built docopt\n",
      "Installing collected packages: para, jsonable, docopt, requests, mwtypes, mwcli, mwxml\n",
      "\u001b[33m  DEPRECATION: Configuring installation scheme with distutils config files is deprecated and will no longer work in the near future. If you are using a Homebrew or Linuxbrew Python, please see discussion at https://github.com/Homebrew/homebrew-core/issues/76621\u001b[0m\u001b[33m\n",
      "\u001b[0m\u001b[33m  DEPRECATION: Configuring installation scheme with distutils config files is deprecated and will no longer work in the near future. If you are using a Homebrew or Linuxbrew Python, please see discussion at https://github.com/Homebrew/homebrew-core/issues/76621\u001b[0m\u001b[33m\n",
      "\u001b[0m\u001b[33m  DEPRECATION: Configuring installation scheme with distutils config files is deprecated and will no longer work in the near future. If you are using a Homebrew or Linuxbrew Python, please see discussion at https://github.com/Homebrew/homebrew-core/issues/76621\u001b[0m\u001b[33m\n",
      "\u001b[0m  Attempting uninstall: requests\n",
      "    Found existing installation: requests 2.27.1\n",
      "    Uninstalling requests-2.27.1:\n",
      "      Successfully uninstalled requests-2.27.1\n",
      "\u001b[33m  DEPRECATION: Configuring installation scheme with distutils config files is deprecated and will no longer work in the near future. If you are using a Homebrew or Linuxbrew Python, please see discussion at https://github.com/Homebrew/homebrew-core/issues/76621\u001b[0m\u001b[33m\n",
      "\u001b[0m\u001b[33m  DEPRECATION: Configuring installation scheme with distutils config files is deprecated and will no longer work in the near future. If you are using a Homebrew or Linuxbrew Python, please see discussion at https://github.com/Homebrew/homebrew-core/issues/76621\u001b[0m\u001b[33m\n",
      "\u001b[0m\u001b[33m  DEPRECATION: Configuring installation scheme with distutils config files is deprecated and will no longer work in the near future. If you are using a Homebrew or Linuxbrew Python, please see discussion at https://github.com/Homebrew/homebrew-core/issues/76621\u001b[0m\u001b[33m\n",
      "\u001b[0m\u001b[33m  DEPRECATION: Configuring installation scheme with distutils config files is deprecated and will no longer work in the near future. If you are using a Homebrew or Linuxbrew Python, please see discussion at https://github.com/Homebrew/homebrew-core/issues/76621\u001b[0m\u001b[33m\n",
      "\u001b[0m\u001b[33mDEPRECATION: Configuring installation scheme with distutils config files is deprecated and will no longer work in the near future. If you are using a Homebrew or Linuxbrew Python, please see discussion at https://github.com/Homebrew/homebrew-core/issues/76621\u001b[0m\u001b[33m\n",
      "\u001b[0mSuccessfully installed docopt-0.6.2 jsonable-0.3.1 mwcli-0.0.3 mwtypes-0.3.2 mwxml-0.3.3 para-0.0.8 requests-2.30.0\n",
      "\n",
      "\u001b[1m[\u001b[0m\u001b[34;49mnotice\u001b[0m\u001b[1;39;49m]\u001b[0m\u001b[39;49m A new release of pip available: \u001b[0m\u001b[31;49m22.3.1\u001b[0m\u001b[39;49m -> \u001b[0m\u001b[32;49m23.1.2\u001b[0m\n",
      "\u001b[1m[\u001b[0m\u001b[34;49mnotice\u001b[0m\u001b[1;39;49m]\u001b[0m\u001b[39;49m To update, run: \u001b[0m\u001b[32;49mpython3.9 -m pip install --upgrade pip\u001b[0m\n",
      "Note: you may need to restart the kernel to use updated packages.\n"
     ]
    }
   ],
   "source": [
    "pip install -r requirements.txt"
   ]
  },
  {
   "attachments": {},
   "cell_type": "markdown",
   "metadata": {},
   "source": [
    "### Import Packages"
   ]
  },
  {
   "cell_type": "code",
   "execution_count": 2,
   "metadata": {},
   "outputs": [],
   "source": [
    "# imports\n",
    "\n",
    "# regex\n",
    "import re\n",
    "import sys\n",
    "import os\n",
    "import bz2\n",
    "import requests\n",
    "\n",
    "# package to read wikipedia dump\n",
    "import mwxml\n",
    "# packages for cleaning the data\n",
    "import html2text\n",
    "import wikitextparser as wtp\n",
    "\n",
    "# packages for multithreading\n",
    "from threading import Thread\n"
   ]
  },
  {
   "attachments": {},
   "cell_type": "markdown",
   "metadata": {},
   "source": [
    "### Static Variables / Config"
   ]
  },
  {
   "cell_type": "code",
   "execution_count": 3,
   "metadata": {},
   "outputs": [],
   "source": [
    "# static var\n",
    "DUMP_URL = 'https://dumps.wikimedia.org/dewiki/latest/dewiki-latest-pages-articles.xml.bz2'\n",
    "DUMP_FILE_ZIP = './dewiki-latest-pages-articles.xml.bz2'\n",
    "DUMP_FILE_ENTPACKT = './dewiki-latest-pages-articles.xml'\n",
    "EXZELLENT_FOLDER = './exzellent'\n"
   ]
  },
  {
   "attachments": {},
   "cell_type": "markdown",
   "metadata": {},
   "source": [
    "### Define Functions"
   ]
  },
  {
   "cell_type": "code",
   "execution_count": 4,
   "metadata": {},
   "outputs": [],
   "source": [
    "def clean_save_article(page, revision):\n",
    "    text = revision.text\n",
    "\n",
    "    # entnommen aus: https://github.com/daveshap/PlainTextWikipedia\n",
    "    # Plain Text\n",
    "    text = wtp.parse(text).plain_text()  \n",
    "    # Remove HTML\n",
    "    text = html2text.html2text(text)\n",
    "    # Replace newlines\n",
    "    text = text.replace('\\\\n', ' ') \n",
    "    # Replace excess whitespace\n",
    "    text = re.sub('\\s+', ' ', text)  \n",
    "    # end entnommen aus\n",
    "    \n",
    "    with open(os.path.join(EXZELLENT_FOLDER, str(page.id) + '.txt'), \"x\") as f:\n",
    "        f.write(page.title + \"\\n\" + text)"
   ]
  },
  {
   "attachments": {},
   "cell_type": "markdown",
   "metadata": {},
   "source": [
    "### Download XML Dump herunterladen und Chunkweise abspeichern\n",
    "\n",
    "Herunterladen des Wikipedia Dumps mit allen deutschsprachigen Artikeln von wikimedia."
   ]
  },
  {
   "cell_type": "code",
   "execution_count": 5,
   "metadata": {},
   "outputs": [],
   "source": [
    "# Funktion zum Herunterladen der Datei\n",
    "def download_file(url, file_path):\n",
    "    response = requests.get(url, stream=True)\n",
    "    with open(file_path, 'wb') as file:\n",
    "        for chunk in response.iter_content(chunk_size=1024):\n",
    "            if chunk:\n",
    "                file.write(chunk)\n",
    "\n",
    "# Herunterladen des Wikipedia-Artikeldumps\n",
    "download_file(DUMP_URL, DUMP_FILE_ZIP)"
   ]
  },
  {
   "attachments": {},
   "cell_type": "markdown",
   "metadata": {},
   "source": [
    "### XML Dump entpacken"
   ]
  },
  {
   "cell_type": "code",
   "execution_count": 6,
   "metadata": {},
   "outputs": [],
   "source": [
    "with open(DUMP_FILE_ENTPACKT, 'wb') as new_file, bz2.BZ2File(DUMP_FILE_ZIP, 'rb') as file:\n",
    "    for data in iter(lambda : file.read(100 * 1024), b''):\n",
    "        new_file.write(data)"
   ]
  },
  {
   "cell_type": "code",
   "execution_count": 7,
   "metadata": {},
   "outputs": [
    {
     "name": "stdout",
     "output_type": "stream",
     "text": [
      "### Wikipedia Dump ###\n",
      "Wikipedia dewiki\n",
      "### Exzelente Aritkel ###\n",
      "Gefundene exzellente Artikel: 2793Anzahl der exzellenten Artikel:  2793\n"
     ]
    }
   ],
   "source": [
    "# pythonhosted.org\n",
    "pattern = r\"\\{\\{Exzellent\\|\"\n",
    "dump = mwxml.Dump.from_file(open(DUMP_FILE_ENTPACKT))\n",
    "\n",
    "print(\"### Wikipedia Dump ###\")\n",
    "print(dump.site_info.name, dump.site_info.dbname)\n",
    "\n",
    "print(\"### Exzelente Aritkel ###\")\n",
    "if not os.path.isdir(EXZELLENT_FOLDER):\n",
    "    os.makedirs(EXZELLENT_FOLDER)\n",
    "excellent_count = 0\n",
    "    \n",
    "# for schleifen entnommen aus: \n",
    "for idx_page, page in enumerate(dump):\n",
    "    for idx_revision, revision in enumerate(page):\n",
    "        if revision.text is not None:\n",
    "            x = re.search(pattern, revision.text)\n",
    "            if x is not None:\n",
    "                excellent_count += 1\n",
    "                Thread(target=clean_save_article, args=(page, revision)).start()\n",
    "                sys.stdout.write('\\rGefundene exzellente Artikel: ' + str(excellent_count))\n",
    "                sys.stdout.flush()\n",
    "print('Anzahl der exzellenten Artikel: ', str(excellent_count))"
   ]
  },
  {
   "attachments": {},
   "cell_type": "markdown",
   "metadata": {},
   "source": []
  }
 ],
 "metadata": {
  "kernelspec": {
   "display_name": "base",
   "language": "python",
   "name": "python3"
  },
  "language_info": {
   "codemirror_mode": {
    "name": "ipython",
    "version": 3
   },
   "file_extension": ".py",
   "mimetype": "text/x-python",
   "name": "python",
   "nbconvert_exporter": "python",
   "pygments_lexer": "ipython3",
   "version": "3.9.16"
  },
  "orig_nbformat": 4
 },
 "nbformat": 4,
 "nbformat_minor": 2
}
