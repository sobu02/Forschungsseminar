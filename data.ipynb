{
 "cells": [
  {
   "attachments": {},
   "cell_type": "markdown",
   "metadata": {},
   "source": [
    "# Dowload and clean german Wikipedia dump"
   ]
  },
  {
   "attachments": {},
   "cell_type": "markdown",
   "metadata": {},
   "source": [
    "Dieses Notebook ist das Hauptnotebook, welches den Wikipedia Dump herunterlädt, diesen aufsplittet in exzellente und nicht exzellente artikel und anschließend eine grundlegende Datenaufbereitung durchführt. Die Aufgaben 1 & 2 sind für eine bessere Übersicht in den folgenden seperaten Notebooks bearbeitet worden:\n",
    "\n",
    "Aufgabe 1: [Klassifizierung der Artikel](classification.ipynb)\n",
    "\n",
    "Aufgabe 2: [Keyword extraktion](keywords.ipynb)"
   ]
  },
  {
   "attachments": {},
   "cell_type": "markdown",
   "metadata": {},
   "source": [
    "### Install packages"
   ]
  },
  {
   "cell_type": "code",
   "execution_count": 7,
   "metadata": {},
   "outputs": [
    {
     "name": "stdout",
     "output_type": "stream",
     "text": [
      "\u001b[33mDEPRECATION: Configuring installation scheme with distutils config files is deprecated and will no longer work in the near future. If you are using a Homebrew or Linuxbrew Python, please see discussion at https://github.com/Homebrew/homebrew-core/issues/76621\u001b[0m\u001b[33m\n",
      "\u001b[0mRequirement already satisfied: html2text==2020.1.16 in /opt/homebrew/lib/python3.9/site-packages (from -r requirements.txt (line 1)) (2020.1.16)\n",
      "Requirement already satisfied: mwxml==0.3.3 in /opt/homebrew/lib/python3.9/site-packages (from -r requirements.txt (line 2)) (0.3.3)\n",
      "Requirement already satisfied: wikitextparser==0.51.2 in /opt/homebrew/lib/python3.9/site-packages (from -r requirements.txt (line 3)) (0.51.2)\n",
      "Requirement already satisfied: bz2file==0.98 in /opt/homebrew/lib/python3.9/site-packages (from -r requirements.txt (line 4)) (0.98)\n",
      "Requirement already satisfied: requests==2.30.0 in /opt/homebrew/lib/python3.9/site-packages (from -r requirements.txt (line 5)) (2.30.0)\n",
      "Requirement already satisfied: jsonschema>=2.5.1 in /opt/homebrew/lib/python3.9/site-packages (from mwxml==0.3.3->-r requirements.txt (line 2)) (4.4.0)\n",
      "Requirement already satisfied: mwcli>=0.0.2 in /opt/homebrew/lib/python3.9/site-packages (from mwxml==0.3.3->-r requirements.txt (line 2)) (0.0.3)\n",
      "Requirement already satisfied: mwtypes>=0.3.0 in /opt/homebrew/lib/python3.9/site-packages (from mwxml==0.3.3->-r requirements.txt (line 2)) (0.3.2)\n",
      "Requirement already satisfied: para>=0.0.1 in /opt/homebrew/lib/python3.9/site-packages (from mwxml==0.3.3->-r requirements.txt (line 2)) (0.0.8)\n",
      "Requirement already satisfied: regex>=2022.9.11 in /opt/homebrew/lib/python3.9/site-packages (from wikitextparser==0.51.2->-r requirements.txt (line 3)) (2023.5.5)\n",
      "Requirement already satisfied: wcwidth in /Users/sophiabuehl/Library/Python/3.9/lib/python/site-packages (from wikitextparser==0.51.2->-r requirements.txt (line 3)) (0.2.5)\n",
      "Requirement already satisfied: charset-normalizer<4,>=2 in /opt/homebrew/lib/python3.9/site-packages (from requests==2.30.0->-r requirements.txt (line 5)) (2.0.10)\n",
      "Requirement already satisfied: idna<4,>=2.5 in /opt/homebrew/lib/python3.9/site-packages (from requests==2.30.0->-r requirements.txt (line 5)) (3.3)\n",
      "Requirement already satisfied: urllib3<3,>=1.21.1 in /opt/homebrew/lib/python3.9/site-packages (from requests==2.30.0->-r requirements.txt (line 5)) (1.26.8)\n",
      "Requirement already satisfied: certifi>=2017.4.17 in /opt/homebrew/lib/python3.9/site-packages (from requests==2.30.0->-r requirements.txt (line 5)) (2021.10.8)\n",
      "Requirement already satisfied: attrs>=17.4.0 in /opt/homebrew/lib/python3.9/site-packages (from jsonschema>=2.5.1->mwxml==0.3.3->-r requirements.txt (line 2)) (21.4.0)\n",
      "Requirement already satisfied: pyrsistent!=0.17.0,!=0.17.1,!=0.17.2,>=0.14.0 in /opt/homebrew/lib/python3.9/site-packages (from jsonschema>=2.5.1->mwxml==0.3.3->-r requirements.txt (line 2)) (0.18.1)\n",
      "Requirement already satisfied: docopt in /opt/homebrew/lib/python3.9/site-packages (from mwcli>=0.0.2->mwxml==0.3.3->-r requirements.txt (line 2)) (0.6.2)\n",
      "Requirement already satisfied: jsonable>=0.3.0 in /opt/homebrew/lib/python3.9/site-packages (from mwtypes>=0.3.0->mwxml==0.3.3->-r requirements.txt (line 2)) (0.3.1)\n",
      "\u001b[33mDEPRECATION: Configuring installation scheme with distutils config files is deprecated and will no longer work in the near future. If you are using a Homebrew or Linuxbrew Python, please see discussion at https://github.com/Homebrew/homebrew-core/issues/76621\u001b[0m\u001b[33m\n",
      "\u001b[0m\n",
      "\u001b[1m[\u001b[0m\u001b[34;49mnotice\u001b[0m\u001b[1;39;49m]\u001b[0m\u001b[39;49m A new release of pip is available: \u001b[0m\u001b[31;49m23.1.2\u001b[0m\u001b[39;49m -> \u001b[0m\u001b[32;49m23.2.1\u001b[0m\n",
      "\u001b[1m[\u001b[0m\u001b[34;49mnotice\u001b[0m\u001b[1;39;49m]\u001b[0m\u001b[39;49m To update, run: \u001b[0m\u001b[32;49mpython3.9 -m pip install --upgrade pip\u001b[0m\n"
     ]
    }
   ],
   "source": [
    "! pip install -r requirements.txt"
   ]
  },
  {
   "attachments": {},
   "cell_type": "markdown",
   "metadata": {},
   "source": [
    "### Import Packages"
   ]
  },
  {
   "cell_type": "code",
   "execution_count": 8,
   "metadata": {},
   "outputs": [],
   "source": [
    "# imports\n",
    "\n",
    "# regex\n",
    "import re\n",
    "import sys\n",
    "import os\n",
    "import bz2\n",
    "import requests\n",
    "import shutil\n",
    "\n",
    "# package to read wikipedia dump\n",
    "import mwxml\n",
    "# packages for cleaning the data\n",
    "import html2text\n",
    "import wikitextparser as wtp\n",
    "\n",
    "# packages for multithreading\n",
    "from threading import Thread\n"
   ]
  },
  {
   "attachments": {},
   "cell_type": "markdown",
   "metadata": {},
   "source": [
    "### Static Variables / Config"
   ]
  },
  {
   "cell_type": "code",
   "execution_count": 9,
   "metadata": {},
   "outputs": [],
   "source": [
    "# static var\n",
    "DUMP_URL = 'https://dumps.wikimedia.org/dewiki/latest/dewiki-latest-pages-articles.xml.bz2'\n",
    "DUMP_FILE_ZIP = './dewiki-latest-pages-articles.xml.bz2'\n",
    "DUMP_FILE_ENTPACKT = './dewiki-latest-pages-articles.xml'\n",
    "\n",
    "EXZELLENT_FOLDER = './data/exzellent'\n",
    "NOT_EXZELLENT_FOLDER = './data/not_exzellent'\n",
    "SUBSET_FOLDER = './data/subset'"
   ]
  },
  {
   "attachments": {},
   "cell_type": "markdown",
   "metadata": {},
   "source": [
    "### Funktionen definieren"
   ]
  },
  {
   "cell_type": "code",
   "execution_count": 10,
   "metadata": {},
   "outputs": [],
   "source": [
    "def clean_save_article(page: object, revision: object, is_excellent: bool) -> None:\n",
    "    text = revision.text\n",
    "\n",
    "    # filter if article is only redirect and has no text \n",
    "    PATTERN_REDIRECT = r\"(#REDIRECT|#redirect|#WEITERLEITUNG)\"\n",
    "    \n",
    "    if re.search(PATTERN_REDIRECT, revision.text):\n",
    "        # with open(os.path.join('./data/trash', str(page.id) + '.txt'), \"x\") as f:\n",
    "        #     f.write(page.title + \"\\n\" + text)\n",
    "        return\n",
    "\n",
    "    # entnommen aus: https://github.com/daveshap/PlainTextWikipedia\n",
    "    # Plain Text\n",
    "    text = wtp.parse(text).plain_text()  \n",
    "    # Remove HTML\n",
    "    text = html2text.html2text(text)\n",
    "    # Replace newlines\n",
    "    text = text.replace('\\\\n', ' ')\n",
    "    # Replace excess whitespace\n",
    "    text = re.sub('\\s+', ' ', text)\n",
    "    # end entnommen aus\n",
    "\n",
    "    \n",
    "    if is_excellent:\n",
    "        # filter excellent label from article (just to be sure is not in article anymore - usually the html2text function filtes these tags)\n",
    "        text = text.replace('\\{\\{Exzellent|', '\\{\\{')\n",
    "        # set target folder based on label\n",
    "        target_folder = EXZELLENT_FOLDER\n",
    "    else: \n",
    "        # set target folder based on label\n",
    "        target_folder = NOT_EXZELLENT_FOLDER\n",
    "    \n",
    "    # save in target folder and add Wikipedia title in first line of document\n",
    "    with open(os.path.join(target_folder, str(page.id) + '.txt'), \"x\") as f:\n",
    "        f.write(page.title + \"\\n\" + text)"
   ]
  },
  {
   "attachments": {},
   "cell_type": "markdown",
   "metadata": {},
   "source": [
    "### Download XML Dump herunterladen und Chunkweise abspeichern\n",
    "\n",
    "Herunterladen des Wikipedia Dumps mit allen deutschsprachigen Artikeln von wikimedia."
   ]
  },
  {
   "cell_type": "code",
   "execution_count": 5,
   "metadata": {},
   "outputs": [
    {
     "ename": "KeyboardInterrupt",
     "evalue": "",
     "output_type": "error",
     "traceback": [
      "\u001b[0;31m---------------------------------------------------------------------------\u001b[0m",
      "\u001b[0;31mKeyboardInterrupt\u001b[0m                         Traceback (most recent call last)",
      "\u001b[1;32m/Users/sophiabuehl/Programmierung/AdvancedML/Forschungsseminar/data.ipynb Zelle 12\u001b[0m in \u001b[0;36m1\n\u001b[1;32m      <a href='vscode-notebook-cell:/Users/sophiabuehl/Programmierung/AdvancedML/Forschungsseminar/data.ipynb#X14sZmlsZQ%3D%3D?line=6'>7</a>\u001b[0m                 file\u001b[39m.\u001b[39mwrite(chunk)\n\u001b[1;32m      <a href='vscode-notebook-cell:/Users/sophiabuehl/Programmierung/AdvancedML/Forschungsseminar/data.ipynb#X14sZmlsZQ%3D%3D?line=8'>9</a>\u001b[0m \u001b[39m# Herunterladen des Wikipedia-Artikeldumps\u001b[39;00m\n\u001b[0;32m---> <a href='vscode-notebook-cell:/Users/sophiabuehl/Programmierung/AdvancedML/Forschungsseminar/data.ipynb#X14sZmlsZQ%3D%3D?line=9'>10</a>\u001b[0m download_file(DUMP_URL, DUMP_FILE_ZIP)\n",
      "\u001b[1;32m/Users/sophiabuehl/Programmierung/AdvancedML/Forschungsseminar/data.ipynb Zelle 12\u001b[0m in \u001b[0;36m5\n\u001b[1;32m      <a href='vscode-notebook-cell:/Users/sophiabuehl/Programmierung/AdvancedML/Forschungsseminar/data.ipynb#X14sZmlsZQ%3D%3D?line=2'>3</a>\u001b[0m response \u001b[39m=\u001b[39m requests\u001b[39m.\u001b[39mget(url, stream\u001b[39m=\u001b[39m\u001b[39mTrue\u001b[39;00m)\n\u001b[1;32m      <a href='vscode-notebook-cell:/Users/sophiabuehl/Programmierung/AdvancedML/Forschungsseminar/data.ipynb#X14sZmlsZQ%3D%3D?line=3'>4</a>\u001b[0m \u001b[39mwith\u001b[39;00m \u001b[39mopen\u001b[39m(file_path, \u001b[39m'\u001b[39m\u001b[39mwb\u001b[39m\u001b[39m'\u001b[39m) \u001b[39mas\u001b[39;00m file:\n\u001b[0;32m----> <a href='vscode-notebook-cell:/Users/sophiabuehl/Programmierung/AdvancedML/Forschungsseminar/data.ipynb#X14sZmlsZQ%3D%3D?line=4'>5</a>\u001b[0m     \u001b[39mfor\u001b[39;00m chunk \u001b[39min\u001b[39;00m response\u001b[39m.\u001b[39miter_content(chunk_size\u001b[39m=\u001b[39m\u001b[39m1024\u001b[39m):\n\u001b[1;32m      <a href='vscode-notebook-cell:/Users/sophiabuehl/Programmierung/AdvancedML/Forschungsseminar/data.ipynb#X14sZmlsZQ%3D%3D?line=5'>6</a>\u001b[0m         \u001b[39mif\u001b[39;00m chunk:\n\u001b[1;32m      <a href='vscode-notebook-cell:/Users/sophiabuehl/Programmierung/AdvancedML/Forschungsseminar/data.ipynb#X14sZmlsZQ%3D%3D?line=6'>7</a>\u001b[0m             file\u001b[39m.\u001b[39mwrite(chunk)\n",
      "File \u001b[0;32m/opt/homebrew/lib/python3.9/site-packages/requests/models.py:816\u001b[0m, in \u001b[0;36mResponse.iter_content.<locals>.generate\u001b[0;34m()\u001b[0m\n\u001b[1;32m    814\u001b[0m \u001b[39mif\u001b[39;00m \u001b[39mhasattr\u001b[39m(\u001b[39mself\u001b[39m\u001b[39m.\u001b[39mraw, \u001b[39m\"\u001b[39m\u001b[39mstream\u001b[39m\u001b[39m\"\u001b[39m):\n\u001b[1;32m    815\u001b[0m     \u001b[39mtry\u001b[39;00m:\n\u001b[0;32m--> 816\u001b[0m         \u001b[39myield from\u001b[39;00m \u001b[39mself\u001b[39m\u001b[39m.\u001b[39mraw\u001b[39m.\u001b[39mstream(chunk_size, decode_content\u001b[39m=\u001b[39m\u001b[39mTrue\u001b[39;00m)\n\u001b[1;32m    817\u001b[0m     \u001b[39mexcept\u001b[39;00m ProtocolError \u001b[39mas\u001b[39;00m e:\n\u001b[1;32m    818\u001b[0m         \u001b[39mraise\u001b[39;00m ChunkedEncodingError(e)\n",
      "File \u001b[0;32m/opt/homebrew/lib/python3.9/site-packages/urllib3/response.py:576\u001b[0m, in \u001b[0;36mHTTPResponse.stream\u001b[0;34m(self, amt, decode_content)\u001b[0m\n\u001b[1;32m    574\u001b[0m \u001b[39melse\u001b[39;00m:\n\u001b[1;32m    575\u001b[0m     \u001b[39mwhile\u001b[39;00m \u001b[39mnot\u001b[39;00m is_fp_closed(\u001b[39mself\u001b[39m\u001b[39m.\u001b[39m_fp):\n\u001b[0;32m--> 576\u001b[0m         data \u001b[39m=\u001b[39m \u001b[39mself\u001b[39;49m\u001b[39m.\u001b[39;49mread(amt\u001b[39m=\u001b[39;49mamt, decode_content\u001b[39m=\u001b[39;49mdecode_content)\n\u001b[1;32m    578\u001b[0m         \u001b[39mif\u001b[39;00m data:\n\u001b[1;32m    579\u001b[0m             \u001b[39myield\u001b[39;00m data\n",
      "File \u001b[0;32m/opt/homebrew/lib/python3.9/site-packages/urllib3/response.py:519\u001b[0m, in \u001b[0;36mHTTPResponse.read\u001b[0;34m(self, amt, decode_content, cache_content)\u001b[0m\n\u001b[1;32m    517\u001b[0m \u001b[39melse\u001b[39;00m:\n\u001b[1;32m    518\u001b[0m     cache_content \u001b[39m=\u001b[39m \u001b[39mFalse\u001b[39;00m\n\u001b[0;32m--> 519\u001b[0m     data \u001b[39m=\u001b[39m \u001b[39mself\u001b[39;49m\u001b[39m.\u001b[39;49m_fp\u001b[39m.\u001b[39;49mread(amt) \u001b[39mif\u001b[39;00m \u001b[39mnot\u001b[39;00m fp_closed \u001b[39melse\u001b[39;00m \u001b[39mb\u001b[39m\u001b[39m\"\u001b[39m\u001b[39m\"\u001b[39m\n\u001b[1;32m    520\u001b[0m     \u001b[39mif\u001b[39;00m (\n\u001b[1;32m    521\u001b[0m         amt \u001b[39m!=\u001b[39m \u001b[39m0\u001b[39m \u001b[39mand\u001b[39;00m \u001b[39mnot\u001b[39;00m data\n\u001b[1;32m    522\u001b[0m     ):  \u001b[39m# Platform-specific: Buggy versions of Python.\u001b[39;00m\n\u001b[0;32m   (...)\u001b[0m\n\u001b[1;32m    528\u001b[0m         \u001b[39m# not properly close the connection in all cases. There is\u001b[39;00m\n\u001b[1;32m    529\u001b[0m         \u001b[39m# no harm in redundantly calling close.\u001b[39;00m\n\u001b[1;32m    530\u001b[0m         \u001b[39mself\u001b[39m\u001b[39m.\u001b[39m_fp\u001b[39m.\u001b[39mclose()\n",
      "File \u001b[0;32m/opt/homebrew/Cellar/python@3.9/3.9.10/Frameworks/Python.framework/Versions/3.9/lib/python3.9/http/client.py:463\u001b[0m, in \u001b[0;36mHTTPResponse.read\u001b[0;34m(self, amt)\u001b[0m\n\u001b[1;32m    460\u001b[0m \u001b[39mif\u001b[39;00m amt \u001b[39mis\u001b[39;00m \u001b[39mnot\u001b[39;00m \u001b[39mNone\u001b[39;00m:\n\u001b[1;32m    461\u001b[0m     \u001b[39m# Amount is given, implement using readinto\u001b[39;00m\n\u001b[1;32m    462\u001b[0m     b \u001b[39m=\u001b[39m \u001b[39mbytearray\u001b[39m(amt)\n\u001b[0;32m--> 463\u001b[0m     n \u001b[39m=\u001b[39m \u001b[39mself\u001b[39;49m\u001b[39m.\u001b[39;49mreadinto(b)\n\u001b[1;32m    464\u001b[0m     \u001b[39mreturn\u001b[39;00m \u001b[39mmemoryview\u001b[39m(b)[:n]\u001b[39m.\u001b[39mtobytes()\n\u001b[1;32m    465\u001b[0m \u001b[39melse\u001b[39;00m:\n\u001b[1;32m    466\u001b[0m     \u001b[39m# Amount is not given (unbounded read) so we must check self.length\u001b[39;00m\n\u001b[1;32m    467\u001b[0m     \u001b[39m# and self.chunked\u001b[39;00m\n",
      "File \u001b[0;32m/opt/homebrew/Cellar/python@3.9/3.9.10/Frameworks/Python.framework/Versions/3.9/lib/python3.9/http/client.py:507\u001b[0m, in \u001b[0;36mHTTPResponse.readinto\u001b[0;34m(self, b)\u001b[0m\n\u001b[1;32m    502\u001b[0m         b \u001b[39m=\u001b[39m \u001b[39mmemoryview\u001b[39m(b)[\u001b[39m0\u001b[39m:\u001b[39mself\u001b[39m\u001b[39m.\u001b[39mlength]\n\u001b[1;32m    504\u001b[0m \u001b[39m# we do not use _safe_read() here because this may be a .will_close\u001b[39;00m\n\u001b[1;32m    505\u001b[0m \u001b[39m# connection, and the user is reading more bytes than will be provided\u001b[39;00m\n\u001b[1;32m    506\u001b[0m \u001b[39m# (for example, reading in 1k chunks)\u001b[39;00m\n\u001b[0;32m--> 507\u001b[0m n \u001b[39m=\u001b[39m \u001b[39mself\u001b[39;49m\u001b[39m.\u001b[39;49mfp\u001b[39m.\u001b[39;49mreadinto(b)\n\u001b[1;32m    508\u001b[0m \u001b[39mif\u001b[39;00m \u001b[39mnot\u001b[39;00m n \u001b[39mand\u001b[39;00m b:\n\u001b[1;32m    509\u001b[0m     \u001b[39m# Ideally, we would raise IncompleteRead if the content-length\u001b[39;00m\n\u001b[1;32m    510\u001b[0m     \u001b[39m# wasn't satisfied, but it might break compatibility.\u001b[39;00m\n\u001b[1;32m    511\u001b[0m     \u001b[39mself\u001b[39m\u001b[39m.\u001b[39m_close_conn()\n",
      "File \u001b[0;32m/opt/homebrew/Cellar/python@3.9/3.9.10/Frameworks/Python.framework/Versions/3.9/lib/python3.9/socket.py:704\u001b[0m, in \u001b[0;36mSocketIO.readinto\u001b[0;34m(self, b)\u001b[0m\n\u001b[1;32m    702\u001b[0m \u001b[39mwhile\u001b[39;00m \u001b[39mTrue\u001b[39;00m:\n\u001b[1;32m    703\u001b[0m     \u001b[39mtry\u001b[39;00m:\n\u001b[0;32m--> 704\u001b[0m         \u001b[39mreturn\u001b[39;00m \u001b[39mself\u001b[39;49m\u001b[39m.\u001b[39;49m_sock\u001b[39m.\u001b[39;49mrecv_into(b)\n\u001b[1;32m    705\u001b[0m     \u001b[39mexcept\u001b[39;00m timeout:\n\u001b[1;32m    706\u001b[0m         \u001b[39mself\u001b[39m\u001b[39m.\u001b[39m_timeout_occurred \u001b[39m=\u001b[39m \u001b[39mTrue\u001b[39;00m\n",
      "File \u001b[0;32m/opt/homebrew/Cellar/python@3.9/3.9.10/Frameworks/Python.framework/Versions/3.9/lib/python3.9/ssl.py:1241\u001b[0m, in \u001b[0;36mSSLSocket.recv_into\u001b[0;34m(self, buffer, nbytes, flags)\u001b[0m\n\u001b[1;32m   1237\u001b[0m     \u001b[39mif\u001b[39;00m flags \u001b[39m!=\u001b[39m \u001b[39m0\u001b[39m:\n\u001b[1;32m   1238\u001b[0m         \u001b[39mraise\u001b[39;00m \u001b[39mValueError\u001b[39;00m(\n\u001b[1;32m   1239\u001b[0m           \u001b[39m\"\u001b[39m\u001b[39mnon-zero flags not allowed in calls to recv_into() on \u001b[39m\u001b[39m%s\u001b[39;00m\u001b[39m\"\u001b[39m \u001b[39m%\u001b[39m\n\u001b[1;32m   1240\u001b[0m           \u001b[39mself\u001b[39m\u001b[39m.\u001b[39m\u001b[39m__class__\u001b[39m)\n\u001b[0;32m-> 1241\u001b[0m     \u001b[39mreturn\u001b[39;00m \u001b[39mself\u001b[39;49m\u001b[39m.\u001b[39;49mread(nbytes, buffer)\n\u001b[1;32m   1242\u001b[0m \u001b[39melse\u001b[39;00m:\n\u001b[1;32m   1243\u001b[0m     \u001b[39mreturn\u001b[39;00m \u001b[39msuper\u001b[39m()\u001b[39m.\u001b[39mrecv_into(buffer, nbytes, flags)\n",
      "File \u001b[0;32m/opt/homebrew/Cellar/python@3.9/3.9.10/Frameworks/Python.framework/Versions/3.9/lib/python3.9/ssl.py:1099\u001b[0m, in \u001b[0;36mSSLSocket.read\u001b[0;34m(self, len, buffer)\u001b[0m\n\u001b[1;32m   1097\u001b[0m \u001b[39mtry\u001b[39;00m:\n\u001b[1;32m   1098\u001b[0m     \u001b[39mif\u001b[39;00m buffer \u001b[39mis\u001b[39;00m \u001b[39mnot\u001b[39;00m \u001b[39mNone\u001b[39;00m:\n\u001b[0;32m-> 1099\u001b[0m         \u001b[39mreturn\u001b[39;00m \u001b[39mself\u001b[39;49m\u001b[39m.\u001b[39;49m_sslobj\u001b[39m.\u001b[39;49mread(\u001b[39mlen\u001b[39;49m, buffer)\n\u001b[1;32m   1100\u001b[0m     \u001b[39melse\u001b[39;00m:\n\u001b[1;32m   1101\u001b[0m         \u001b[39mreturn\u001b[39;00m \u001b[39mself\u001b[39m\u001b[39m.\u001b[39m_sslobj\u001b[39m.\u001b[39mread(\u001b[39mlen\u001b[39m)\n",
      "\u001b[0;31mKeyboardInterrupt\u001b[0m: "
     ]
    }
   ],
   "source": [
    "# Funktion zum Herunterladen der Datei\n",
    "def download_file(url, file_path):\n",
    "    response = requests.get(url, stream=True)\n",
    "    with open(file_path, 'wb') as file:\n",
    "        for chunk in response.iter_content(chunk_size=1024):\n",
    "            if chunk:\n",
    "                file.write(chunk)\n",
    "\n",
    "# Herunterladen des Wikipedia-Artikeldumps\n",
    "download_file(DUMP_URL, DUMP_FILE_ZIP)"
   ]
  },
  {
   "attachments": {},
   "cell_type": "markdown",
   "metadata": {},
   "source": [
    "### XML Dump entpacken"
   ]
  },
  {
   "cell_type": "code",
   "execution_count": null,
   "metadata": {},
   "outputs": [],
   "source": [
    "# unzip the xml-dump and save it\n",
    "with open(DUMP_FILE_ENTPACKT, 'wb') as new_file, bz2.BZ2File(DUMP_FILE_ZIP, 'rb') as file:\n",
    "    for data in iter(lambda : file.read(100 * 1024), b''):\n",
    "        new_file.write(data)"
   ]
  },
  {
   "attachments": {},
   "cell_type": "markdown",
   "metadata": {},
   "source": [
    "### Artikel aufbereiten und sortieren nach Label"
   ]
  },
  {
   "cell_type": "code",
   "execution_count": 11,
   "metadata": {},
   "outputs": [
    {
     "name": "stdout",
     "output_type": "stream",
     "text": [
      "### Wikipedia Dump ###\n",
      "Wikipedia dewiki\n",
      "### Exzelente Aritkel ###\n",
      " Verarbeitete Artikel: 1 davon exzellent: 0"
     ]
    },
    {
     "name": "stdout",
     "output_type": "stream",
     "text": [
      " Verarbeitete Artikel: 61 davon exzellent: 4"
     ]
    },
    {
     "name": "stderr",
     "output_type": "stream",
     "text": [
      "Exception in thread Thread-3214:\n",
      "Traceback (most recent call last):\n",
      "  File \"/opt/homebrew/Cellar/python@3.9/3.9.10/Frameworks/Python.framework/Versions/3.9/lib/python3.9/threading.py\", line 973, in _bootstrap_inner\n",
      "    self.run()\n",
      "  File \"/opt/homebrew/Cellar/python@3.9/3.9.10/Frameworks/Python.framework/Versions/3.9/lib/python3.9/threading.py\", line 910, in run\n",
      "    self._target(*self._args, **self._kwargs)\n",
      "  File \"/var/folders/01/1jhjxsz50y902wkbvgv3nj5r0000gn/T/ipykernel_18094/3831573612.py\", line 34, in clean_save_article\n",
      "  File \"/Users/sophiabuehl/Library/Python/3.9/lib/python/site-packages/IPython/core/interactiveshell.py\", line 282, in _modified_open\n",
      "    return io_open(file, *args, **kwargs)\n",
      "FileExistsError: [Errno 17] File exists: './data/exzellent/96.txt'\n"
     ]
    },
    {
     "name": "stdout",
     "output_type": "stream",
     "text": [
      " Verarbeitete Artikel: 64 davon exzellent: 4"
     ]
    },
    {
     "name": "stderr",
     "output_type": "stream",
     "text": [
      "Exception in thread Thread-3220:\n",
      "Traceback (most recent call last):\n",
      "  File \"/opt/homebrew/Cellar/python@3.9/3.9.10/Frameworks/Python.framework/Versions/3.9/lib/python3.9/threading.py\", line 973, in _bootstrap_inner\n",
      "    self.run()\n",
      "  File \"/opt/homebrew/Cellar/python@3.9/3.9.10/Frameworks/Python.framework/Versions/3.9/lib/python3.9/threading.py\", line 910, in run\n",
      "    self._target(*self._args, **self._kwargs)\n",
      "  File \"/var/folders/01/1jhjxsz50y902wkbvgv3nj5r0000gn/T/ipykernel_18094/3831573612.py\", line 34, in clean_save_article\n",
      "  File \"/Users/sophiabuehl/Library/Python/3.9/lib/python/site-packages/IPython/core/interactiveshell.py\", line 282, in _modified_open\n",
      "    return io_open(file, *args, **kwargs)\n",
      "FileExistsError: [Errno 17] File exists: './data/exzellent/102.txt'\n"
     ]
    },
    {
     "name": "stdout",
     "output_type": "stream",
     "text": [
      " Verarbeitete Artikel: 81 davon exzellent: 4"
     ]
    },
    {
     "name": "stderr",
     "output_type": "stream",
     "text": [
      "Exception in thread Thread-3215:\n",
      "Traceback (most recent call last):\n",
      "  File \"/opt/homebrew/Cellar/python@3.9/3.9.10/Frameworks/Python.framework/Versions/3.9/lib/python3.9/threading.py\", line 973, in _bootstrap_inner\n",
      "    self.run()\n",
      "  File \"/opt/homebrew/Cellar/python@3.9/3.9.10/Frameworks/Python.framework/Versions/3.9/lib/python3.9/threading.py\", line 910, in run\n",
      "    self._target(*self._args, **self._kwargs)\n",
      "  File \"/var/folders/01/1jhjxsz50y902wkbvgv3nj5r0000gn/T/ipykernel_18094/3831573612.py\", line 34, in clean_save_article\n",
      "  File \"/Users/sophiabuehl/Library/Python/3.9/lib/python/site-packages/IPython/core/interactiveshell.py\", line 282, in _modified_open\n",
      "    return io_open(file, *args, **kwargs)\n",
      "FileExistsError: [Errno 17] File exists: './data/exzellent/97.txt'\n"
     ]
    },
    {
     "name": "stdout",
     "output_type": "stream",
     "text": [
      " Verarbeitete Artikel: 86 davon exzellent: 6"
     ]
    },
    {
     "name": "stderr",
     "output_type": "stream",
     "text": [
      "Exception in thread Thread-3219:\n",
      "Traceback (most recent call last):\n",
      "  File \"/opt/homebrew/Cellar/python@3.9/3.9.10/Frameworks/Python.framework/Versions/3.9/lib/python3.9/threading.py\", line 973, in _bootstrap_inner\n",
      "    self.run()\n",
      "  File \"/opt/homebrew/Cellar/python@3.9/3.9.10/Frameworks/Python.framework/Versions/3.9/lib/python3.9/threading.py\", line 910, in run\n",
      "    self._target(*self._args, **self._kwargs)\n",
      "  File \"/var/folders/01/1jhjxsz50y902wkbvgv3nj5r0000gn/T/ipykernel_18094/3831573612.py\", line 34, in clean_save_article\n",
      "  File \"/Users/sophiabuehl/Library/Python/3.9/lib/python/site-packages/IPython/core/interactiveshell.py\", line 282, in _modified_open\n",
      "    return io_open(file, *args, **kwargs)\n",
      "FileExistsError: [Errno 17] File exists: './data/exzellent/101.txt'\n"
     ]
    },
    {
     "name": "stdout",
     "output_type": "stream",
     "text": [
      " Verarbeitete Artikel: 108 davon exzellent: 6"
     ]
    },
    {
     "name": "stderr",
     "output_type": "stream",
     "text": [
      "Exception in thread Thread-3247:\n",
      "Traceback (most recent call last):\n",
      "  File \"/opt/homebrew/Cellar/python@3.9/3.9.10/Frameworks/Python.framework/Versions/3.9/lib/python3.9/threading.py\", line 973, in _bootstrap_inner\n",
      "    self.run()\n",
      "  File \"/opt/homebrew/Cellar/python@3.9/3.9.10/Frameworks/Python.framework/Versions/3.9/lib/python3.9/threading.py\", line 910, in run\n",
      "    self._target(*self._args, **self._kwargs)\n",
      "  File \"/var/folders/01/1jhjxsz50y902wkbvgv3nj5r0000gn/T/ipykernel_18094/3831573612.py\", line 34, in clean_save_article\n",
      "  File \"/Users/sophiabuehl/Library/Python/3.9/lib/python/site-packages/IPython/core/interactiveshell.py\", line 282, in _modified_open\n",
      "    return io_open(file, *args, **kwargs)\n",
      "FileExistsError: [Errno 17] File exists: './data/exzellent/141.txt'\n"
     ]
    },
    {
     "name": "stdout",
     "output_type": "stream",
     "text": [
      " Verarbeitete Artikel: 158 davon exzellent: 7"
     ]
    },
    {
     "name": "stderr",
     "output_type": "stream",
     "text": [
      "Exception in thread Thread-3246:\n",
      "Traceback (most recent call last):\n",
      "  File \"/opt/homebrew/Cellar/python@3.9/3.9.10/Frameworks/Python.framework/Versions/3.9/lib/python3.9/threading.py\", line 973, in _bootstrap_inner\n",
      "    self.run()\n",
      "  File \"/opt/homebrew/Cellar/python@3.9/3.9.10/Frameworks/Python.framework/Versions/3.9/lib/python3.9/threading.py\", line 910, in run\n",
      "    self._target(*self._args, **self._kwargs)\n",
      "  File \"/var/folders/01/1jhjxsz50y902wkbvgv3nj5r0000gn/T/ipykernel_18094/3831573612.py\", line 34, in clean_save_article\n",
      "  File \"/Users/sophiabuehl/Library/Python/3.9/lib/python/site-packages/IPython/core/interactiveshell.py\", line 282, in _modified_open\n",
      "    return io_open(file, *args, **kwargs)\n",
      "FileExistsError: [Errno 17] File exists: './data/exzellent/140.txt'\n"
     ]
    },
    {
     "name": "stdout",
     "output_type": "stream",
     "text": [
      " Verarbeitete Artikel: 173 davon exzellent: 8"
     ]
    },
    {
     "name": "stderr",
     "output_type": "stream",
     "text": [
      "Exception in thread Thread-3273:\n",
      "Traceback (most recent call last):\n",
      "  File \"/opt/homebrew/Cellar/python@3.9/3.9.10/Frameworks/Python.framework/Versions/3.9/lib/python3.9/threading.py\", line 973, in _bootstrap_inner\n",
      "    self.run()\n",
      "  File \"/opt/homebrew/Cellar/python@3.9/3.9.10/Frameworks/Python.framework/Versions/3.9/lib/python3.9/threading.py\", line 910, in run\n",
      "    self._target(*self._args, **self._kwargs)\n",
      "  File \"/var/folders/01/1jhjxsz50y902wkbvgv3nj5r0000gn/T/ipykernel_18094/3831573612.py\", line 34, in clean_save_article\n",
      "  File \"/Users/sophiabuehl/Library/Python/3.9/lib/python/site-packages/IPython/core/interactiveshell.py\", line 282, in _modified_open\n",
      "    return io_open(file, *args, **kwargs)\n",
      "FileExistsError: [Errno 17] File exists: './data/exzellent/179.txt'\n"
     ]
    },
    {
     "name": "stdout",
     "output_type": "stream",
     "text": [
      " Verarbeitete Artikel: 188 davon exzellent: 9"
     ]
    },
    {
     "name": "stderr",
     "output_type": "stream",
     "text": [
      "Exception in thread Thread-3323:\n",
      "Traceback (most recent call last):\n",
      "  File \"/opt/homebrew/Cellar/python@3.9/3.9.10/Frameworks/Python.framework/Versions/3.9/lib/python3.9/threading.py\", line 973, in _bootstrap_inner\n",
      "    self.run()\n",
      "  File \"/opt/homebrew/Cellar/python@3.9/3.9.10/Frameworks/Python.framework/Versions/3.9/lib/python3.9/threading.py\", line 910, in run\n",
      "    self._target(*self._args, **self._kwargs)\n",
      "  File \"/var/folders/01/1jhjxsz50y902wkbvgv3nj5r0000gn/T/ipykernel_18094/3831573612.py\", line 34, in clean_save_article\n",
      "  File \"/Users/sophiabuehl/Library/Python/3.9/lib/python/site-packages/IPython/core/interactiveshell.py\", line 282, in _modified_open\n",
      "    return io_open(file, *args, **kwargs)\n",
      "FileExistsError: [Errno 17] File exists: './data/exzellent/245.txt'\n"
     ]
    },
    {
     "name": "stdout",
     "output_type": "stream",
     "text": [
      " Verarbeitete Artikel: 246 davon exzellent: 11"
     ]
    },
    {
     "name": "stderr",
     "output_type": "stream",
     "text": [
      "Exception in thread Thread-3357:\n",
      "Traceback (most recent call last):\n",
      "  File \"/opt/homebrew/Cellar/python@3.9/3.9.10/Frameworks/Python.framework/Versions/3.9/lib/python3.9/threading.py\", line 973, in _bootstrap_inner\n",
      "    self.run()\n",
      "  File \"/opt/homebrew/Cellar/python@3.9/3.9.10/Frameworks/Python.framework/Versions/3.9/lib/python3.9/threading.py\", line 910, in run\n",
      "    self._target(*self._args, **self._kwargs)\n",
      "  File \"/var/folders/01/1jhjxsz50y902wkbvgv3nj5r0000gn/T/ipykernel_18094/3831573612.py\", line 34, in clean_save_article\n",
      "  File \"/Users/sophiabuehl/Library/Python/3.9/lib/python/site-packages/IPython/core/interactiveshell.py\", line 282, in _modified_open\n",
      "    return io_open(file, *args, **kwargs)\n",
      "FileExistsError: [Errno 17] File exists: './data/exzellent/290.txt'\n"
     ]
    },
    {
     "name": "stdout",
     "output_type": "stream",
     "text": [
      " Verarbeitete Artikel: 253 davon exzellent: 11"
     ]
    },
    {
     "name": "stderr",
     "output_type": "stream",
     "text": [
      "Exception in thread Thread-3401:\n",
      "Traceback (most recent call last):\n",
      "  File \"/opt/homebrew/Cellar/python@3.9/3.9.10/Frameworks/Python.framework/Versions/3.9/lib/python3.9/threading.py\", line 973, in _bootstrap_inner\n",
      "    self.run()\n",
      "  File \"/opt/homebrew/Cellar/python@3.9/3.9.10/Frameworks/Python.framework/Versions/3.9/lib/python3.9/threading.py\", line 910, in run\n",
      "    self._target(*self._args, **self._kwargs)\n",
      "  File \"/var/folders/01/1jhjxsz50y902wkbvgv3nj5r0000gn/T/ipykernel_18094/3831573612.py\", line 34, in clean_save_article\n",
      "  File \"/Users/sophiabuehl/Library/Python/3.9/lib/python/site-packages/IPython/core/interactiveshell.py\", line 282, in _modified_open\n",
      "    return io_open(file, *args, **kwargs)\n",
      "FileExistsError: [Errno 17] File exists: './data/exzellent/352.txt'\n"
     ]
    },
    {
     "name": "stdout",
     "output_type": "stream",
     "text": [
      " Verarbeitete Artikel: 257 davon exzellent: 11"
     ]
    },
    {
     "name": "stderr",
     "output_type": "stream",
     "text": [
      "Exception in thread Thread-3346:\n",
      "Traceback (most recent call last):\n",
      "  File \"/opt/homebrew/Cellar/python@3.9/3.9.10/Frameworks/Python.framework/Versions/3.9/lib/python3.9/threading.py\", line 973, in _bootstrap_inner\n",
      "    self.run()\n",
      "  File \"/opt/homebrew/Cellar/python@3.9/3.9.10/Frameworks/Python.framework/Versions/3.9/lib/python3.9/threading.py\", line 910, in run\n",
      "    self._target(*self._args, **self._kwargs)\n",
      "  File \"/var/folders/01/1jhjxsz50y902wkbvgv3nj5r0000gn/T/ipykernel_18094/3831573612.py\", line 34, in clean_save_article\n",
      "  File \"/Users/sophiabuehl/Library/Python/3.9/lib/python/site-packages/IPython/core/interactiveshell.py\", line 282, in _modified_open\n",
      "    return io_open(file, *args, **kwargs)\n",
      "FileExistsError: [Errno 17] File exists: './data/exzellent/271.txt'\n"
     ]
    },
    {
     "name": "stdout",
     "output_type": "stream",
     "text": [
      " Verarbeitete Artikel: 323 davon exzellent: 12"
     ]
    },
    {
     "name": "stderr",
     "output_type": "stream",
     "text": [
      "Exception in thread Thread-3466:\n",
      "Traceback (most recent call last):\n",
      "  File \"/opt/homebrew/Cellar/python@3.9/3.9.10/Frameworks/Python.framework/Versions/3.9/lib/python3.9/threading.py\", line 973, in _bootstrap_inner\n",
      "    self.run()\n",
      "  File \"/opt/homebrew/Cellar/python@3.9/3.9.10/Frameworks/Python.framework/Versions/3.9/lib/python3.9/threading.py\", line 910, in run\n",
      "    self._target(*self._args, **self._kwargs)\n",
      "  File \"/var/folders/01/1jhjxsz50y902wkbvgv3nj5r0000gn/T/ipykernel_18094/3831573612.py\", line 34, in clean_save_article\n",
      "  File \"/Users/sophiabuehl/Library/Python/3.9/lib/python/site-packages/IPython/core/interactiveshell.py\", line 282, in _modified_open\n",
      "    return io_open(file, *args, **kwargs)\n",
      "FileExistsError: [Errno 17] File exists: './data/exzellent/455.txt'\n"
     ]
    },
    {
     "name": "stdout",
     "output_type": "stream",
     "text": [
      " Verarbeitete Artikel: 350 davon exzellent: 14"
     ]
    },
    {
     "name": "stderr",
     "output_type": "stream",
     "text": [
      "Exception in thread Thread-3496:\n",
      "Traceback (most recent call last):\n",
      "  File \"/opt/homebrew/Cellar/python@3.9/3.9.10/Frameworks/Python.framework/Versions/3.9/lib/python3.9/threading.py\", line 973, in _bootstrap_inner\n",
      "    self.run()\n",
      "  File \"/opt/homebrew/Cellar/python@3.9/3.9.10/Frameworks/Python.framework/Versions/3.9/lib/python3.9/threading.py\", line 910, in run\n",
      "    self._target(*self._args, **self._kwargs)\n",
      "  File \"/var/folders/01/1jhjxsz50y902wkbvgv3nj5r0000gn/T/ipykernel_18094/3831573612.py\", line 34, in clean_save_article\n",
      "  File \"/Users/sophiabuehl/Library/Python/3.9/lib/python/site-packages/IPython/core/interactiveshell.py\", line 282, in _modified_open\n",
      "    return io_open(file, *args, **kwargs)\n",
      "FileExistsError: [Errno 17] File exists: './data/exzellent/492.txt'\n"
     ]
    },
    {
     "name": "stdout",
     "output_type": "stream",
     "text": [
      " Verarbeitete Artikel: 364 davon exzellent: 15"
     ]
    },
    {
     "name": "stderr",
     "output_type": "stream",
     "text": [
      "Exception in thread Thread-3495:\n",
      "Traceback (most recent call last):\n",
      "  File \"/opt/homebrew/Cellar/python@3.9/3.9.10/Frameworks/Python.framework/Versions/3.9/lib/python3.9/threading.py\", line 973, in _bootstrap_inner\n",
      "    self.run()\n",
      "  File \"/opt/homebrew/Cellar/python@3.9/3.9.10/Frameworks/Python.framework/Versions/3.9/lib/python3.9/threading.py\", line 910, in run\n",
      "    self._target(*self._args, **self._kwargs)\n",
      "  File \"/var/folders/01/1jhjxsz50y902wkbvgv3nj5r0000gn/T/ipykernel_18094/3831573612.py\", line 34, in clean_save_article\n",
      "  File \"/Users/sophiabuehl/Library/Python/3.9/lib/python/site-packages/IPython/core/interactiveshell.py\", line 282, in _modified_open\n",
      "    return io_open(file, *args, **kwargs)\n",
      "FileExistsError: [Errno 17] File exists: './data/exzellent/491.txt'\n"
     ]
    },
    {
     "name": "stdout",
     "output_type": "stream",
     "text": [
      " Verarbeitete Artikel: 376 davon exzellent: 15"
     ]
    },
    {
     "name": "stderr",
     "output_type": "stream",
     "text": [
      "Exception in thread Thread-3519:\n",
      "Traceback (most recent call last):\n",
      "  File \"/opt/homebrew/Cellar/python@3.9/3.9.10/Frameworks/Python.framework/Versions/3.9/lib/python3.9/threading.py\", line 973, in _bootstrap_inner\n",
      "    self.run()\n",
      "  File \"/opt/homebrew/Cellar/python@3.9/3.9.10/Frameworks/Python.framework/Versions/3.9/lib/python3.9/threading.py\", line 910, in run\n",
      "    self._target(*self._args, **self._kwargs)\n",
      "  File \"/var/folders/01/1jhjxsz50y902wkbvgv3nj5r0000gn/T/ipykernel_18094/3831573612.py\", line 34, in clean_save_article\n",
      "  File \"/Users/sophiabuehl/Library/Python/3.9/lib/python/site-packages/IPython/core/interactiveshell.py\", line 282, in _modified_open\n",
      "    return io_open(file, *args, **kwargs)\n",
      "FileExistsError: [Errno 17] File exists: './data/exzellent/538.txt'\n"
     ]
    },
    {
     "name": "stdout",
     "output_type": "stream",
     "text": [
      " Verarbeitete Artikel: 417 davon exzellent: 16"
     ]
    },
    {
     "name": "stderr",
     "output_type": "stream",
     "text": [
      "Exception in thread Thread-3551:\n",
      "Traceback (most recent call last):\n",
      "  File \"/opt/homebrew/Cellar/python@3.9/3.9.10/Frameworks/Python.framework/Versions/3.9/lib/python3.9/threading.py\", line 973, in _bootstrap_inner\n",
      "    self.run()\n",
      "  File \"/opt/homebrew/Cellar/python@3.9/3.9.10/Frameworks/Python.framework/Versions/3.9/lib/python3.9/threading.py\", line 910, in run\n",
      "    self._target(*self._args, **self._kwargs)\n",
      "  File \"/var/folders/01/1jhjxsz50y902wkbvgv3nj5r0000gn/T/ipykernel_18094/3831573612.py\", line 34, in clean_save_article\n",
      "  File \"/Users/sophiabuehl/Library/Python/3.9/lib/python/site-packages/IPython/core/interactiveshell.py\", line 282, in _modified_open\n",
      "    return io_open(file, *args, **kwargs)\n",
      "FileExistsError: [Errno 17] File exists: './data/exzellent/585.txt'\n"
     ]
    },
    {
     "name": "stdout",
     "output_type": "stream",
     "text": [
      " Verarbeitete Artikel: 458 davon exzellent: 19"
     ]
    },
    {
     "name": "stderr",
     "output_type": "stream",
     "text": [
      "Exception in thread Thread-3591:\n",
      "Traceback (most recent call last):\n",
      "  File \"/opt/homebrew/Cellar/python@3.9/3.9.10/Frameworks/Python.framework/Versions/3.9/lib/python3.9/threading.py\", line 973, in _bootstrap_inner\n",
      "    self.run()\n",
      "  File \"/opt/homebrew/Cellar/python@3.9/3.9.10/Frameworks/Python.framework/Versions/3.9/lib/python3.9/threading.py\", line 910, in run\n",
      "    self._target(*self._args, **self._kwargs)\n",
      "  File \"/var/folders/01/1jhjxsz50y902wkbvgv3nj5r0000gn/T/ipykernel_18094/3831573612.py\", line 34, in clean_save_article\n",
      "  File \"/Users/sophiabuehl/Library/Python/3.9/lib/python/site-packages/IPython/core/interactiveshell.py\", line 282, in _modified_open\n",
      "    return io_open(file, *args, **kwargs)\n",
      "FileExistsError: [Errno 17] File exists: './data/exzellent/639.txt'\n"
     ]
    },
    {
     "name": "stdout",
     "output_type": "stream",
     "text": [
      " Verarbeitete Artikel: 470 davon exzellent: 19"
     ]
    },
    {
     "name": "stderr",
     "output_type": "stream",
     "text": [
      "Exception in thread Thread-3619:\n",
      "Traceback (most recent call last):\n",
      "  File \"/opt/homebrew/Cellar/python@3.9/3.9.10/Frameworks/Python.framework/Versions/3.9/lib/python3.9/threading.py\", line 973, in _bootstrap_inner\n"
     ]
    },
    {
     "name": "stdout",
     "output_type": "stream",
     "text": [
      " Verarbeitete Artikel: 472 davon exzellent: 19"
     ]
    },
    {
     "name": "stderr",
     "output_type": "stream",
     "text": [
      "    self.run()\n",
      "  File \"/opt/homebrew/Cellar/python@3.9/3.9.10/Frameworks/Python.framework/Versions/3.9/lib/python3.9/threading.py\", line 910, in run\n",
      "    self._target(*self._args, **self._kwargs)\n",
      "  File \"/var/folders/01/1jhjxsz50y902wkbvgv3nj5r0000gn/T/ipykernel_18094/3831573612.py\", line 34, in clean_save_article\n",
      "  File \"/Users/sophiabuehl/Library/Python/3.9/lib/python/site-packages/IPython/core/interactiveshell.py\", line 282, in _modified_open\n",
      "    return io_open(file, *args, **kwargs)\n",
      "FileExistsError: [Errno 17] File exists: './data/exzellent/677.txt'\n"
     ]
    },
    {
     "name": "stdout",
     "output_type": "stream",
     "text": [
      " Verarbeitete Artikel: 503 davon exzellent: 19"
     ]
    },
    {
     "name": "stderr",
     "output_type": "stream",
     "text": [
      "Exception in thread Thread-3611:\n",
      "Traceback (most recent call last):\n",
      "  File \"/opt/homebrew/Cellar/python@3.9/3.9.10/Frameworks/Python.framework/Versions/3.9/lib/python3.9/threading.py\", line 973, in _bootstrap_inner\n",
      "    self.run()\n",
      "  File \"/opt/homebrew/Cellar/python@3.9/3.9.10/Frameworks/Python.framework/Versions/3.9/lib/python3.9/threading.py\", line 910, in run\n",
      "    self._target(*self._args, **self._kwargs)\n",
      "  File \"/var/folders/01/1jhjxsz50y902wkbvgv3nj5r0000gn/T/ipykernel_18094/3831573612.py\", line 34, in clean_save_article\n",
      "  File \"/Users/sophiabuehl/Library/Python/3.9/lib/python/site-packages/IPython/core/interactiveshell.py\", line 282, in _modified_open\n",
      "    return io_open(file, *args, **kwargs)\n",
      "FileExistsError: [Errno 17] File exists: './data/exzellent/663.txt'\n"
     ]
    },
    {
     "name": "stdout",
     "output_type": "stream",
     "text": [
      " Verarbeitete Artikel: 522 davon exzellent: 21"
     ]
    },
    {
     "name": "stderr",
     "output_type": "stream",
     "text": [
      "Exception in thread Thread-3678:\n",
      "Traceback (most recent call last):\n",
      "  File \"/opt/homebrew/Cellar/python@3.9/3.9.10/Frameworks/Python.framework/Versions/3.9/lib/python3.9/threading.py\", line 973, in _bootstrap_inner\n",
      "    self.run()\n",
      "  File \"/opt/homebrew/Cellar/python@3.9/3.9.10/Frameworks/Python.framework/Versions/3.9/lib/python3.9/threading.py\", line 910, in run\n",
      "    self._target(*self._args, **self._kwargs)\n",
      "  File \"/var/folders/01/1jhjxsz50y902wkbvgv3nj5r0000gn/T/ipykernel_18094/3831573612.py\", line 34, in clean_save_article\n",
      "  File \"/Users/sophiabuehl/Library/Python/3.9/lib/python/site-packages/IPython/core/interactiveshell.py\", line 282, in _modified_open\n",
      "    return io_open(file, *args, **kwargs)\n",
      "FileExistsError: [Errno 17] File exists: './data/exzellent/757.txt'\n"
     ]
    },
    {
     "name": "stdout",
     "output_type": "stream",
     "text": [
      " Verarbeitete Artikel: 555 davon exzellent: 24"
     ]
    },
    {
     "name": "stderr",
     "output_type": "stream",
     "text": [
      "Exception in thread Thread-3674:\n",
      "Traceback (most recent call last):\n",
      "  File \"/opt/homebrew/Cellar/python@3.9/3.9.10/Frameworks/Python.framework/Versions/3.9/lib/python3.9/threading.py\", line 973, in _bootstrap_inner\n",
      "    self.run()\n",
      "  File \"/opt/homebrew/Cellar/python@3.9/3.9.10/Frameworks/Python.framework/Versions/3.9/lib/python3.9/threading.py\", line 910, in run\n",
      "    self._target(*self._args, **self._kwargs)\n",
      "  File \"/var/folders/01/1jhjxsz50y902wkbvgv3nj5r0000gn/T/ipykernel_18094/3831573612.py\", line 34, in clean_save_article\n",
      "  File \"/Users/sophiabuehl/Library/Python/3.9/lib/python/site-packages/IPython/core/interactiveshell.py\", line 282, in _modified_open\n",
      "    return io_open(file, *args, **kwargs)\n",
      "FileExistsError: [Errno 17] File exists: './data/exzellent/751.txt'\n"
     ]
    },
    {
     "name": "stdout",
     "output_type": "stream",
     "text": [
      " Verarbeitete Artikel: 574 davon exzellent: 25"
     ]
    },
    {
     "name": "stderr",
     "output_type": "stream",
     "text": [
      "Exception in thread Thread-3716:\n",
      "Traceback (most recent call last):\n",
      "  File \"/opt/homebrew/Cellar/python@3.9/3.9.10/Frameworks/Python.framework/Versions/3.9/lib/python3.9/threading.py\", line 973, in _bootstrap_inner\n",
      "    self.run()\n",
      "  File \"/opt/homebrew/Cellar/python@3.9/3.9.10/Frameworks/Python.framework/Versions/3.9/lib/python3.9/threading.py\", line 910, in run\n",
      "    self._target(*self._args, **self._kwargs)\n",
      "  File \"/var/folders/01/1jhjxsz50y902wkbvgv3nj5r0000gn/T/ipykernel_18094/3831573612.py\", line 34, in clean_save_article\n",
      "Exception in thread Thread-3715:\n",
      "Traceback (most recent call last):\n",
      "  File \"/opt/homebrew/Cellar/python@3.9/3.9.10/Frameworks/Python.framework/Versions/3.9/lib/python3.9/threading.py\", line 973, in _bootstrap_inner\n",
      "    self.run()\n",
      "  File \"/opt/homebrew/Cellar/python@3.9/3.9.10/Frameworks/Python.framework/Versions/3.9/lib/python3.9/threading.py\", line 910, in run\n",
      "    self._target(*self._args, **self._kwargs)\n",
      "  File \"/var/folders/01/1jhjxsz50y902wkbvgv3nj5r0000gn/T/ipykernel_18094/3831573612.py\", line 34, in clean_save_article\n",
      "  File \"/Users/sophiabuehl/Library/Python/3.9/lib/python/site-packages/IPython/core/interactiveshell.py\", line 282, in _modified_open\n",
      "    return io_open(file, *args, **kwargs)\n",
      "FileExistsError: [Errno 17] File exists: './data/exzellent/807.txt'\n"
     ]
    },
    {
     "name": "stdout",
     "output_type": "stream",
     "text": [
      " Verarbeitete Artikel: 575 davon exzellent: 25"
     ]
    },
    {
     "name": "stderr",
     "output_type": "stream",
     "text": [
      "  File \"/Users/sophiabuehl/Library/Python/3.9/lib/python/site-packages/IPython/core/interactiveshell.py\", line 282, in _modified_open\n",
      "    return io_open(file, *args, **kwargs)\n",
      "FileExistsError: [Errno 17] File exists: './data/exzellent/809.txt'\n"
     ]
    },
    {
     "name": "stdout",
     "output_type": "stream",
     "text": [
      " Verarbeitete Artikel: 587 davon exzellent: 27"
     ]
    },
    {
     "name": "stderr",
     "output_type": "stream",
     "text": [
      "Exception in thread Thread-3730:\n",
      "Traceback (most recent call last):\n",
      "  File \"/opt/homebrew/Cellar/python@3.9/3.9.10/Frameworks/Python.framework/Versions/3.9/lib/python3.9/threading.py\", line 973, in _bootstrap_inner\n",
      "    self.run()\n",
      "  File \"/opt/homebrew/Cellar/python@3.9/3.9.10/Frameworks/Python.framework/Versions/3.9/lib/python3.9/threading.py\", line 910, in run\n",
      "    self._target(*self._args, **self._kwargs)\n",
      "  File \"/var/folders/01/1jhjxsz50y902wkbvgv3nj5r0000gn/T/ipykernel_18094/3831573612.py\", line 34, in clean_save_article\n",
      "  File \"/Users/sophiabuehl/Library/Python/3.9/lib/python/site-packages/IPython/core/interactiveshell.py\", line 282, in _modified_open\n",
      "    return io_open(file, *args, **kwargs)\n",
      "FileExistsError: [Errno 17] File exists: './data/exzellent/828.txt'\n"
     ]
    },
    {
     "name": "stdout",
     "output_type": "stream",
     "text": [
      " Verarbeitete Artikel: 593 davon exzellent: 27"
     ]
    },
    {
     "name": "stderr",
     "output_type": "stream",
     "text": [
      "Exception in thread Thread-3713:\n",
      "Traceback (most recent call last):\n",
      "  File \"/opt/homebrew/Cellar/python@3.9/3.9.10/Frameworks/Python.framework/Versions/3.9/lib/python3.9/threading.py\", line 973, in _bootstrap_inner\n",
      "    self.run()\n",
      "  File \"/opt/homebrew/Cellar/python@3.9/3.9.10/Frameworks/Python.framework/Versions/3.9/lib/python3.9/threading.py\", line 910, in run\n",
      "    self._target(*self._args, **self._kwargs)\n",
      "  File \"/var/folders/01/1jhjxsz50y902wkbvgv3nj5r0000gn/T/ipykernel_18094/3831573612.py\", line 34, in clean_save_article\n",
      "  File \"/Users/sophiabuehl/Library/Python/3.9/lib/python/site-packages/IPython/core/interactiveshell.py\", line 282, in _modified_open\n",
      "    return io_open(file, *args, **kwargs)\n",
      "FileExistsError: [Errno 17] File exists: './data/exzellent/805.txt'\n"
     ]
    },
    {
     "name": "stdout",
     "output_type": "stream",
     "text": [
      " Verarbeitete Artikel: 604 davon exzellent: 28"
     ]
    },
    {
     "name": "stderr",
     "output_type": "stream",
     "text": [
      "Exception in thread Thread-3739:\n",
      "Traceback (most recent call last):\n",
      "  File \"/opt/homebrew/Cellar/python@3.9/3.9.10/Frameworks/Python.framework/Versions/3.9/lib/python3.9/threading.py\", line 973, in _bootstrap_inner\n",
      "    self.run()\n",
      "  File \"/opt/homebrew/Cellar/python@3.9/3.9.10/Frameworks/Python.framework/Versions/3.9/lib/python3.9/threading.py\", line 910, in run\n",
      "    self._target(*self._args, **self._kwargs)\n",
      "  File \"/var/folders/01/1jhjxsz50y902wkbvgv3nj5r0000gn/T/ipykernel_18094/3831573612.py\", line 34, in clean_save_article\n"
     ]
    },
    {
     "name": "stdout",
     "output_type": "stream",
     "text": [
      " Verarbeitete Artikel: 605 davon exzellent: 28"
     ]
    },
    {
     "name": "stderr",
     "output_type": "stream",
     "text": [
      "  File \"/Users/sophiabuehl/Library/Python/3.9/lib/python/site-packages/IPython/core/interactiveshell.py\", line 282, in _modified_open\n",
      "    return io_open(file, *args, **kwargs)\n",
      "FileExistsError: [Errno 17] File exists: './data/exzellent/845.txt'\n"
     ]
    },
    {
     "name": "stdout",
     "output_type": "stream",
     "text": [
      " Verarbeitete Artikel: 609 davon exzellent: 28"
     ]
    },
    {
     "name": "stderr",
     "output_type": "stream",
     "text": [
      "Exception in thread Thread-3755:\n",
      "Traceback (most recent call last):\n",
      "  File \"/opt/homebrew/Cellar/python@3.9/3.9.10/Frameworks/Python.framework/Versions/3.9/lib/python3.9/threading.py\", line 973, in _bootstrap_inner\n",
      "    self.run()\n",
      "  File \"/opt/homebrew/Cellar/python@3.9/3.9.10/Frameworks/Python.framework/Versions/3.9/lib/python3.9/threading.py\", line 910, in run\n",
      "    self._target(*self._args, **self._kwargs)\n",
      "  File \"/var/folders/01/1jhjxsz50y902wkbvgv3nj5r0000gn/T/ipykernel_18094/3831573612.py\", line 34, in clean_save_article\n",
      "  File \"/Users/sophiabuehl/Library/Python/3.9/lib/python/site-packages/IPython/core/interactiveshell.py\", line 282, in _modified_open\n",
      "    return io_open(file, *args, **kwargs)\n",
      "FileExistsError: [Errno 17] File exists: './data/exzellent/874.txt'\n"
     ]
    },
    {
     "name": "stdout",
     "output_type": "stream",
     "text": [
      " Verarbeitete Artikel: 639 davon exzellent: 29"
     ]
    },
    {
     "name": "stderr",
     "output_type": "stream",
     "text": [
      "Exception in thread Thread-3742:\n",
      "Traceback (most recent call last):\n",
      "  File \"/opt/homebrew/Cellar/python@3.9/3.9.10/Frameworks/Python.framework/Versions/3.9/lib/python3.9/threading.py\", line 973, in _bootstrap_inner\n",
      "    self.run()\n",
      "  File \"/opt/homebrew/Cellar/python@3.9/3.9.10/Frameworks/Python.framework/Versions/3.9/lib/python3.9/threading.py\", line 910, in run\n",
      "    self._target(*self._args, **self._kwargs)\n",
      "  File \"/var/folders/01/1jhjxsz50y902wkbvgv3nj5r0000gn/T/ipykernel_18094/3831573612.py\", line 34, in clean_save_article\n",
      "  File \"/Users/sophiabuehl/Library/Python/3.9/lib/python/site-packages/IPython/core/interactiveshell.py\", line 282, in _modified_open\n",
      "    return io_open(file, *args, **kwargs)\n",
      "FileExistsError: [Errno 17] File exists: './data/exzellent/849.txt'\n"
     ]
    },
    {
     "name": "stdout",
     "output_type": "stream",
     "text": [
      " Verarbeitete Artikel: 693 davon exzellent: 30"
     ]
    },
    {
     "name": "stderr",
     "output_type": "stream",
     "text": [
      "Exception in thread Thread-3835:\n",
      "Traceback (most recent call last):\n",
      "  File \"/opt/homebrew/Cellar/python@3.9/3.9.10/Frameworks/Python.framework/Versions/3.9/lib/python3.9/threading.py\", line 973, in _bootstrap_inner\n",
      "    self.run()\n",
      "  File \"/opt/homebrew/Cellar/python@3.9/3.9.10/Frameworks/Python.framework/Versions/3.9/lib/python3.9/threading.py\", line 910, in run\n",
      "    self._target(*self._args, **self._kwargs)\n",
      "  File \"/var/folders/01/1jhjxsz50y902wkbvgv3nj5r0000gn/T/ipykernel_18094/3831573612.py\", line 34, in clean_save_article\n",
      "  File \"/Users/sophiabuehl/Library/Python/3.9/lib/python/site-packages/IPython/core/interactiveshell.py\", line 282, in _modified_open\n",
      "    return io_open(file, *args, **kwargs)\n",
      "FileExistsError: [Errno 17] File exists: './data/exzellent/994.txt'\n"
     ]
    },
    {
     "name": "stdout",
     "output_type": "stream",
     "text": [
      " Verarbeitete Artikel: 728 davon exzellent: 30"
     ]
    },
    {
     "name": "stderr",
     "output_type": "stream",
     "text": [
      "Exception in thread Thread-3791:\n",
      "Traceback (most recent call last):\n",
      "  File \"/opt/homebrew/Cellar/python@3.9/3.9.10/Frameworks/Python.framework/Versions/3.9/lib/python3.9/threading.py\", line 973, in _bootstrap_inner\n",
      "    self.run()\n",
      "  File \"/opt/homebrew/Cellar/python@3.9/3.9.10/Frameworks/Python.framework/Versions/3.9/lib/python3.9/threading.py\", line 910, in run\n",
      "    self._target(*self._args, **self._kwargs)\n",
      "  File \"/var/folders/01/1jhjxsz50y902wkbvgv3nj5r0000gn/T/ipykernel_18094/3831573612.py\", line 34, in clean_save_article\n",
      "  File \"/Users/sophiabuehl/Library/Python/3.9/lib/python/site-packages/IPython/core/interactiveshell.py\", line 282, in _modified_open\n",
      "    return io_open(file, *args, **kwargs)\n",
      "FileExistsError: [Errno 17] File exists: './data/exzellent/923.txt'\n"
     ]
    },
    {
     "name": "stdout",
     "output_type": "stream",
     "text": [
      " Verarbeitete Artikel: 771 davon exzellent: 32"
     ]
    },
    {
     "name": "stderr",
     "output_type": "stream",
     "text": [
      "Exception in thread Thread-3890:\n",
      "Traceback (most recent call last):\n",
      "  File \"/opt/homebrew/Cellar/python@3.9/3.9.10/Frameworks/Python.framework/Versions/3.9/lib/python3.9/threading.py\", line 973, in _bootstrap_inner\n",
      "    self.run()\n",
      "  File \"/opt/homebrew/Cellar/python@3.9/3.9.10/Frameworks/Python.framework/Versions/3.9/lib/python3.9/threading.py\", line 910, in run\n",
      "    self._target(*self._args, **self._kwargs)\n",
      "  File \"/var/folders/01/1jhjxsz50y902wkbvgv3nj5r0000gn/T/ipykernel_18094/3831573612.py\", line 34, in clean_save_article\n",
      "  File \"/Users/sophiabuehl/Library/Python/3.9/lib/python/site-packages/IPython/core/interactiveshell.py\", line 282, in _modified_open\n",
      "    return io_open(file, *args, **kwargs)\n",
      "FileExistsError: [Errno 17] File exists: './data/exzellent/1084.txt'\n"
     ]
    },
    {
     "name": "stdout",
     "output_type": "stream",
     "text": [
      " Verarbeitete Artikel: 778 davon exzellent: 32"
     ]
    },
    {
     "name": "stderr",
     "output_type": "stream",
     "text": [
      "Exception in thread Thread-3905:\n",
      "Traceback (most recent call last):\n",
      "  File \"/opt/homebrew/Cellar/python@3.9/3.9.10/Frameworks/Python.framework/Versions/3.9/lib/python3.9/threading.py\", line 973, in _bootstrap_inner\n",
      "    self.run()\n",
      "  File \"/opt/homebrew/Cellar/python@3.9/3.9.10/Frameworks/Python.framework/Versions/3.9/lib/python3.9/threading.py\", line 910, in run\n",
      "    self._target(*self._args, **self._kwargs)\n",
      "  File \"/var/folders/01/1jhjxsz50y902wkbvgv3nj5r0000gn/T/ipykernel_18094/3831573612.py\", line 34, in clean_save_article\n"
     ]
    },
    {
     "name": "stdout",
     "output_type": "stream",
     "text": [
      " Verarbeitete Artikel: 779 davon exzellent: 32"
     ]
    },
    {
     "name": "stderr",
     "output_type": "stream",
     "text": [
      "  File \"/Users/sophiabuehl/Library/Python/3.9/lib/python/site-packages/IPython/core/interactiveshell.py\", line 282, in _modified_open\n",
      "    return io_open(file, *args, **kwargs)\n",
      "FileExistsError: [Errno 17] File exists: './data/exzellent/1108.txt'\n"
     ]
    },
    {
     "name": "stdout",
     "output_type": "stream",
     "text": [
      " Verarbeitete Artikel: 847 davon exzellent: 37"
     ]
    },
    {
     "name": "stderr",
     "output_type": "stream",
     "text": [
      "Exception in thread Thread-3948:\n",
      "Traceback (most recent call last):\n",
      "  File \"/opt/homebrew/Cellar/python@3.9/3.9.10/Frameworks/Python.framework/Versions/3.9/lib/python3.9/threading.py\", line 973, in _bootstrap_inner\n",
      "    self.run()\n",
      "  File \"/opt/homebrew/Cellar/python@3.9/3.9.10/Frameworks/Python.framework/Versions/3.9/lib/python3.9/threading.py\", line 910, in run\n",
      "Exception in thread Thread-3974:\n",
      "Traceback (most recent call last):\n",
      "  File \"/opt/homebrew/Cellar/python@3.9/3.9.10/Frameworks/Python.framework/Versions/3.9/lib/python3.9/threading.py\", line 973, in _bootstrap_inner\n",
      "    self.run()\n",
      "  File \"/opt/homebrew/Cellar/python@3.9/3.9.10/Frameworks/Python.framework/Versions/3.9/lib/python3.9/threading.py\", line 910, in run\n",
      "    self._target(*self._args, **self._kwargs)\n",
      "  File \"/var/folders/01/1jhjxsz50y902wkbvgv3nj5r0000gn/T/ipykernel_18094/3831573612.py\", line 34, in clean_save_article\n",
      "    self._target(*self._args, **self._kwargs)\n",
      "  File \"/var/folders/01/1jhjxsz50y902wkbvgv3nj5r0000gn/T/ipykernel_18094/3831573612.py\", line 34, in clean_save_article\n",
      "  File \"/Users/sophiabuehl/Library/Python/3.9/lib/python/site-packages/IPython/core/interactiveshell.py\", line 282, in _modified_open\n",
      "  File \"/Users/sophiabuehl/Library/Python/3.9/lib/python/site-packages/IPython/core/interactiveshell.py\", line 282, in _modified_open\n",
      "    return io_open(file, *args, **kwargs)\n",
      "FileExistsError: [Errno 17] File exists: './data/exzellent/1165.txt'\n"
     ]
    },
    {
     "name": "stdout",
     "output_type": "stream",
     "text": [
      " Verarbeitete Artikel: 848 davon exzellent: 37"
     ]
    },
    {
     "name": "stderr",
     "output_type": "stream",
     "text": [
      "    return io_open(file, *args, **kwargs)\n",
      "FileExistsError: [Errno 17] File exists: './data/exzellent/1211.txt'\n"
     ]
    },
    {
     "name": "stdout",
     "output_type": "stream",
     "text": [
      " Verarbeitete Artikel: 854 davon exzellent: 37"
     ]
    },
    {
     "name": "stderr",
     "output_type": "stream",
     "text": [
      "Exception in thread Thread-4003:\n",
      "Traceback (most recent call last):\n",
      "  File \"/opt/homebrew/Cellar/python@3.9/3.9.10/Frameworks/Python.framework/Versions/3.9/lib/python3.9/threading.py\", line 973, in _bootstrap_inner\n",
      "    self.run()\n",
      "  File \"/opt/homebrew/Cellar/python@3.9/3.9.10/Frameworks/Python.framework/Versions/3.9/lib/python3.9/threading.py\", line 910, in run\n",
      "    self._target(*self._args, **self._kwargs)\n",
      "  File \"/var/folders/01/1jhjxsz50y902wkbvgv3nj5r0000gn/T/ipykernel_18094/3831573612.py\", line 34, in clean_save_article\n",
      "  File \"/Users/sophiabuehl/Library/Python/3.9/lib/python/site-packages/IPython/core/interactiveshell.py\", line 282, in _modified_open\n",
      "    return io_open(file, *args, **kwargs)\n",
      "FileExistsError: [Errno 17] File exists: './data/exzellent/1252.txt'\n"
     ]
    },
    {
     "name": "stdout",
     "output_type": "stream",
     "text": [
      " Verarbeitete Artikel: 862 davon exzellent: 37"
     ]
    },
    {
     "name": "stderr",
     "output_type": "stream",
     "text": [
      "Exception in thread Thread-4000:\n",
      "Traceback (most recent call last):\n",
      "  File \"/opt/homebrew/Cellar/python@3.9/3.9.10/Frameworks/Python.framework/Versions/3.9/lib/python3.9/threading.py\", line 973, in _bootstrap_inner\n",
      "    self.run()\n",
      "  File \"/opt/homebrew/Cellar/python@3.9/3.9.10/Frameworks/Python.framework/Versions/3.9/lib/python3.9/threading.py\", line 910, in run\n",
      "    self._target(*self._args, **self._kwargs)\n",
      "  File \"/var/folders/01/1jhjxsz50y902wkbvgv3nj5r0000gn/T/ipykernel_18094/3831573612.py\", line 34, in clean_save_article\n",
      "  File \"/Users/sophiabuehl/Library/Python/3.9/lib/python/site-packages/IPython/core/interactiveshell.py\", line 282, in _modified_open\n"
     ]
    },
    {
     "name": "stdout",
     "output_type": "stream",
     "text": [
      " Verarbeitete Artikel: 863 davon exzellent: 37"
     ]
    },
    {
     "name": "stderr",
     "output_type": "stream",
     "text": [
      "    return io_open(file, *args, **kwargs)\n",
      "FileExistsError: [Errno 17] File exists: './data/exzellent/1248.txt'\n",
      "Exception in thread Thread-4001:\n",
      "Traceback (most recent call last):\n",
      "  File \"/opt/homebrew/Cellar/python@3.9/3.9.10/Frameworks/Python.framework/Versions/3.9/lib/python3.9/threading.py\", line 973, in _bootstrap_inner\n",
      "    self.run()\n",
      "  File \"/opt/homebrew/Cellar/python@3.9/3.9.10/Frameworks/Python.framework/Versions/3.9/lib/python3.9/threading.py\", line 910, in run\n",
      "    self._target(*self._args, **self._kwargs)\n",
      "  File \"/var/folders/01/1jhjxsz50y902wkbvgv3nj5r0000gn/T/ipykernel_18094/3831573612.py\", line 34, in clean_save_article\n"
     ]
    },
    {
     "name": "stdout",
     "output_type": "stream",
     "text": [
      " Verarbeitete Artikel: 865 davon exzellent: 37"
     ]
    },
    {
     "name": "stderr",
     "output_type": "stream",
     "text": [
      "  File \"/Users/sophiabuehl/Library/Python/3.9/lib/python/site-packages/IPython/core/interactiveshell.py\", line 282, in _modified_open\n",
      "    return io_open(file, *args, **kwargs)\n",
      "FileExistsError: [Errno 17] File exists: './data/exzellent/1249.txt'\n"
     ]
    },
    {
     "name": "stdout",
     "output_type": "stream",
     "text": [
      " Verarbeitete Artikel: 923 davon exzellent: 40"
     ]
    },
    {
     "name": "stderr",
     "output_type": "stream",
     "text": [
      "Exception in thread Thread-4050:\n",
      "Traceback (most recent call last):\n",
      "  File \"/opt/homebrew/Cellar/python@3.9/3.9.10/Frameworks/Python.framework/Versions/3.9/lib/python3.9/threading.py\", line 973, in _bootstrap_inner\n",
      "    self.run()\n",
      "  File \"/opt/homebrew/Cellar/python@3.9/3.9.10/Frameworks/Python.framework/Versions/3.9/lib/python3.9/threading.py\", line 910, in run\n",
      "    self._target(*self._args, **self._kwargs)\n",
      "  File \"/var/folders/01/1jhjxsz50y902wkbvgv3nj5r0000gn/T/ipykernel_18094/3831573612.py\", line 34, in clean_save_article\n",
      "  File \"/Users/sophiabuehl/Library/Python/3.9/lib/python/site-packages/IPython/core/interactiveshell.py\", line 282, in _modified_open\n",
      "    return io_open(file, *args, **kwargs)\n",
      "FileExistsError: [Errno 17] File exists: './data/exzellent/1321.txt'\n"
     ]
    },
    {
     "name": "stdout",
     "output_type": "stream",
     "text": [
      " Verarbeitete Artikel: 931 davon exzellent: 41"
     ]
    },
    {
     "name": "stderr",
     "output_type": "stream",
     "text": [
      "Exception in thread Thread-4054:\n",
      "Traceback (most recent call last):\n",
      "  File \"/opt/homebrew/Cellar/python@3.9/3.9.10/Frameworks/Python.framework/Versions/3.9/lib/python3.9/threading.py\", line 973, in _bootstrap_inner\n",
      "    self.run()\n",
      "  File \"/opt/homebrew/Cellar/python@3.9/3.9.10/Frameworks/Python.framework/Versions/3.9/lib/python3.9/threading.py\", line 910, in run\n",
      "    self._target(*self._args, **self._kwargs)\n",
      "  File \"/var/folders/01/1jhjxsz50y902wkbvgv3nj5r0000gn/T/ipykernel_18094/3831573612.py\", line 34, in clean_save_article\n",
      "  File \"/Users/sophiabuehl/Library/Python/3.9/lib/python/site-packages/IPython/core/interactiveshell.py\", line 282, in _modified_open\n",
      "    return io_open(file, *args, **kwargs)\n",
      "FileExistsError: [Errno 17] File exists: './data/exzellent/1329.txt'\n"
     ]
    },
    {
     "name": "stdout",
     "output_type": "stream",
     "text": [
      " Verarbeitete Artikel: 934 davon exzellent: 41"
     ]
    },
    {
     "name": "stderr",
     "output_type": "stream",
     "text": [
      "Exception in thread Thread-4086:\n",
      "Traceback (most recent call last):\n",
      "  File \"/opt/homebrew/Cellar/python@3.9/3.9.10/Frameworks/Python.framework/Versions/3.9/lib/python3.9/threading.py\", line 973, in _bootstrap_inner\n",
      "    self.run()\n",
      "  File \"/opt/homebrew/Cellar/python@3.9/3.9.10/Frameworks/Python.framework/Versions/3.9/lib/python3.9/threading.py\", line 910, in run\n",
      "    self._target(*self._args, **self._kwargs)\n",
      "  File \"/var/folders/01/1jhjxsz50y902wkbvgv3nj5r0000gn/T/ipykernel_18094/3831573612.py\", line 34, in clean_save_article\n",
      "  File \"/Users/sophiabuehl/Library/Python/3.9/lib/python/site-packages/IPython/core/interactiveshell.py\", line 282, in _modified_open\n",
      "    return io_open(file, *args, **kwargs)\n",
      "FileExistsError: [Errno 17] File exists: './data/exzellent/1375.txt'\n"
     ]
    },
    {
     "name": "stdout",
     "output_type": "stream",
     "text": [
      " Verarbeitete Artikel: 955 davon exzellent: 42"
     ]
    },
    {
     "name": "stderr",
     "output_type": "stream",
     "text": [
      "Exception in thread Thread-4032:\n",
      "Traceback (most recent call last):\n",
      "  File \"/opt/homebrew/Cellar/python@3.9/3.9.10/Frameworks/Python.framework/Versions/3.9/lib/python3.9/threading.py\", line 973, in _bootstrap_inner\n",
      "    self.run()\n",
      "  File \"/opt/homebrew/Cellar/python@3.9/3.9.10/Frameworks/Python.framework/Versions/3.9/lib/python3.9/threading.py\", line 910, in run\n",
      "    self._target(*self._args, **self._kwargs)\n",
      "  File \"/var/folders/01/1jhjxsz50y902wkbvgv3nj5r0000gn/T/ipykernel_18094/3831573612.py\", line 34, in clean_save_article\n",
      "  File \"/Users/sophiabuehl/Library/Python/3.9/lib/python/site-packages/IPython/core/interactiveshell.py\", line 282, in _modified_open\n",
      "    return io_open(file, *args, **kwargs)\n",
      "FileExistsError: [Errno 17] File exists: './data/exzellent/1298.txt'\n",
      "Exception in thread Thread-4107:\n",
      "Traceback (most recent call last):\n",
      "  File \"/opt/homebrew/Cellar/python@3.9/3.9.10/Frameworks/Python.framework/Versions/3.9/lib/python3.9/threading.py\", line 973, in _bootstrap_inner\n"
     ]
    },
    {
     "name": "stdout",
     "output_type": "stream",
     "text": [
      " Verarbeitete Artikel: 957 davon exzellent: 42"
     ]
    },
    {
     "name": "stderr",
     "output_type": "stream",
     "text": [
      "    self.run()\n",
      "  File \"/opt/homebrew/Cellar/python@3.9/3.9.10/Frameworks/Python.framework/Versions/3.9/lib/python3.9/threading.py\", line 910, in run\n",
      "    self._target(*self._args, **self._kwargs)\n",
      "  File \"/var/folders/01/1jhjxsz50y902wkbvgv3nj5r0000gn/T/ipykernel_18094/3831573612.py\", line 34, in clean_save_article\n",
      "  File \"/Users/sophiabuehl/Library/Python/3.9/lib/python/site-packages/IPython/core/interactiveshell.py\", line 282, in _modified_open\n",
      "    return io_open(file, *args, **kwargs)\n",
      "FileExistsError: [Errno 17] File exists: './data/exzellent/1408.txt'\n"
     ]
    },
    {
     "name": "stdout",
     "output_type": "stream",
     "text": [
      " Verarbeitete Artikel: 1048 davon exzellent: 48"
     ]
    },
    {
     "name": "stderr",
     "output_type": "stream",
     "text": [
      "Exception in thread Thread-4186:\n",
      "Traceback (most recent call last):\n",
      "  File \"/opt/homebrew/Cellar/python@3.9/3.9.10/Frameworks/Python.framework/Versions/3.9/lib/python3.9/threading.py\", line 973, in _bootstrap_inner\n",
      "    self.run()\n",
      "  File \"/opt/homebrew/Cellar/python@3.9/3.9.10/Frameworks/Python.framework/Versions/3.9/lib/python3.9/threading.py\", line 910, in run\n",
      "    self._target(*self._args, **self._kwargs)\n",
      "  File \"/var/folders/01/1jhjxsz50y902wkbvgv3nj5r0000gn/T/ipykernel_18094/3831573612.py\", line 34, in clean_save_article\n",
      "  File \"/Users/sophiabuehl/Library/Python/3.9/lib/python/site-packages/IPython/core/interactiveshell.py\", line 282, in _modified_open\n",
      "    return io_open(file, *args, **kwargs)\n",
      "FileExistsError: [Errno 17] File exists: './data/exzellent/1599.txt'\n"
     ]
    },
    {
     "name": "stdout",
     "output_type": "stream",
     "text": [
      " Verarbeitete Artikel: 1073 davon exzellent: 48"
     ]
    },
    {
     "name": "stderr",
     "output_type": "stream",
     "text": [
      "Exception in thread Thread-4124:\n",
      "Traceback (most recent call last):\n",
      "  File \"/opt/homebrew/Cellar/python@3.9/3.9.10/Frameworks/Python.framework/Versions/3.9/lib/python3.9/threading.py\", line 973, in _bootstrap_inner\n",
      "    self.run()\n",
      "  File \"/opt/homebrew/Cellar/python@3.9/3.9.10/Frameworks/Python.framework/Versions/3.9/lib/python3.9/threading.py\", line 910, in run\n",
      "    self._target(*self._args, **self._kwargs)\n",
      "  File \"/var/folders/01/1jhjxsz50y902wkbvgv3nj5r0000gn/T/ipykernel_18094/3831573612.py\", line 34, in clean_save_article\n",
      "  File \"/Users/sophiabuehl/Library/Python/3.9/lib/python/site-packages/IPython/core/interactiveshell.py\", line 282, in _modified_open\n",
      "    return io_open(file, *args, **kwargs)\n",
      "FileExistsError: [Errno 17] File exists: './data/exzellent/1428.txt'\n"
     ]
    },
    {
     "name": "stdout",
     "output_type": "stream",
     "text": [
      " Verarbeitete Artikel: 1099 davon exzellent: 49"
     ]
    },
    {
     "name": "stderr",
     "output_type": "stream",
     "text": [
      "Exception in thread Exception in thread Thread-4209:\n",
      "Traceback (most recent call last):\n",
      "  File \"/opt/homebrew/Cellar/python@3.9/3.9.10/Frameworks/Python.framework/Versions/3.9/lib/python3.9/threading.py\", line 973, in _bootstrap_inner\n",
      "Thread-4177:\n",
      "Traceback (most recent call last):\n",
      "  File \"/opt/homebrew/Cellar/python@3.9/3.9.10/Frameworks/Python.framework/Versions/3.9/lib/python3.9/threading.py\", line 973, in _bootstrap_inner\n",
      "    self.run()\n",
      "  File \"/opt/homebrew/Cellar/python@3.9/3.9.10/Frameworks/Python.framework/Versions/3.9/lib/python3.9/threading.py\", line 910, in run\n",
      "    self._target(*self._args, **self._kwargs)\n",
      "  File \"/var/folders/01/1jhjxsz50y902wkbvgv3nj5r0000gn/T/ipykernel_18094/3831573612.py\", line 34, in clean_save_article\n",
      "    self.run()\n",
      "  File \"/opt/homebrew/Cellar/python@3.9/3.9.10/Frameworks/Python.framework/Versions/3.9/lib/python3.9/threading.py\", line 910, in run\n",
      "    self._target(*self._args, **self._kwargs)\n",
      "  File \"/var/folders/01/1jhjxsz50y902wkbvgv3nj5r0000gn/T/ipykernel_18094/3831573612.py\", line 34, in clean_save_article\n",
      "Exception in thread Thread-4248:\n",
      "Traceback (most recent call last):\n",
      "  File \"/opt/homebrew/Cellar/python@3.9/3.9.10/Frameworks/Python.framework/Versions/3.9/lib/python3.9/threading.py\", line 973, in _bootstrap_inner\n",
      "  File \"/Users/sophiabuehl/Library/Python/3.9/lib/python/site-packages/IPython/core/interactiveshell.py\", line 282, in _modified_open\n",
      "  File \"/Users/sophiabuehl/Library/Python/3.9/lib/python/site-packages/IPython/core/interactiveshell.py\", line 282, in _modified_open\n",
      "    return io_open(file, *args, **kwargs)\n",
      "FileExistsError: [Errno 17] File exists: './data/exzellent/1636.txt'\n",
      "    return io_open(file, *args, **kwargs)\n",
      "FileExistsError: [Errno 17] File exists: './data/exzellent/1587.txt'\n",
      "    self.run()\n",
      "  File \"/opt/homebrew/Cellar/python@3.9/3.9.10/Frameworks/Python.framework/Versions/3.9/lib/python3.9/threading.py\", line 910, in run\n",
      "    self._target(*self._args, **self._kwargs)\n",
      "  File \"/var/folders/01/1jhjxsz50y902wkbvgv3nj5r0000gn/T/ipykernel_18094/3831573612.py\", line 34, in clean_save_article\n",
      "  File \"/Users/sophiabuehl/Library/Python/3.9/lib/python/site-packages/IPython/core/interactiveshell.py\", line 282, in _modified_open\n"
     ]
    },
    {
     "name": "stdout",
     "output_type": "stream",
     "text": [
      " Verarbeitete Artikel: 1100 davon exzellent: 49"
     ]
    },
    {
     "name": "stderr",
     "output_type": "stream",
     "text": [
      "    return io_open(file, *args, **kwargs)\n",
      "FileExistsError: [Errno 17] File exists: './data/exzellent/1685.txt'\n"
     ]
    },
    {
     "name": "stdout",
     "output_type": "stream",
     "text": [
      " Verarbeitete Artikel: 1147 davon exzellent: 50"
     ]
    },
    {
     "name": "stderr",
     "output_type": "stream",
     "text": [
      "Exception in thread Thread-4276:\n",
      "Traceback (most recent call last):\n",
      "  File \"/opt/homebrew/Cellar/python@3.9/3.9.10/Frameworks/Python.framework/Versions/3.9/lib/python3.9/threading.py\", line 973, in _bootstrap_inner\n",
      "    self.run()\n",
      "  File \"/opt/homebrew/Cellar/python@3.9/3.9.10/Frameworks/Python.framework/Versions/3.9/lib/python3.9/threading.py\", line 910, in run\n",
      "    self._target(*self._args, **self._kwargs)\n",
      "  File \"/var/folders/01/1jhjxsz50y902wkbvgv3nj5r0000gn/T/ipykernel_18094/3831573612.py\", line 34, in clean_save_article\n",
      "  File \"/Users/sophiabuehl/Library/Python/3.9/lib/python/site-packages/IPython/core/interactiveshell.py\", line 282, in _modified_open\n",
      "    return io_open(file, *args, **kwargs)\n",
      "FileExistsError: [Errno 17] File exists: './data/exzellent/1723.txt'\n"
     ]
    },
    {
     "name": "stdout",
     "output_type": "stream",
     "text": [
      " Verarbeitete Artikel: 1171 davon exzellent: 50"
     ]
    },
    {
     "name": "stderr",
     "output_type": "stream",
     "text": [
      "Exception in thread Thread-4147:\n",
      "Traceback (most recent call last):\n",
      "  File \"/opt/homebrew/Cellar/python@3.9/3.9.10/Frameworks/Python.framework/Versions/3.9/lib/python3.9/threading.py\", line 973, in _bootstrap_inner\n",
      "    self.run()\n",
      "  File \"/opt/homebrew/Cellar/python@3.9/3.9.10/Frameworks/Python.framework/Versions/3.9/lib/python3.9/threading.py\", line 910, in run\n",
      "    self._target(*self._args, **self._kwargs)\n",
      "  File \"/var/folders/01/1jhjxsz50y902wkbvgv3nj5r0000gn/T/ipykernel_18094/3831573612.py\", line 34, in clean_save_article\n",
      "  File \"/Users/sophiabuehl/Library/Python/3.9/lib/python/site-packages/IPython/core/interactiveshell.py\", line 282, in _modified_open\n",
      "    return io_open(file, *args, **kwargs)\n",
      "FileExistsError: [Errno 17] File exists: './data/exzellent/1464.txt'\n"
     ]
    },
    {
     "name": "stdout",
     "output_type": "stream",
     "text": [
      " Verarbeitete Artikel: 1191 davon exzellent: 51"
     ]
    },
    {
     "name": "stderr",
     "output_type": "stream",
     "text": [
      "Exception in thread Thread-4337:\n",
      "Traceback (most recent call last):\n",
      "  File \"/opt/homebrew/Cellar/python@3.9/3.9.10/Frameworks/Python.framework/Versions/3.9/lib/python3.9/threading.py\", line 973, in _bootstrap_inner\n",
      "    self.run()\n",
      "  File \"/opt/homebrew/Cellar/python@3.9/3.9.10/Frameworks/Python.framework/Versions/3.9/lib/python3.9/threading.py\", line 910, in run\n",
      "    self._target(*self._args, **self._kwargs)\n",
      "  File \"/var/folders/01/1jhjxsz50y902wkbvgv3nj5r0000gn/T/ipykernel_18094/3831573612.py\", line 34, in clean_save_article\n",
      "  File \"/Users/sophiabuehl/Library/Python/3.9/lib/python/site-packages/IPython/core/interactiveshell.py\", line 282, in _modified_open\n",
      "    return io_open(file, *args, **kwargs)\n",
      "FileExistsError: [Errno 17] File exists: './data/exzellent/1810.txt'\n"
     ]
    },
    {
     "name": "stdout",
     "output_type": "stream",
     "text": [
      " Verarbeitete Artikel: 1205 davon exzellent: 53"
     ]
    },
    {
     "name": "stderr",
     "output_type": "stream",
     "text": [
      "Exception in thread Thread-4194:\n",
      "Traceback (most recent call last):\n",
      "  File \"/opt/homebrew/Cellar/python@3.9/3.9.10/Frameworks/Python.framework/Versions/3.9/lib/python3.9/threading.py\", line 973, in _bootstrap_inner\n",
      "    self.run()\n",
      "  File \"/opt/homebrew/Cellar/python@3.9/3.9.10/Frameworks/Python.framework/Versions/3.9/lib/python3.9/threading.py\", line 910, in run\n",
      "    self._target(*self._args, **self._kwargs)\n",
      "  File \"/var/folders/01/1jhjxsz50y902wkbvgv3nj5r0000gn/T/ipykernel_18094/3831573612.py\", line 34, in clean_save_article\n",
      "  File \"/Users/sophiabuehl/Library/Python/3.9/lib/python/site-packages/IPython/core/interactiveshell.py\", line 282, in _modified_open\n",
      "    return io_open(file, *args, **kwargs)\n",
      "FileExistsError: [Errno 17] File exists: './data/exzellent/1609.txt'\n"
     ]
    },
    {
     "name": "stdout",
     "output_type": "stream",
     "text": [
      " Verarbeitete Artikel: 1227 davon exzellent: 54"
     ]
    },
    {
     "name": "stderr",
     "output_type": "stream",
     "text": [
      "Exception in thread Thread-4356:\n",
      "Traceback (most recent call last):\n",
      "  File \"/opt/homebrew/Cellar/python@3.9/3.9.10/Frameworks/Python.framework/Versions/3.9/lib/python3.9/threading.py\", line 973, in _bootstrap_inner\n",
      "    self.run()\n",
      "  File \"/opt/homebrew/Cellar/python@3.9/3.9.10/Frameworks/Python.framework/Versions/3.9/lib/python3.9/threading.py\", line 910, in run\n",
      "    self._target(*self._args, **self._kwargs)\n",
      "  File \"/var/folders/01/1jhjxsz50y902wkbvgv3nj5r0000gn/T/ipykernel_18094/3831573612.py\", line 34, in clean_save_article\n",
      "  File \"/Users/sophiabuehl/Library/Python/3.9/lib/python/site-packages/IPython/core/interactiveshell.py\", line 282, in _modified_open\n",
      "    return io_open(file, *args, **kwargs)\n",
      "FileExistsError: [Errno 17] File exists: './data/exzellent/1833.txt'\n"
     ]
    },
    {
     "name": "stdout",
     "output_type": "stream",
     "text": [
      " Verarbeitete Artikel: 1260 davon exzellent: 54"
     ]
    },
    {
     "name": "stderr",
     "output_type": "stream",
     "text": [
      "Exception in thread Thread-4361:\n",
      "Traceback (most recent call last):\n",
      "  File \"/opt/homebrew/Cellar/python@3.9/3.9.10/Frameworks/Python.framework/Versions/3.9/lib/python3.9/threading.py\", line 973, in _bootstrap_inner\n",
      "    self.run()\n",
      "  File \"/opt/homebrew/Cellar/python@3.9/3.9.10/Frameworks/Python.framework/Versions/3.9/lib/python3.9/threading.py\", line 910, in run\n",
      "    self._target(*self._args, **self._kwargs)\n",
      "  File \"/var/folders/01/1jhjxsz50y902wkbvgv3nj5r0000gn/T/ipykernel_18094/3831573612.py\", line 34, in clean_save_article\n",
      "  File \"/Users/sophiabuehl/Library/Python/3.9/lib/python/site-packages/IPython/core/interactiveshell.py\", line 282, in _modified_open\n",
      "    return io_open(file, *args, **kwargs)\n",
      "FileExistsError: [Errno 17] File exists: './data/exzellent/1841.txt'\n"
     ]
    },
    {
     "name": "stdout",
     "output_type": "stream",
     "text": [
      " Verarbeitete Artikel: 1263 davon exzellent: 54"
     ]
    },
    {
     "name": "stderr",
     "output_type": "stream",
     "text": [
      "Exception in thread Thread-4375:\n",
      "Traceback (most recent call last):\n",
      "  File \"/opt/homebrew/Cellar/python@3.9/3.9.10/Frameworks/Python.framework/Versions/3.9/lib/python3.9/threading.py\", line 973, in _bootstrap_inner\n"
     ]
    },
    {
     "name": "stdout",
     "output_type": "stream",
     "text": [
      " Verarbeitete Artikel: 1265 davon exzellent: 54"
     ]
    },
    {
     "name": "stderr",
     "output_type": "stream",
     "text": [
      "    self.run()\n",
      "  File \"/opt/homebrew/Cellar/python@3.9/3.9.10/Frameworks/Python.framework/Versions/3.9/lib/python3.9/threading.py\", line 910, in run\n",
      "    self._target(*self._args, **self._kwargs)\n",
      "  File \"/var/folders/01/1jhjxsz50y902wkbvgv3nj5r0000gn/T/ipykernel_18094/3831573612.py\", line 34, in clean_save_article\n",
      "  File \"/Users/sophiabuehl/Library/Python/3.9/lib/python/site-packages/IPython/core/interactiveshell.py\", line 282, in _modified_open\n",
      "    return io_open(file, *args, **kwargs)\n",
      "FileExistsError: [Errno 17] File exists: './data/exzellent/1860.txt'\n"
     ]
    },
    {
     "name": "stdout",
     "output_type": "stream",
     "text": [
      " Verarbeitete Artikel: 1295 davon exzellent: 55"
     ]
    },
    {
     "name": "stderr",
     "output_type": "stream",
     "text": [
      "Exception in thread Thread-4430:\n",
      "Traceback (most recent call last):\n",
      "  File \"/opt/homebrew/Cellar/python@3.9/3.9.10/Frameworks/Python.framework/Versions/3.9/lib/python3.9/threading.py\", line 973, in _bootstrap_inner\n",
      "    self.run()\n",
      "  File \"/opt/homebrew/Cellar/python@3.9/3.9.10/Frameworks/Python.framework/Versions/3.9/lib/python3.9/threading.py\", line 910, in run\n",
      "    self._target(*self._args, **self._kwargs)\n",
      "  File \"/var/folders/01/1jhjxsz50y902wkbvgv3nj5r0000gn/T/ipykernel_18094/3831573612.py\", line 34, in clean_save_article\n",
      "  File \"/Users/sophiabuehl/Library/Python/3.9/lib/python/site-packages/IPython/core/interactiveshell.py\", line 282, in _modified_open\n",
      "    return io_open(file, *args, **kwargs)\n",
      "FileExistsError: [Errno 17] File exists: './data/exzellent/1943.txt'\n"
     ]
    },
    {
     "name": "stdout",
     "output_type": "stream",
     "text": [
      " Verarbeitete Artikel: 1398 davon exzellent: 56"
     ]
    },
    {
     "name": "stderr",
     "output_type": "stream",
     "text": [
      "Exception in thread Thread-4545:\n",
      "Traceback (most recent call last):\n",
      "  File \"/opt/homebrew/Cellar/python@3.9/3.9.10/Frameworks/Python.framework/Versions/3.9/lib/python3.9/threading.py\", line 973, in _bootstrap_inner\n",
      "    self.run()\n",
      "  File \"/opt/homebrew/Cellar/python@3.9/3.9.10/Frameworks/Python.framework/Versions/3.9/lib/python3.9/threading.py\", line 910, in run\n",
      "    self._target(*self._args, **self._kwargs)\n",
      "  File \"/var/folders/01/1jhjxsz50y902wkbvgv3nj5r0000gn/T/ipykernel_18094/3831573612.py\", line 34, in clean_save_article\n",
      "  File \"/Users/sophiabuehl/Library/Python/3.9/lib/python/site-packages/IPython/core/interactiveshell.py\", line 282, in _modified_open\n",
      "    return io_open(file, *args, **kwargs)\n",
      "FileExistsError: [Errno 17] File exists: './data/exzellent/2135.txt'\n"
     ]
    },
    {
     "name": "stdout",
     "output_type": "stream",
     "text": [
      " Verarbeitete Artikel: 1475 davon exzellent: 60"
     ]
    },
    {
     "name": "stderr",
     "output_type": "stream",
     "text": [
      "Exception in thread Thread-4587:\n",
      "Traceback (most recent call last):\n",
      "  File \"/opt/homebrew/Cellar/python@3.9/3.9.10/Frameworks/Python.framework/Versions/3.9/lib/python3.9/threading.py\", line 973, in _bootstrap_inner\n",
      "    self.run()\n",
      "  File \"/opt/homebrew/Cellar/python@3.9/3.9.10/Frameworks/Python.framework/Versions/3.9/lib/python3.9/threading.py\", line 910, in run\n",
      "    self._target(*self._args, **self._kwargs)\n",
      "  File \"/var/folders/01/1jhjxsz50y902wkbvgv3nj5r0000gn/T/ipykernel_18094/3831573612.py\", line 34, in clean_save_article\n",
      "  File \"/Users/sophiabuehl/Library/Python/3.9/lib/python/site-packages/IPython/core/interactiveshell.py\", line 282, in _modified_open\n",
      "    return io_open(file, *args, **kwargs)\n",
      "FileExistsError: [Errno 17] File exists: './data/exzellent/2203.txt'\n"
     ]
    },
    {
     "name": "stdout",
     "output_type": "stream",
     "text": [
      " Verarbeitete Artikel: 1479 davon exzellent: 60"
     ]
    },
    {
     "name": "stderr",
     "output_type": "stream",
     "text": [
      "Exception in thread Thread-4590:\n",
      "Traceback (most recent call last):\n",
      "  File \"/opt/homebrew/Cellar/python@3.9/3.9.10/Frameworks/Python.framework/Versions/3.9/lib/python3.9/threading.py\", line 973, in _bootstrap_inner\n",
      "    self.run()\n",
      "  File \"/opt/homebrew/Cellar/python@3.9/3.9.10/Frameworks/Python.framework/Versions/3.9/lib/python3.9/threading.py\", line 910, in run\n",
      "    self._target(*self._args, **self._kwargs)\n",
      "  File \"/var/folders/01/1jhjxsz50y902wkbvgv3nj5r0000gn/T/ipykernel_18094/3831573612.py\", line 34, in clean_save_article\n",
      "  File \"/Users/sophiabuehl/Library/Python/3.9/lib/python/site-packages/IPython/core/interactiveshell.py\", line 282, in _modified_open\n",
      "    return io_open(file, *args, **kwargs)\n",
      "FileExistsError: [Errno 17] File exists: './data/exzellent/2207.txt'\n"
     ]
    },
    {
     "name": "stdout",
     "output_type": "stream",
     "text": [
      " Verarbeitete Artikel: 1485 davon exzellent: 60"
     ]
    },
    {
     "name": "stderr",
     "output_type": "stream",
     "text": [
      "Exception in thread Thread-4595:\n",
      "Traceback (most recent call last):\n",
      "  File \"/opt/homebrew/Cellar/python@3.9/3.9.10/Frameworks/Python.framework/Versions/3.9/lib/python3.9/threading.py\", line 973, in _bootstrap_inner\n"
     ]
    },
    {
     "name": "stdout",
     "output_type": "stream",
     "text": [
      " Verarbeitete Artikel: 1486 davon exzellent: 60"
     ]
    },
    {
     "name": "stderr",
     "output_type": "stream",
     "text": [
      "    self.run()\n",
      "  File \"/opt/homebrew/Cellar/python@3.9/3.9.10/Frameworks/Python.framework/Versions/3.9/lib/python3.9/threading.py\", line 910, in run\n",
      "    self._target(*self._args, **self._kwargs)\n",
      "  File \"/var/folders/01/1jhjxsz50y902wkbvgv3nj5r0000gn/T/ipykernel_18094/3831573612.py\", line 34, in clean_save_article\n",
      "  File \"/Users/sophiabuehl/Library/Python/3.9/lib/python/site-packages/IPython/core/interactiveshell.py\", line 282, in _modified_open\n",
      "    return io_open(file, *args, **kwargs)\n",
      "FileExistsError: [Errno 17] File exists: './data/exzellent/2212.txt'\n"
     ]
    },
    {
     "name": "stdout",
     "output_type": "stream",
     "text": [
      " Verarbeitete Artikel: 1539 davon exzellent: 62"
     ]
    },
    {
     "name": "stderr",
     "output_type": "stream",
     "text": [
      "Exception in thread Thread-4686:\n",
      "Traceback (most recent call last):\n",
      "  File \"/opt/homebrew/Cellar/python@3.9/3.9.10/Frameworks/Python.framework/Versions/3.9/lib/python3.9/threading.py\", line 973, in _bootstrap_inner\n",
      "    self.run()\n",
      "  File \"/opt/homebrew/Cellar/python@3.9/3.9.10/Frameworks/Python.framework/Versions/3.9/lib/python3.9/threading.py\", line 910, in run\n",
      "    self._target(*self._args, **self._kwargs)\n",
      "  File \"/var/folders/01/1jhjxsz50y902wkbvgv3nj5r0000gn/T/ipykernel_18094/3831573612.py\", line 34, in clean_save_article\n",
      "  File \"/Users/sophiabuehl/Library/Python/3.9/lib/python/site-packages/IPython/core/interactiveshell.py\", line 282, in _modified_open\n",
      "    return io_open(file, *args, **kwargs)\n",
      "FileExistsError: [Errno 17] File exists: './data/exzellent/2345.txt'\n"
     ]
    },
    {
     "name": "stdout",
     "output_type": "stream",
     "text": [
      " Verarbeitete Artikel: 1541 davon exzellent: 62"
     ]
    },
    {
     "name": "stderr",
     "output_type": "stream",
     "text": [
      "Exception in thread "
     ]
    },
    {
     "name": "stdout",
     "output_type": "stream",
     "text": [
      " Verarbeitete Artikel: 1544 davon exzellent: 62"
     ]
    },
    {
     "name": "stderr",
     "output_type": "stream",
     "text": [
      "Thread-4636:\n",
      "Traceback (most recent call last):\n",
      "  File \"/opt/homebrew/Cellar/python@3.9/3.9.10/Frameworks/Python.framework/Versions/3.9/lib/python3.9/threading.py\", line 973, in _bootstrap_inner\n",
      "    self.run()\n",
      "  File \"/opt/homebrew/Cellar/python@3.9/3.9.10/Frameworks/Python.framework/Versions/3.9/lib/python3.9/threading.py\", line 910, in run\n",
      "    self._target(*self._args, **self._kwargs)\n",
      "  File \"/var/folders/01/1jhjxsz50y902wkbvgv3nj5r0000gn/T/ipykernel_18094/3831573612.py\", line 34, in clean_save_article\n",
      "  File \"/Users/sophiabuehl/Library/Python/3.9/lib/python/site-packages/IPython/core/interactiveshell.py\", line 282, in _modified_open\n",
      "    return io_open(file, *args, **kwargs)\n",
      "FileExistsError: [Errno 17] File exists: './data/exzellent/2268.txt'\n"
     ]
    },
    {
     "name": "stdout",
     "output_type": "stream",
     "text": [
      " Verarbeitete Artikel: 1550 davon exzellent: 63"
     ]
    },
    {
     "name": "stderr",
     "output_type": "stream",
     "text": [
      "Exception in thread Thread-4695:\n",
      "Traceback (most recent call last):\n",
      "  File \"/opt/homebrew/Cellar/python@3.9/3.9.10/Frameworks/Python.framework/Versions/3.9/lib/python3.9/threading.py\", line 973, in _bootstrap_inner\n",
      "    self.run()\n",
      "  File \"/opt/homebrew/Cellar/python@3.9/3.9.10/Frameworks/Python.framework/Versions/3.9/lib/python3.9/threading.py\", line 910, in run\n",
      "    self._target(*self._args, **self._kwargs)\n",
      "  File \"/var/folders/01/1jhjxsz50y902wkbvgv3nj5r0000gn/T/ipykernel_18094/3831573612.py\", line 34, in clean_save_article\n",
      "  File \"/Users/sophiabuehl/Library/Python/3.9/lib/python/site-packages/IPython/core/interactiveshell.py\", line 282, in _modified_open\n",
      "    return io_open(file, *args, **kwargs)\n",
      "FileExistsError: [Errno 17] File exists: './data/exzellent/2360.txt'\n"
     ]
    },
    {
     "name": "stdout",
     "output_type": "stream",
     "text": [
      " Verarbeitete Artikel: 1555 davon exzellent: 64"
     ]
    },
    {
     "name": "stderr",
     "output_type": "stream",
     "text": [
      "Exception in thread Thread-4709:\n",
      "Traceback (most recent call last):\n",
      "  File \"/opt/homebrew/Cellar/python@3.9/3.9.10/Frameworks/Python.framework/Versions/3.9/lib/python3.9/threading.py\", line 973, in _bootstrap_inner\n",
      "    self.run()\n",
      "  File \"/opt/homebrew/Cellar/python@3.9/3.9.10/Frameworks/Python.framework/Versions/3.9/lib/python3.9/threading.py\", line 910, in run\n",
      "    self._target(*self._args, **self._kwargs)\n",
      "  File \"/var/folders/01/1jhjxsz50y902wkbvgv3nj5r0000gn/T/ipykernel_18094/3831573612.py\", line 34, in clean_save_article\n",
      "  File \"/Users/sophiabuehl/Library/Python/3.9/lib/python/site-packages/IPython/core/interactiveshell.py\", line 282, in _modified_open\n",
      "    return io_open(file, *args, **kwargs)\n",
      "FileExistsError: [Errno 17] File exists: './data/exzellent/2379.txt'\n"
     ]
    },
    {
     "name": "stdout",
     "output_type": "stream",
     "text": [
      " Verarbeitete Artikel: 1564 davon exzellent: 66"
     ]
    },
    {
     "name": "stderr",
     "output_type": "stream",
     "text": [
      "Exception in thread Thread-4716:\n",
      "Traceback (most recent call last):\n",
      "  File \"/opt/homebrew/Cellar/python@3.9/3.9.10/Frameworks/Python.framework/Versions/3.9/lib/python3.9/threading.py\", line 973, in _bootstrap_inner\n",
      "    self.run()\n",
      "  File \"/opt/homebrew/Cellar/python@3.9/3.9.10/Frameworks/Python.framework/Versions/3.9/lib/python3.9/threading.py\", line 910, in run\n",
      "    self._target(*self._args, **self._kwargs)\n",
      "  File \"/var/folders/01/1jhjxsz50y902wkbvgv3nj5r0000gn/T/ipykernel_18094/3831573612.py\", line 34, in clean_save_article\n",
      "  File \"/Users/sophiabuehl/Library/Python/3.9/lib/python/site-packages/IPython/core/interactiveshell.py\", line 282, in _modified_open\n",
      "    return io_open(file, *args, **kwargs)\n",
      "FileExistsError: [Errno 17] File exists: './data/exzellent/2389.txt'\n"
     ]
    },
    {
     "name": "stdout",
     "output_type": "stream",
     "text": [
      " Verarbeitete Artikel: 1620 davon exzellent: 66"
     ]
    },
    {
     "name": "stderr",
     "output_type": "stream",
     "text": [
      "Exception in thread Thread-4718:\n",
      "Traceback (most recent call last):\n",
      "  File \"/opt/homebrew/Cellar/python@3.9/3.9.10/Frameworks/Python.framework/Versions/3.9/lib/python3.9/threading.py\", line 973, in _bootstrap_inner\n",
      "    self.run()\n",
      "  File \"/opt/homebrew/Cellar/python@3.9/3.9.10/Frameworks/Python.framework/Versions/3.9/lib/python3.9/threading.py\", line 910, in run\n",
      "    self._target(*self._args, **self._kwargs)\n",
      "  File \"/var/folders/01/1jhjxsz50y902wkbvgv3nj5r0000gn/T/ipykernel_18094/3831573612.py\", line 34, in clean_save_article\n",
      "  File \"/Users/sophiabuehl/Library/Python/3.9/lib/python/site-packages/IPython/core/interactiveshell.py\", line 282, in _modified_open\n",
      "Exception in thread Thread-4717:\n",
      "Traceback (most recent call last):\n",
      "  File \"/opt/homebrew/Cellar/python@3.9/3.9.10/Frameworks/Python.framework/Versions/3.9/lib/python3.9/threading.py\", line 973, in _bootstrap_inner\n",
      "    return io_open(file, *args, **kwargs)\n",
      "FileExistsError: [Errno 17] File exists: './data/exzellent/2391.txt'\n",
      "    self.run()\n",
      "  File \"/opt/homebrew/Cellar/python@3.9/3.9.10/Frameworks/Python.framework/Versions/3.9/lib/python3.9/threading.py\", line 910, in run\n",
      "    self._target(*self._args, **self._kwargs)\n",
      "  File \"/var/folders/01/1jhjxsz50y902wkbvgv3nj5r0000gn/T/ipykernel_18094/3831573612.py\", line 34, in clean_save_article\n",
      "  File \"/Users/sophiabuehl/Library/Python/3.9/lib/python/site-packages/IPython/core/interactiveshell.py\", line 282, in _modified_open\n"
     ]
    },
    {
     "name": "stdout",
     "output_type": "stream",
     "text": [
      " Verarbeitete Artikel: 1621 davon exzellent: 66"
     ]
    },
    {
     "name": "stderr",
     "output_type": "stream",
     "text": [
      "    return io_open(file, *args, **kwargs)\n",
      "FileExistsError: [Errno 17] File exists: './data/exzellent/2390.txt'\n"
     ]
    },
    {
     "name": "stdout",
     "output_type": "stream",
     "text": [
      " Verarbeitete Artikel: 1697 davon exzellent: 68"
     ]
    },
    {
     "name": "stderr",
     "output_type": "stream",
     "text": [
      "Exception in thread Thread-4816:\n",
      "Traceback (most recent call last):\n",
      "  File \"/opt/homebrew/Cellar/python@3.9/3.9.10/Frameworks/Python.framework/Versions/3.9/lib/python3.9/threading.py\", line 973, in _bootstrap_inner\n",
      "    self.run()\n",
      "  File \"/opt/homebrew/Cellar/python@3.9/3.9.10/Frameworks/Python.framework/Versions/3.9/lib/python3.9/threading.py\", line 910, in run\n",
      "    self._target(*self._args, **self._kwargs)\n",
      "  File \"/var/folders/01/1jhjxsz50y902wkbvgv3nj5r0000gn/T/ipykernel_18094/3831573612.py\", line 34, in clean_save_article\n",
      "  File \"/Users/sophiabuehl/Library/Python/3.9/lib/python/site-packages/IPython/core/interactiveshell.py\", line 282, in _modified_open\n",
      "    return io_open(file, *args, **kwargs)\n",
      "FileExistsError: [Errno 17] File exists: './data/exzellent/2534.txt'\n"
     ]
    },
    {
     "name": "stdout",
     "output_type": "stream",
     "text": [
      " Verarbeitete Artikel: 1736 davon exzellent: 70"
     ]
    },
    {
     "name": "stderr",
     "output_type": "stream",
     "text": [
      "Exception in thread Thread-4887:\n",
      "Traceback (most recent call last):\n",
      "  File \"/opt/homebrew/Cellar/python@3.9/3.9.10/Frameworks/Python.framework/Versions/3.9/lib/python3.9/threading.py\", line 973, in _bootstrap_inner\n",
      "    self.run()\n",
      "  File \"/opt/homebrew/Cellar/python@3.9/3.9.10/Frameworks/Python.framework/Versions/3.9/lib/python3.9/threading.py\", line 910, in run\n",
      "    self._target(*self._args, **self._kwargs)\n",
      "  File \"/var/folders/01/1jhjxsz50y902wkbvgv3nj5r0000gn/T/ipykernel_18094/3831573612.py\", line 34, in clean_save_article\n",
      "  File \"/Users/sophiabuehl/Library/Python/3.9/lib/python/site-packages/IPython/core/interactiveshell.py\", line 282, in _modified_open\n",
      "    return io_open(file, *args, **kwargs)\n",
      "FileExistsError: [Errno 17] File exists: './data/exzellent/2634.txt'\n"
     ]
    },
    {
     "name": "stdout",
     "output_type": "stream",
     "text": [
      " Verarbeitete Artikel: 1738 davon exzellent: 70"
     ]
    },
    {
     "name": "stderr",
     "output_type": "stream",
     "text": [
      "Exception in thread Thread-4860:\n",
      "Traceback (most recent call last):\n",
      "  File \"/opt/homebrew/Cellar/python@3.9/3.9.10/Frameworks/Python.framework/Versions/3.9/lib/python3.9/threading.py\", line 973, in _bootstrap_inner\n",
      "    self.run()\n",
      "  File \"/opt/homebrew/Cellar/python@3.9/3.9.10/Frameworks/Python.framework/Versions/3.9/lib/python3.9/threading.py\", line 910, in run\n"
     ]
    },
    {
     "name": "stdout",
     "output_type": "stream",
     "text": [
      " Verarbeitete Artikel: 1739 davon exzellent: 70"
     ]
    },
    {
     "name": "stderr",
     "output_type": "stream",
     "text": [
      "    self._target(*self._args, **self._kwargs)\n",
      "  File \"/var/folders/01/1jhjxsz50y902wkbvgv3nj5r0000gn/T/ipykernel_18094/3831573612.py\", line 34, in clean_save_article\n",
      "  File \"/Users/sophiabuehl/Library/Python/3.9/lib/python/site-packages/IPython/core/interactiveshell.py\", line 282, in _modified_open\n",
      "    return io_open(file, *args, **kwargs)\n",
      "FileExistsError: [Errno 17] File exists: './data/exzellent/2586.txt'\n"
     ]
    },
    {
     "name": "stdout",
     "output_type": "stream",
     "text": [
      " Verarbeitete Artikel: 1776 davon exzellent: 73"
     ]
    },
    {
     "name": "stderr",
     "output_type": "stream",
     "text": [
      "Exception in thread Thread-4910:\n",
      "Traceback (most recent call last):\n",
      "  File \"/opt/homebrew/Cellar/python@3.9/3.9.10/Frameworks/Python.framework/Versions/3.9/lib/python3.9/threading.py\", line 973, in _bootstrap_inner\n",
      "    self.run()\n",
      "  File \"/opt/homebrew/Cellar/python@3.9/3.9.10/Frameworks/Python.framework/Versions/3.9/lib/python3.9/threading.py\", line 910, in run\n",
      "    self._target(*self._args, **self._kwargs)\n",
      "  File \"/var/folders/01/1jhjxsz50y902wkbvgv3nj5r0000gn/T/ipykernel_18094/3831573612.py\", line 34, in clean_save_article\n",
      "  File \"/Users/sophiabuehl/Library/Python/3.9/lib/python/site-packages/IPython/core/interactiveshell.py\", line 282, in _modified_open\n",
      "    return io_open(file, *args, **kwargs)\n",
      "FileExistsError: [Errno 17] File exists: './data/exzellent/2666.txt'\n"
     ]
    },
    {
     "name": "stdout",
     "output_type": "stream",
     "text": [
      " Verarbeitete Artikel: 1795 davon exzellent: 73"
     ]
    },
    {
     "name": "stderr",
     "output_type": "stream",
     "text": [
      "Exception in thread Thread-4904:\n",
      "Traceback (most recent call last):\n",
      "  File \"/opt/homebrew/Cellar/python@3.9/3.9.10/Frameworks/Python.framework/Versions/3.9/lib/python3.9/threading.py\", line 973, in _bootstrap_inner\n",
      "    self.run()\n",
      "  File \"/opt/homebrew/Cellar/python@3.9/3.9.10/Frameworks/Python.framework/Versions/3.9/lib/python3.9/threading.py\", line 910, in run\n",
      "    self._target(*self._args, **self._kwargs)\n",
      "  File \"/var/folders/01/1jhjxsz50y902wkbvgv3nj5r0000gn/T/ipykernel_18094/3831573612.py\", line 34, in clean_save_article\n",
      "  File \"/Users/sophiabuehl/Library/Python/3.9/lib/python/site-packages/IPython/core/interactiveshell.py\", line 282, in _modified_open\n",
      "Exception in thread Thread-4798:\n",
      "Traceback (most recent call last):\n",
      "  File \"/opt/homebrew/Cellar/python@3.9/3.9.10/Frameworks/Python.framework/Versions/3.9/lib/python3.9/threading.py\", line 973, in _bootstrap_inner\n",
      "    self.run()\n",
      "  File \"/opt/homebrew/Cellar/python@3.9/3.9.10/Frameworks/Python.framework/Versions/3.9/lib/python3.9/threading.py\", line 910, in run\n",
      "    self._target(*self._args, **self._kwargs)\n",
      "  File \"/var/folders/01/1jhjxsz50y902wkbvgv3nj5r0000gn/T/ipykernel_18094/3831573612.py\", line 34, in clean_save_article\n",
      "    return io_open(file, *args, **kwargs)\n",
      "FileExistsError: [Errno 17] File exists: './data/exzellent/2658.txt'\n",
      "  File \"/Users/sophiabuehl/Library/Python/3.9/lib/python/site-packages/IPython/core/interactiveshell.py\", line 282, in _modified_open\n",
      "    return io_open(file, *args, **kwargs)\n",
      "FileExistsError: [Errno 17] File exists: './data/exzellent/2501.txt'\n"
     ]
    },
    {
     "name": "stdout",
     "output_type": "stream",
     "text": [
      " Verarbeitete Artikel: 1806 davon exzellent: 73"
     ]
    },
    {
     "name": "stderr",
     "output_type": "stream",
     "text": [
      "Exception in thread Thread-4919:\n",
      "Traceback (most recent call last):\n",
      "  File \"/opt/homebrew/Cellar/python@3.9/3.9.10/Frameworks/Python.framework/Versions/3.9/lib/python3.9/threading.py\", line 973, in _bootstrap_inner\n"
     ]
    },
    {
     "name": "stdout",
     "output_type": "stream",
     "text": [
      " Verarbeitete Artikel: 1807 davon exzellent: 73"
     ]
    },
    {
     "name": "stderr",
     "output_type": "stream",
     "text": [
      "    self.run()\n",
      "  File \"/opt/homebrew/Cellar/python@3.9/3.9.10/Frameworks/Python.framework/Versions/3.9/lib/python3.9/threading.py\", line 910, in run\n",
      "    self._target(*self._args, **self._kwargs)\n",
      "  File \"/var/folders/01/1jhjxsz50y902wkbvgv3nj5r0000gn/T/ipykernel_18094/3831573612.py\", line 34, in clean_save_article\n"
     ]
    },
    {
     "name": "stdout",
     "output_type": "stream",
     "text": [
      " Verarbeitete Artikel: 1809 davon exzellent: 73"
     ]
    },
    {
     "name": "stderr",
     "output_type": "stream",
     "text": [
      "  File \"/Users/sophiabuehl/Library/Python/3.9/lib/python/site-packages/IPython/core/interactiveshell.py\", line 282, in _modified_open\n",
      "    return io_open(file, *args, **kwargs)\n",
      "FileExistsError: [Errno 17] File exists: './data/exzellent/2677.txt'\n"
     ]
    },
    {
     "name": "stdout",
     "output_type": "stream",
     "text": [
      " Verarbeitete Artikel: 1940 davon exzellent: 76"
     ]
    },
    {
     "name": "stderr",
     "output_type": "stream",
     "text": [
      "Exception in thread Thread-5087:\n",
      "Traceback (most recent call last):\n",
      "  File \"/opt/homebrew/Cellar/python@3.9/3.9.10/Frameworks/Python.framework/Versions/3.9/lib/python3.9/threading.py\", line 973, in _bootstrap_inner\n",
      "    self.run()\n",
      "  File \"/opt/homebrew/Cellar/python@3.9/3.9.10/Frameworks/Python.framework/Versions/3.9/lib/python3.9/threading.py\", line 910, in run\n",
      "    self._target(*self._args, **self._kwargs)\n",
      "  File \"/var/folders/01/1jhjxsz50y902wkbvgv3nj5r0000gn/T/ipykernel_18094/3831573612.py\", line 34, in clean_save_article\n",
      "  File \"/Users/sophiabuehl/Library/Python/3.9/lib/python/site-packages/IPython/core/interactiveshell.py\", line 282, in _modified_open\n",
      "    return io_open(file, *args, **kwargs)\n",
      "FileExistsError: [Errno 17] File exists: './data/exzellent/2933.txt'\n"
     ]
    },
    {
     "name": "stdout",
     "output_type": "stream",
     "text": [
      " Verarbeitete Artikel: 1950 davon exzellent: 77"
     ]
    },
    {
     "name": "stderr",
     "output_type": "stream",
     "text": [
      "Exception in thread Thread-5103:\n",
      "Traceback (most recent call last):\n",
      "  File \"/opt/homebrew/Cellar/python@3.9/3.9.10/Frameworks/Python.framework/Versions/3.9/lib/python3.9/threading.py\", line 973, in _bootstrap_inner\n",
      "Exception in thread Thread-5086:\n",
      "Traceback (most recent call last):\n",
      "  File \"/opt/homebrew/Cellar/python@3.9/3.9.10/Frameworks/Python.framework/Versions/3.9/lib/python3.9/threading.py\", line 973, in _bootstrap_inner\n",
      "    self.run()\n",
      "  File \"/opt/homebrew/Cellar/python@3.9/3.9.10/Frameworks/Python.framework/Versions/3.9/lib/python3.9/threading.py\", line 910, in run\n",
      "    self.run()\n",
      "  File \"/opt/homebrew/Cellar/python@3.9/3.9.10/Frameworks/Python.framework/Versions/3.9/lib/python3.9/threading.py\", line 910, in run\n",
      "    self._target(*self._args, **self._kwargs)\n",
      "  File \"/var/folders/01/1jhjxsz50y902wkbvgv3nj5r0000gn/T/ipykernel_18094/3831573612.py\", line 34, in clean_save_article\n",
      "  File \"/Users/sophiabuehl/Library/Python/3.9/lib/python/site-packages/IPython/core/interactiveshell.py\", line 282, in _modified_open\n",
      "    self._target(*self._args, **self._kwargs)\n",
      "  File \"/var/folders/01/1jhjxsz50y902wkbvgv3nj5r0000gn/T/ipykernel_18094/3831573612.py\", line 34, in clean_save_article\n",
      "    return io_open(file, *args, **kwargs)\n",
      "FileExistsError: [Errno 17] File exists: './data/exzellent/2951.txt'\n"
     ]
    },
    {
     "name": "stdout",
     "output_type": "stream",
     "text": [
      " Verarbeitete Artikel: 1951 davon exzellent: 77"
     ]
    },
    {
     "name": "stderr",
     "output_type": "stream",
     "text": [
      "  File \"/Users/sophiabuehl/Library/Python/3.9/lib/python/site-packages/IPython/core/interactiveshell.py\", line 282, in _modified_open\n"
     ]
    },
    {
     "name": "stdout",
     "output_type": "stream",
     "text": [
      " Verarbeitete Artikel: 1952 davon exzellent: 77"
     ]
    },
    {
     "name": "stderr",
     "output_type": "stream",
     "text": [
      "    return io_open(file, *args, **kwargs)\n",
      "FileExistsError: [Errno 17] File exists: './data/exzellent/2932.txt'\n"
     ]
    },
    {
     "name": "stdout",
     "output_type": "stream",
     "text": [
      " Verarbeitete Artikel: 1956 davon exzellent: 77"
     ]
    },
    {
     "name": "stderr",
     "output_type": "stream",
     "text": [
      "Exception in thread Thread-4978:\n",
      "Traceback (most recent call last):\n",
      "  File \"/opt/homebrew/Cellar/python@3.9/3.9.10/Frameworks/Python.framework/Versions/3.9/lib/python3.9/threading.py\", line 973, in _bootstrap_inner\n"
     ]
    },
    {
     "name": "stdout",
     "output_type": "stream",
     "text": [
      " Verarbeitete Artikel: 1959 davon exzellent: 78"
     ]
    },
    {
     "name": "stderr",
     "output_type": "stream",
     "text": [
      "    self.run()\n",
      "  File \"/opt/homebrew/Cellar/python@3.9/3.9.10/Frameworks/Python.framework/Versions/3.9/lib/python3.9/threading.py\", line 910, in run\n",
      "    self._target(*self._args, **self._kwargs)\n",
      "  File \"/var/folders/01/1jhjxsz50y902wkbvgv3nj5r0000gn/T/ipykernel_18094/3831573612.py\", line 34, in clean_save_article\n",
      "  File \"/Users/sophiabuehl/Library/Python/3.9/lib/python/site-packages/IPython/core/interactiveshell.py\", line 282, in _modified_open\n",
      "    return io_open(file, *args, **kwargs)\n",
      "FileExistsError: [Errno 17] File exists: './data/exzellent/2765.txt'\n"
     ]
    },
    {
     "name": "stdout",
     "output_type": "stream",
     "text": [
      " Verarbeitete Artikel: 1979 davon exzellent: 79"
     ]
    },
    {
     "name": "stderr",
     "output_type": "stream",
     "text": [
      "Exception in thread Thread-5120:\n",
      "Traceback (most recent call last):\n",
      "  File \"/opt/homebrew/Cellar/python@3.9/3.9.10/Frameworks/Python.framework/Versions/3.9/lib/python3.9/threading.py\", line 973, in _bootstrap_inner\n",
      "    self.run()\n",
      "  File \"/opt/homebrew/Cellar/python@3.9/3.9.10/Frameworks/Python.framework/Versions/3.9/lib/python3.9/threading.py\", line 910, in run\n",
      "    self._target(*self._args, **self._kwargs)\n",
      "  File \"/var/folders/01/1jhjxsz50y902wkbvgv3nj5r0000gn/T/ipykernel_18094/3831573612.py\", line 34, in clean_save_article\n",
      "  File \"/Users/sophiabuehl/Library/Python/3.9/lib/python/site-packages/IPython/core/interactiveshell.py\", line 282, in _modified_open\n",
      "    return io_open(file, *args, **kwargs)\n",
      "FileExistsError: [Errno 17] File exists: './data/exzellent/2973.txt'\n"
     ]
    },
    {
     "name": "stdout",
     "output_type": "stream",
     "text": [
      " Verarbeitete Artikel: 2000 davon exzellent: 80"
     ]
    },
    {
     "name": "stderr",
     "output_type": "stream",
     "text": [
      "Exception in thread Thread-5151:\n",
      "Traceback (most recent call last):\n",
      "  File \"/opt/homebrew/Cellar/python@3.9/3.9.10/Frameworks/Python.framework/Versions/3.9/lib/python3.9/threading.py\", line 973, in _bootstrap_inner\n",
      "    self.run()\n",
      "  File \"/opt/homebrew/Cellar/python@3.9/3.9.10/Frameworks/Python.framework/Versions/3.9/lib/python3.9/threading.py\", line 910, in run\n",
      "    self._target(*self._args, **self._kwargs)\n",
      "  File \"/var/folders/01/1jhjxsz50y902wkbvgv3nj5r0000gn/T/ipykernel_18094/3831573612.py\", line 34, in clean_save_article\n",
      "  File \"/Users/sophiabuehl/Library/Python/3.9/lib/python/site-packages/IPython/core/interactiveshell.py\", line 282, in _modified_open\n",
      "    return io_open(file, *args, **kwargs)\n",
      "FileExistsError: [Errno 17] File exists: './data/exzellent/3016.txt'\n"
     ]
    },
    {
     "name": "stdout",
     "output_type": "stream",
     "text": [
      " Verarbeitete Artikel: 2022 davon exzellent: 81"
     ]
    },
    {
     "name": "stderr",
     "output_type": "stream",
     "text": [
      "Exception in thread Thread-5172:\n",
      "Traceback (most recent call last):\n",
      "  File \"/opt/homebrew/Cellar/python@3.9/3.9.10/Frameworks/Python.framework/Versions/3.9/lib/python3.9/threading.py\", line 973, in _bootstrap_inner\n",
      "    self.run()\n",
      "  File \"/opt/homebrew/Cellar/python@3.9/3.9.10/Frameworks/Python.framework/Versions/3.9/lib/python3.9/threading.py\", line 910, in run\n",
      "    self._target(*self._args, **self._kwargs)\n",
      "  File \"/var/folders/01/1jhjxsz50y902wkbvgv3nj5r0000gn/T/ipykernel_18094/3831573612.py\", line 34, in clean_save_article\n",
      "  File \"/Users/sophiabuehl/Library/Python/3.9/lib/python/site-packages/IPython/core/interactiveshell.py\", line 282, in _modified_open\n",
      "    return io_open(file, *args, **kwargs)\n",
      "FileExistsError: [Errno 17] File exists: './data/exzellent/3043.txt'\n"
     ]
    },
    {
     "name": "stdout",
     "output_type": "stream",
     "text": [
      " Verarbeitete Artikel: 2041 davon exzellent: 81"
     ]
    },
    {
     "name": "stderr",
     "output_type": "stream",
     "text": [
      "Exception in thread Thread-5136:\n",
      "Traceback (most recent call last):\n",
      "  File \"/opt/homebrew/Cellar/python@3.9/3.9.10/Frameworks/Python.framework/Versions/3.9/lib/python3.9/threading.py\", line 973, in _bootstrap_inner\n",
      "    self.run()\n",
      "  File \"/opt/homebrew/Cellar/python@3.9/3.9.10/Frameworks/Python.framework/Versions/3.9/lib/python3.9/threading.py\", line 910, in run\n",
      "    self._target(*self._args, **self._kwargs)\n",
      "  File \"/var/folders/01/1jhjxsz50y902wkbvgv3nj5r0000gn/T/ipykernel_18094/3831573612.py\", line 34, in clean_save_article\n",
      "  File \"/Users/sophiabuehl/Library/Python/3.9/lib/python/site-packages/IPython/core/interactiveshell.py\", line 282, in _modified_open\n",
      "    return io_open(file, *args, **kwargs)\n",
      "FileExistsError: [Errno 17] File exists: './data/exzellent/2996.txt'\n"
     ]
    },
    {
     "name": "stdout",
     "output_type": "stream",
     "text": [
      " Verarbeitete Artikel: 2131 davon exzellent: 82"
     ]
    },
    {
     "name": "stderr",
     "output_type": "stream",
     "text": [
      "Exception in thread Thread-5266:\n",
      "Traceback (most recent call last):\n",
      "  File \"/opt/homebrew/Cellar/python@3.9/3.9.10/Frameworks/Python.framework/Versions/3.9/lib/python3.9/threading.py\", line 973, in _bootstrap_inner\n",
      "    self.run()\n",
      "  File \"/opt/homebrew/Cellar/python@3.9/3.9.10/Frameworks/Python.framework/Versions/3.9/lib/python3.9/threading.py\", line 910, in run\n",
      "    self._target(*self._args, **self._kwargs)\n",
      "  File \"/var/folders/01/1jhjxsz50y902wkbvgv3nj5r0000gn/T/ipykernel_18094/3831573612.py\", line 34, in clean_save_article\n",
      "  File \"/Users/sophiabuehl/Library/Python/3.9/lib/python/site-packages/IPython/core/interactiveshell.py\", line 282, in _modified_open\n",
      "    return io_open(file, *args, **kwargs)\n",
      "FileExistsError: [Errno 17] File exists: './data/exzellent/3174.txt'\n"
     ]
    },
    {
     "name": "stdout",
     "output_type": "stream",
     "text": [
      " Verarbeitete Artikel: 2175 davon exzellent: 83"
     ]
    },
    {
     "name": "stderr",
     "output_type": "stream",
     "text": [
      "Exception in thread Thread-5309:\n",
      "Traceback (most recent call last):\n",
      "  File \"/opt/homebrew/Cellar/python@3.9/3.9.10/Frameworks/Python.framework/Versions/3.9/lib/python3.9/threading.py\", line 973, in _bootstrap_inner\n",
      "    self.run()\n",
      "  File \"/opt/homebrew/Cellar/python@3.9/3.9.10/Frameworks/Python.framework/Versions/3.9/lib/python3.9/threading.py\", line 910, in run\n",
      "    self._target(*self._args, **self._kwargs)\n",
      "  File \"/var/folders/01/1jhjxsz50y902wkbvgv3nj5r0000gn/T/ipykernel_18094/3831573612.py\", line 34, in clean_save_article\n",
      "  File \"/Users/sophiabuehl/Library/Python/3.9/lib/python/site-packages/IPython/core/interactiveshell.py\", line 282, in _modified_open\n",
      "    return io_open(file, *args, **kwargs)\n",
      "FileExistsError: [Errno 17] File exists: './data/exzellent/3243.txt'\n"
     ]
    },
    {
     "name": "stdout",
     "output_type": "stream",
     "text": [
      " Verarbeitete Artikel: 2196 davon exzellent: 86"
     ]
    },
    {
     "name": "stderr",
     "output_type": "stream",
     "text": [
      "Exception in thread Thread-5345:\n",
      "Traceback (most recent call last):\n",
      "  File \"/opt/homebrew/Cellar/python@3.9/3.9.10/Frameworks/Python.framework/Versions/3.9/lib/python3.9/threading.py\", line 973, in _bootstrap_inner\n",
      "    self.run()\n",
      "  File \"/opt/homebrew/Cellar/python@3.9/3.9.10/Frameworks/Python.framework/Versions/3.9/lib/python3.9/threading.py\", line 910, in run\n",
      "    self._target(*self._args, **self._kwargs)\n",
      "  File \"/var/folders/01/1jhjxsz50y902wkbvgv3nj5r0000gn/T/ipykernel_18094/3831573612.py\", line 34, in clean_save_article\n",
      "  File \"/Users/sophiabuehl/Library/Python/3.9/lib/python/site-packages/IPython/core/interactiveshell.py\", line 282, in _modified_open\n",
      "    return io_open(file, *args, **kwargs)\n",
      "FileExistsError: [Errno 17] File exists: './data/exzellent/3291.txt'\n"
     ]
    },
    {
     "name": "stdout",
     "output_type": "stream",
     "text": [
      " Verarbeitete Artikel: 2262 davon exzellent: 90"
     ]
    },
    {
     "name": "stderr",
     "output_type": "stream",
     "text": [
      "Exception in thread Thread-5349:\n",
      "Traceback (most recent call last):\n",
      "  File \"/opt/homebrew/Cellar/python@3.9/3.9.10/Frameworks/Python.framework/Versions/3.9/lib/python3.9/threading.py\", line 973, in _bootstrap_inner\n",
      "    self.run()\n",
      "  File \"/opt/homebrew/Cellar/python@3.9/3.9.10/Frameworks/Python.framework/Versions/3.9/lib/python3.9/threading.py\", line 910, in run\n",
      "    self._target(*self._args, **self._kwargs)\n",
      "  File \"/var/folders/01/1jhjxsz50y902wkbvgv3nj5r0000gn/T/ipykernel_18094/3831573612.py\", line 34, in clean_save_article\n",
      "  File \"/Users/sophiabuehl/Library/Python/3.9/lib/python/site-packages/IPython/core/interactiveshell.py\", line 282, in _modified_open\n",
      "    return io_open(file, *args, **kwargs)\n",
      "FileExistsError: [Errno 17] File exists: './data/exzellent/3296.txt'\n"
     ]
    },
    {
     "name": "stdout",
     "output_type": "stream",
     "text": [
      " Verarbeitete Artikel: 2268 davon exzellent: 90"
     ]
    },
    {
     "name": "stderr",
     "output_type": "stream",
     "text": [
      "Exception in thread Thread-5344:\n",
      "Traceback (most recent call last):\n",
      "  File \"/opt/homebrew/Cellar/python@3.9/3.9.10/Frameworks/Python.framework/Versions/3.9/lib/python3.9/threading.py\", line 973, in _bootstrap_inner\n",
      "    self.run()\n",
      "  File \"/opt/homebrew/Cellar/python@3.9/3.9.10/Frameworks/Python.framework/Versions/3.9/lib/python3.9/threading.py\", line 910, in run\n",
      "    self._target(*self._args, **self._kwargs)\n",
      "  File \"/var/folders/01/1jhjxsz50y902wkbvgv3nj5r0000gn/T/ipykernel_18094/3831573612.py\", line 34, in clean_save_article\n",
      "  File \"/Users/sophiabuehl/Library/Python/3.9/lib/python/site-packages/IPython/core/interactiveshell.py\", line 282, in _modified_open\n",
      "    return io_open(file, *args, **kwargs)\n",
      "FileExistsError: [Errno 17] File exists: './data/exzellent/3289.txt'\n"
     ]
    },
    {
     "name": "stdout",
     "output_type": "stream",
     "text": [
      " Verarbeitete Artikel: 2279 davon exzellent: 91"
     ]
    },
    {
     "name": "stderr",
     "output_type": "stream",
     "text": [
      "Exception in thread Thread-5421:\n",
      "Traceback (most recent call last):\n",
      "  File \"/opt/homebrew/Cellar/python@3.9/3.9.10/Frameworks/Python.framework/Versions/3.9/lib/python3.9/threading.py\", line 973, in _bootstrap_inner\n",
      "    self.run()\n",
      "  File \"/opt/homebrew/Cellar/python@3.9/3.9.10/Frameworks/Python.framework/Versions/3.9/lib/python3.9/threading.py\", line 910, in run\n",
      "    self._target(*self._args, **self._kwargs)\n",
      "  File \"/var/folders/01/1jhjxsz50y902wkbvgv3nj5r0000gn/T/ipykernel_18094/3831573612.py\", line 34, in clean_save_article\n",
      "  File \"/Users/sophiabuehl/Library/Python/3.9/lib/python/site-packages/IPython/core/interactiveshell.py\", line 282, in _modified_open\n",
      "    return io_open(file, *args, **kwargs)\n",
      "FileExistsError: [Errno 17] File exists: './data/exzellent/3385.txt'\n"
     ]
    },
    {
     "name": "stdout",
     "output_type": "stream",
     "text": [
      " Verarbeitete Artikel: 2280 davon exzellent: 91"
     ]
    },
    {
     "name": "stderr",
     "output_type": "stream",
     "text": [
      "Exception in thread Thread-5414:\n",
      "Traceback (most recent call last):\n",
      "  File \"/opt/homebrew/Cellar/python@3.9/3.9.10/Frameworks/Python.framework/Versions/3.9/lib/python3.9/threading.py\", line 973, in _bootstrap_inner\n"
     ]
    },
    {
     "name": "stdout",
     "output_type": "stream",
     "text": [
      " Verarbeitete Artikel: 2283 davon exzellent: 91"
     ]
    },
    {
     "name": "stderr",
     "output_type": "stream",
     "text": [
      "    self.run()\n",
      "  File \"/opt/homebrew/Cellar/python@3.9/3.9.10/Frameworks/Python.framework/Versions/3.9/lib/python3.9/threading.py\", line 910, in run\n",
      "    self._target(*self._args, **self._kwargs)\n",
      "  File \"/var/folders/01/1jhjxsz50y902wkbvgv3nj5r0000gn/T/ipykernel_18094/3831573612.py\", line 34, in clean_save_article\n",
      "  File \"/Users/sophiabuehl/Library/Python/3.9/lib/python/site-packages/IPython/core/interactiveshell.py\", line 282, in _modified_open\n",
      "    return io_open(file, *args, **kwargs)\n",
      "FileExistsError: [Errno 17] File exists: './data/exzellent/3375.txt'\n"
     ]
    },
    {
     "name": "stdout",
     "output_type": "stream",
     "text": [
      " Verarbeitete Artikel: 2294 davon exzellent: 91"
     ]
    },
    {
     "name": "stderr",
     "output_type": "stream",
     "text": [
      "Exception in thread Thread-5397:\n",
      "Traceback (most recent call last):\n",
      "  File \"/opt/homebrew/Cellar/python@3.9/3.9.10/Frameworks/Python.framework/Versions/3.9/lib/python3.9/threading.py\", line 973, in _bootstrap_inner\n",
      "    self.run()\n",
      "  File \"/opt/homebrew/Cellar/python@3.9/3.9.10/Frameworks/Python.framework/Versions/3.9/lib/python3.9/threading.py\", line 910, in run\n",
      "    self._target(*self._args, **self._kwargs)\n",
      "  File \"/var/folders/01/1jhjxsz50y902wkbvgv3nj5r0000gn/T/ipykernel_18094/3831573612.py\", line 34, in clean_save_article\n",
      "  File \"/Users/sophiabuehl/Library/Python/3.9/lib/python/site-packages/IPython/core/interactiveshell.py\", line 282, in _modified_open\n",
      "    return io_open(file, *args, **kwargs)\n",
      "FileExistsError: [Errno 17] File exists: './data/exzellent/3356.txt'\n"
     ]
    },
    {
     "name": "stdout",
     "output_type": "stream",
     "text": [
      " Verarbeitete Artikel: 2307 davon exzellent: 91"
     ]
    },
    {
     "name": "stderr",
     "output_type": "stream",
     "text": [
      "Exception in thread Thread-5399:\n",
      "Traceback (most recent call last):\n",
      "  File \"/opt/homebrew/Cellar/python@3.9/3.9.10/Frameworks/Python.framework/Versions/3.9/lib/python3.9/threading.py\", line 973, in _bootstrap_inner\n",
      "    self.run()\n",
      "  File \"/opt/homebrew/Cellar/python@3.9/3.9.10/Frameworks/Python.framework/Versions/3.9/lib/python3.9/threading.py\", line 910, in run\n",
      "    self._target(*self._args, **self._kwargs)\n",
      "  File \"/var/folders/01/1jhjxsz50y902wkbvgv3nj5r0000gn/T/ipykernel_18094/3831573612.py\", line 34, in clean_save_article\n",
      "  File \"/Users/sophiabuehl/Library/Python/3.9/lib/python/site-packages/IPython/core/interactiveshell.py\", line 282, in _modified_open\n",
      "    return io_open(file, *args, **kwargs)\n",
      "FileExistsError: [Errno 17] File exists: './data/exzellent/3360.txt'\n"
     ]
    },
    {
     "name": "stdout",
     "output_type": "stream",
     "text": [
      " Verarbeitete Artikel: 2312 davon exzellent: 92"
     ]
    },
    {
     "name": "stderr",
     "output_type": "stream",
     "text": [
      "Exception in thread Thread-5430:\n",
      "Traceback (most recent call last):\n",
      "  File \"/opt/homebrew/Cellar/python@3.9/3.9.10/Frameworks/Python.framework/Versions/3.9/lib/python3.9/threading.py\", line 973, in _bootstrap_inner\n",
      "    self.run()\n",
      "  File \"/opt/homebrew/Cellar/python@3.9/3.9.10/Frameworks/Python.framework/Versions/3.9/lib/python3.9/threading.py\", line 910, in run\n"
     ]
    },
    {
     "name": "stdout",
     "output_type": "stream",
     "text": [
      " Verarbeitete Artikel: 2313 davon exzellent: 92"
     ]
    },
    {
     "name": "stderr",
     "output_type": "stream",
     "text": [
      "    self._target(*self._args, **self._kwargs)\n",
      "  File \"/var/folders/01/1jhjxsz50y902wkbvgv3nj5r0000gn/T/ipykernel_18094/3831573612.py\", line 34, in clean_save_article\n",
      "  File \"/Users/sophiabuehl/Library/Python/3.9/lib/python/site-packages/IPython/core/interactiveshell.py\", line 282, in _modified_open\n",
      "    return io_open(file, *args, **kwargs)\n",
      "FileExistsError: [Errno 17] File exists: './data/exzellent/3397.txt'\n"
     ]
    },
    {
     "name": "stdout",
     "output_type": "stream",
     "text": [
      " Verarbeitete Artikel: 2327 davon exzellent: 93"
     ]
    },
    {
     "name": "stderr",
     "output_type": "stream",
     "text": [
      "Exception in thread Thread-5471:\n",
      "Traceback (most recent call last):\n",
      "  File \"/opt/homebrew/Cellar/python@3.9/3.9.10/Frameworks/Python.framework/Versions/3.9/lib/python3.9/threading.py\", line 973, in _bootstrap_inner\n"
     ]
    },
    {
     "name": "stdout",
     "output_type": "stream",
     "text": [
      " Verarbeitete Artikel: 2328 davon exzellent: 93"
     ]
    },
    {
     "name": "stderr",
     "output_type": "stream",
     "text": [
      "    self.run()\n",
      "  File \"/opt/homebrew/Cellar/python@3.9/3.9.10/Frameworks/Python.framework/Versions/3.9/lib/python3.9/threading.py\", line 910, in run\n",
      "    self._target(*self._args, **self._kwargs)\n",
      "  File \"/var/folders/01/1jhjxsz50y902wkbvgv3nj5r0000gn/T/ipykernel_18094/3831573612.py\", line 34, in clean_save_article\n",
      "  File \"/Users/sophiabuehl/Library/Python/3.9/lib/python/site-packages/IPython/core/interactiveshell.py\", line 282, in _modified_open\n",
      "    return io_open(file, *args, **kwargs)\n",
      "FileExistsError: [Errno 17] File exists: './data/exzellent/3454.txt'\n"
     ]
    },
    {
     "name": "stdout",
     "output_type": "stream",
     "text": [
      " Verarbeitete Artikel: 2334 davon exzellent: 93"
     ]
    },
    {
     "name": "stderr",
     "output_type": "stream",
     "text": [
      "Exception in thread Thread-5488:\n",
      "Traceback (most recent call last):\n",
      "  File \"/opt/homebrew/Cellar/python@3.9/3.9.10/Frameworks/Python.framework/Versions/3.9/lib/python3.9/threading.py\", line 973, in _bootstrap_inner\n",
      "    self.run()\n",
      "  File \"/opt/homebrew/Cellar/python@3.9/3.9.10/Frameworks/Python.framework/Versions/3.9/lib/python3.9/threading.py\", line 910, in run\n",
      "    self._target(*self._args, **self._kwargs)\n",
      "  File \"/var/folders/01/1jhjxsz50y902wkbvgv3nj5r0000gn/T/ipykernel_18094/3831573612.py\", line 34, in clean_save_article\n",
      "  File \"/Users/sophiabuehl/Library/Python/3.9/lib/python/site-packages/IPython/core/interactiveshell.py\", line 282, in _modified_open\n",
      "    return io_open(file, *args, **kwargs)\n",
      "FileExistsError: [Errno 17] File exists: './data/exzellent/3473.txt'\n"
     ]
    },
    {
     "name": "stdout",
     "output_type": "stream",
     "text": [
      " Verarbeitete Artikel: 2417 davon exzellent: 95"
     ]
    },
    {
     "name": "stderr",
     "output_type": "stream",
     "text": [
      "Exception in thread Thread-5515:\n",
      "Traceback (most recent call last):\n",
      "  File \"/opt/homebrew/Cellar/python@3.9/3.9.10/Frameworks/Python.framework/Versions/3.9/lib/python3.9/threading.py\", line 973, in _bootstrap_inner\n",
      "    self.run()\n",
      "  File \"/opt/homebrew/Cellar/python@3.9/3.9.10/Frameworks/Python.framework/Versions/3.9/lib/python3.9/threading.py\", line 910, in run\n",
      "    self._target(*self._args, **self._kwargs)\n",
      "  File \"/var/folders/01/1jhjxsz50y902wkbvgv3nj5r0000gn/T/ipykernel_18094/3831573612.py\", line 34, in clean_save_article\n",
      "  File \"/Users/sophiabuehl/Library/Python/3.9/lib/python/site-packages/IPython/core/interactiveshell.py\", line 282, in _modified_open\n",
      "    return io_open(file, *args, **kwargs)\n",
      "FileExistsError: [Errno 17] File exists: './data/exzellent/3530.txt'\n"
     ]
    },
    {
     "name": "stdout",
     "output_type": "stream",
     "text": [
      " Verarbeitete Artikel: 2478 davon exzellent: 96"
     ]
    },
    {
     "name": "stderr",
     "output_type": "stream",
     "text": [
      "Exception in thread Thread-5578:\n",
      "Traceback (most recent call last):\n",
      "  File \"/opt/homebrew/Cellar/python@3.9/3.9.10/Frameworks/Python.framework/Versions/3.9/lib/python3.9/threading.py\", line 973, in _bootstrap_inner\n",
      "    self.run()\n",
      "  File \"/opt/homebrew/Cellar/python@3.9/3.9.10/Frameworks/Python.framework/Versions/3.9/lib/python3.9/threading.py\", line 910, in run\n",
      "    self._target(*self._args, **self._kwargs)\n",
      "  File \"/var/folders/01/1jhjxsz50y902wkbvgv3nj5r0000gn/T/ipykernel_18094/3831573612.py\", line 34, in clean_save_article\n",
      "  File \"/Users/sophiabuehl/Library/Python/3.9/lib/python/site-packages/IPython/core/interactiveshell.py\", line 282, in _modified_open\n",
      "    return io_open(file, *args, **kwargs)\n",
      "FileExistsError: [Errno 17] File exists: './data/exzellent/3602.txt'\n"
     ]
    },
    {
     "name": "stdout",
     "output_type": "stream",
     "text": [
      " Verarbeitete Artikel: 2482 davon exzellent: 96"
     ]
    },
    {
     "name": "stderr",
     "output_type": "stream",
     "text": [
      "Exception in thread Thread-5636:\n",
      "Traceback (most recent call last):\n",
      "  File \"/opt/homebrew/Cellar/python@3.9/3.9.10/Frameworks/Python.framework/Versions/3.9/lib/python3.9/threading.py\", line 973, in _bootstrap_inner\n",
      "    self.run()\n",
      "  File \"/opt/homebrew/Cellar/python@3.9/3.9.10/Frameworks/Python.framework/Versions/3.9/lib/python3.9/threading.py\", line 910, in run\n",
      "    self._target(*self._args, **self._kwargs)\n",
      "  File \"/var/folders/01/1jhjxsz50y902wkbvgv3nj5r0000gn/T/ipykernel_18094/3831573612.py\", line 34, in clean_save_article\n",
      "  File \"/Users/sophiabuehl/Library/Python/3.9/lib/python/site-packages/IPython/core/interactiveshell.py\", line 282, in _modified_open\n",
      "    return io_open(file, *args, **kwargs)\n",
      "FileExistsError: [Errno 17] File exists: './data/exzellent/3701.txt'\n"
     ]
    },
    {
     "name": "stdout",
     "output_type": "stream",
     "text": [
      " Verarbeitete Artikel: 2521 davon exzellent: 98"
     ]
    },
    {
     "name": "stderr",
     "output_type": "stream",
     "text": [
      "Exception in thread Thread-5663:\n",
      "Traceback (most recent call last):\n",
      "  File \"/opt/homebrew/Cellar/python@3.9/3.9.10/Frameworks/Python.framework/Versions/3.9/lib/python3.9/threading.py\", line 973, in _bootstrap_inner\n",
      "    self.run()\n",
      "  File \"/opt/homebrew/Cellar/python@3.9/3.9.10/Frameworks/Python.framework/Versions/3.9/lib/python3.9/threading.py\", line 910, in run\n",
      "    self._target(*self._args, **self._kwargs)\n",
      "  File \"/var/folders/01/1jhjxsz50y902wkbvgv3nj5r0000gn/T/ipykernel_18094/3831573612.py\", line 34, in clean_save_article\n",
      "  File \"/Users/sophiabuehl/Library/Python/3.9/lib/python/site-packages/IPython/core/interactiveshell.py\", line 282, in _modified_open\n",
      "    return io_open(file, *args, **kwargs)\n",
      "FileExistsError: [Errno 17] File exists: './data/exzellent/3733.txt'\n"
     ]
    },
    {
     "name": "stdout",
     "output_type": "stream",
     "text": [
      " Verarbeitete Artikel: 2562 davon exzellent: 98"
     ]
    },
    {
     "name": "stderr",
     "output_type": "stream",
     "text": [
      "Exception in thread Thread-5682:\n",
      "Traceback (most recent call last):\n",
      "  File \"/opt/homebrew/Cellar/python@3.9/3.9.10/Frameworks/Python.framework/Versions/3.9/lib/python3.9/threading.py\", line 973, in _bootstrap_inner\n",
      "    self.run()\n",
      "  File \"/opt/homebrew/Cellar/python@3.9/3.9.10/Frameworks/Python.framework/Versions/3.9/lib/python3.9/threading.py\", line 910, in run\n",
      "    self._target(*self._args, **self._kwargs)\n",
      "  File \"/var/folders/01/1jhjxsz50y902wkbvgv3nj5r0000gn/T/ipykernel_18094/3831573612.py\", line 34, in clean_save_article\n",
      "  File \"/Users/sophiabuehl/Library/Python/3.9/lib/python/site-packages/IPython/core/interactiveshell.py\", line 282, in _modified_open\n",
      "    return io_open(file, *args, **kwargs)\n",
      "FileExistsError: [Errno 17] File exists: './data/exzellent/3754.txt'\n"
     ]
    },
    {
     "name": "stdout",
     "output_type": "stream",
     "text": [
      " Verarbeitete Artikel: 2628 davon exzellent: 101"
     ]
    },
    {
     "name": "stderr",
     "output_type": "stream",
     "text": [
      "Exception in thread Thread-5773:\n",
      "Traceback (most recent call last):\n",
      "  File \"/opt/homebrew/Cellar/python@3.9/3.9.10/Frameworks/Python.framework/Versions/3.9/lib/python3.9/threading.py\", line 973, in _bootstrap_inner\n",
      "    self.run()\n",
      "  File \"/opt/homebrew/Cellar/python@3.9/3.9.10/Frameworks/Python.framework/Versions/3.9/lib/python3.9/threading.py\", line 910, in run\n",
      "    self._target(*self._args, **self._kwargs)\n",
      "  File \"/var/folders/01/1jhjxsz50y902wkbvgv3nj5r0000gn/T/ipykernel_18094/3831573612.py\", line 34, in clean_save_article\n",
      "  File \"/Users/sophiabuehl/Library/Python/3.9/lib/python/site-packages/IPython/core/interactiveshell.py\", line 282, in _modified_open\n",
      "    return io_open(file, *args, **kwargs)\n",
      "FileExistsError: [Errno 17] File exists: './data/exzellent/3876.txt'\n"
     ]
    },
    {
     "name": "stdout",
     "output_type": "stream",
     "text": [
      " Verarbeitete Artikel: 2652 davon exzellent: 103"
     ]
    },
    {
     "name": "stderr",
     "output_type": "stream",
     "text": [
      "Exception in thread Thread-5787:\n",
      "Traceback (most recent call last):\n",
      "  File \"/opt/homebrew/Cellar/python@3.9/3.9.10/Frameworks/Python.framework/Versions/3.9/lib/python3.9/threading.py\", line 973, in _bootstrap_inner\n",
      "    self.run()\n",
      "  File \"/opt/homebrew/Cellar/python@3.9/3.9.10/Frameworks/Python.framework/Versions/3.9/lib/python3.9/threading.py\", line 910, in run\n",
      "    self._target(*self._args, **self._kwargs)\n",
      "  File \"/var/folders/01/1jhjxsz50y902wkbvgv3nj5r0000gn/T/ipykernel_18094/3831573612.py\", line 34, in clean_save_article\n",
      "  File \"/Users/sophiabuehl/Library/Python/3.9/lib/python/site-packages/IPython/core/interactiveshell.py\", line 282, in _modified_open\n",
      "    return io_open(file, *args, **kwargs)\n",
      "FileExistsError: [Errno 17] File exists: './data/exzellent/3899.txt'\n"
     ]
    },
    {
     "name": "stdout",
     "output_type": "stream",
     "text": [
      " Verarbeitete Artikel: 2667 davon exzellent: 104"
     ]
    },
    {
     "name": "stderr",
     "output_type": "stream",
     "text": [
      "Exception in thread Thread-5743:\n",
      "Traceback (most recent call last):\n",
      "  File \"/opt/homebrew/Cellar/python@3.9/3.9.10/Frameworks/Python.framework/Versions/3.9/lib/python3.9/threading.py\", line 973, in _bootstrap_inner\n",
      "    self.run()\n",
      "  File \"/opt/homebrew/Cellar/python@3.9/3.9.10/Frameworks/Python.framework/Versions/3.9/lib/python3.9/threading.py\", line 910, in run\n",
      "    self._target(*self._args, **self._kwargs)\n",
      "  File \"/var/folders/01/1jhjxsz50y902wkbvgv3nj5r0000gn/T/ipykernel_18094/3831573612.py\", line 34, in clean_save_article\n",
      "  File \"/Users/sophiabuehl/Library/Python/3.9/lib/python/site-packages/IPython/core/interactiveshell.py\", line 282, in _modified_open\n",
      "    return io_open(file, *args, **kwargs)\n",
      "FileExistsError: [Errno 17] File exists: './data/exzellent/3840.txt'\n"
     ]
    },
    {
     "name": "stdout",
     "output_type": "stream",
     "text": [
      " Verarbeitete Artikel: 2671 davon exzellent: 104"
     ]
    },
    {
     "name": "stderr",
     "output_type": "stream",
     "text": [
      "Exception in thread Thread-5813:\n",
      "Traceback (most recent call last):\n",
      "  File \"/opt/homebrew/Cellar/python@3.9/3.9.10/Frameworks/Python.framework/Versions/3.9/lib/python3.9/threading.py\", line 973, in _bootstrap_inner\n",
      "    self.run()\n",
      "  File \"/opt/homebrew/Cellar/python@3.9/3.9.10/Frameworks/Python.framework/Versions/3.9/lib/python3.9/threading.py\", line 910, in run\n",
      "    self._target(*self._args, **self._kwargs)\n",
      "  File \"/var/folders/01/1jhjxsz50y902wkbvgv3nj5r0000gn/T/ipykernel_18094/3831573612.py\", line 34, in clean_save_article\n",
      "  File \"/Users/sophiabuehl/Library/Python/3.9/lib/python/site-packages/IPython/core/interactiveshell.py\", line 282, in _modified_open\n",
      "    return io_open(file, *args, **kwargs)\n",
      "FileExistsError: [Errno 17] File exists: './data/exzellent/3958.txt'\n"
     ]
    },
    {
     "name": "stdout",
     "output_type": "stream",
     "text": [
      " Verarbeitete Artikel: 2677 davon exzellent: 105"
     ]
    },
    {
     "name": "stderr",
     "output_type": "stream",
     "text": [
      "Exception in thread Thread-5821:\n",
      "Traceback (most recent call last):\n",
      "  File \"/opt/homebrew/Cellar/python@3.9/3.9.10/Frameworks/Python.framework/Versions/3.9/lib/python3.9/threading.py\", line 973, in _bootstrap_inner\n",
      "    self.run()\n",
      "  File \"/opt/homebrew/Cellar/python@3.9/3.9.10/Frameworks/Python.framework/Versions/3.9/lib/python3.9/threading.py\", line 910, in run\n",
      "    self._target(*self._args, **self._kwargs)\n",
      "  File \"/var/folders/01/1jhjxsz50y902wkbvgv3nj5r0000gn/T/ipykernel_18094/3831573612.py\", line 34, in clean_save_article\n",
      "  File \"/Users/sophiabuehl/Library/Python/3.9/lib/python/site-packages/IPython/core/interactiveshell.py\", line 282, in _modified_open\n",
      "    return io_open(file, *args, **kwargs)\n",
      "FileExistsError: [Errno 17] File exists: './data/exzellent/3969.txt'\n"
     ]
    },
    {
     "name": "stdout",
     "output_type": "stream",
     "text": [
      " Verarbeitete Artikel: 2705 davon exzellent: 106"
     ]
    },
    {
     "name": "stderr",
     "output_type": "stream",
     "text": [
      "Exception in thread Thread-5835:\n",
      "Traceback (most recent call last):\n",
      "  File \"/opt/homebrew/Cellar/python@3.9/3.9.10/Frameworks/Python.framework/Versions/3.9/lib/python3.9/threading.py\", line 973, in _bootstrap_inner\n",
      "    self.run()\n",
      "  File \"/opt/homebrew/Cellar/python@3.9/3.9.10/Frameworks/Python.framework/Versions/3.9/lib/python3.9/threading.py\", line 910, in run\n",
      "    self._target(*self._args, **self._kwargs)\n",
      "  File \"/var/folders/01/1jhjxsz50y902wkbvgv3nj5r0000gn/T/ipykernel_18094/3831573612.py\", line 34, in clean_save_article\n",
      "  File \"/Users/sophiabuehl/Library/Python/3.9/lib/python/site-packages/IPython/core/interactiveshell.py\", line 282, in _modified_open\n",
      "    return io_open(file, *args, **kwargs)\n",
      "FileExistsError: [Errno 17] File exists: './data/exzellent/3984.txt'\n"
     ]
    },
    {
     "name": "stdout",
     "output_type": "stream",
     "text": [
      " Verarbeitete Artikel: 2711 davon exzellent: 106"
     ]
    },
    {
     "name": "stderr",
     "output_type": "stream",
     "text": [
      "Exception in thread Thread-5864:\n",
      "Traceback (most recent call last):\n",
      "  File \"/opt/homebrew/Cellar/python@3.9/3.9.10/Frameworks/Python.framework/Versions/3.9/lib/python3.9/threading.py\", line 973, in _bootstrap_inner\n",
      "    self.run()\n",
      "  File \"/opt/homebrew/Cellar/python@3.9/3.9.10/Frameworks/Python.framework/Versions/3.9/lib/python3.9/threading.py\", line 910, in run\n",
      "    self._target(*self._args, **self._kwargs)\n",
      "  File \"/var/folders/01/1jhjxsz50y902wkbvgv3nj5r0000gn/T/ipykernel_18094/3831573612.py\", line 34, in clean_save_article\n",
      "  File \"/Users/sophiabuehl/Library/Python/3.9/lib/python/site-packages/IPython/core/interactiveshell.py\", line 282, in _modified_open\n",
      "    return io_open(file, *args, **kwargs)\n",
      "FileExistsError: [Errno 17] File exists: './data/exzellent/4022.txt'\n"
     ]
    },
    {
     "name": "stdout",
     "output_type": "stream",
     "text": [
      " Verarbeitete Artikel: 2756 davon exzellent: 106"
     ]
    },
    {
     "name": "stderr",
     "output_type": "stream",
     "text": [
      "Exception in thread Thread-5798:\n",
      "Traceback (most recent call last):\n",
      "  File \"/opt/homebrew/Cellar/python@3.9/3.9.10/Frameworks/Python.framework/Versions/3.9/lib/python3.9/threading.py\", line 973, in _bootstrap_inner\n",
      "    self.run()\n",
      "  File \"/opt/homebrew/Cellar/python@3.9/3.9.10/Frameworks/Python.framework/Versions/3.9/lib/python3.9/threading.py\", line 910, in run\n",
      "    self._target(*self._args, **self._kwargs)\n",
      "  File \"/var/folders/01/1jhjxsz50y902wkbvgv3nj5r0000gn/T/ipykernel_18094/3831573612.py\", line 34, in clean_save_article\n",
      "  File \"/Users/sophiabuehl/Library/Python/3.9/lib/python/site-packages/IPython/core/interactiveshell.py\", line 282, in _modified_open\n",
      "    return io_open(file, *args, **kwargs)\n",
      "FileExistsError: [Errno 17] File exists: './data/exzellent/3914.txt'\n"
     ]
    },
    {
     "name": "stdout",
     "output_type": "stream",
     "text": [
      " Verarbeitete Artikel: 2812 davon exzellent: 109"
     ]
    },
    {
     "name": "stderr",
     "output_type": "stream",
     "text": [
      "Exception in thread Thread-5951:\n",
      "Traceback (most recent call last):\n",
      "  File \"/opt/homebrew/Cellar/python@3.9/3.9.10/Frameworks/Python.framework/Versions/3.9/lib/python3.9/threading.py\", line 973, in _bootstrap_inner\n",
      "    self.run()\n",
      "  File \"/opt/homebrew/Cellar/python@3.9/3.9.10/Frameworks/Python.framework/Versions/3.9/lib/python3.9/threading.py\", line 910, in run\n",
      "    self._target(*self._args, **self._kwargs)\n",
      "  File \"/var/folders/01/1jhjxsz50y902wkbvgv3nj5r0000gn/T/ipykernel_18094/3831573612.py\", line 34, in clean_save_article\n",
      "  File \"/Users/sophiabuehl/Library/Python/3.9/lib/python/site-packages/IPython/core/interactiveshell.py\", line 282, in _modified_open\n",
      "    return io_open(file, *args, **kwargs)\n",
      "FileExistsError: [Errno 17] File exists: './data/exzellent/4162.txt'\n"
     ]
    },
    {
     "name": "stdout",
     "output_type": "stream",
     "text": [
      " Verarbeitete Artikel: 2826 davon exzellent: 109"
     ]
    },
    {
     "name": "stderr",
     "output_type": "stream",
     "text": [
      "Exception in thread Thread-5971:\n",
      "Traceback (most recent call last):\n",
      "  File \"/opt/homebrew/Cellar/python@3.9/3.9.10/Frameworks/Python.framework/Versions/3.9/lib/python3.9/threading.py\", line 973, in _bootstrap_inner\n",
      "    self.run()\n",
      "  File \"/opt/homebrew/Cellar/python@3.9/3.9.10/Frameworks/Python.framework/Versions/3.9/lib/python3.9/threading.py\", line 910, in run\n",
      "    self._target(*self._args, **self._kwargs)\n",
      "  File \"/var/folders/01/1jhjxsz50y902wkbvgv3nj5r0000gn/T/ipykernel_18094/3831573612.py\", line 34, in clean_save_article\n",
      "  File \"/Users/sophiabuehl/Library/Python/3.9/lib/python/site-packages/IPython/core/interactiveshell.py\", line 282, in _modified_open\n",
      "    return io_open(file, *args, **kwargs)\n",
      "FileExistsError: [Errno 17] File exists: './data/exzellent/4187.txt'\n"
     ]
    },
    {
     "name": "stdout",
     "output_type": "stream",
     "text": [
      " Verarbeitete Artikel: 2832 davon exzellent: 109"
     ]
    },
    {
     "name": "stderr",
     "output_type": "stream",
     "text": [
      "Exception in thread Thread-5967:\n",
      "Traceback (most recent call last):\n",
      "  File \"/opt/homebrew/Cellar/python@3.9/3.9.10/Frameworks/Python.framework/Versions/3.9/lib/python3.9/threading.py\", line 973, in _bootstrap_inner\n",
      "    self.run()\n",
      "  File \"/opt/homebrew/Cellar/python@3.9/3.9.10/Frameworks/Python.framework/Versions/3.9/lib/python3.9/threading.py\", line 910, in run\n",
      "    self._target(*self._args, **self._kwargs)\n",
      "  File \"/var/folders/01/1jhjxsz50y902wkbvgv3nj5r0000gn/T/ipykernel_18094/3831573612.py\", line 34, in clean_save_article\n",
      "  File \"/Users/sophiabuehl/Library/Python/3.9/lib/python/site-packages/IPython/core/interactiveshell.py\", line 282, in _modified_open\n",
      "    return io_open(file, *args, **kwargs)\n",
      "FileExistsError: [Errno 17] File exists: './data/exzellent/4183.txt'\n"
     ]
    },
    {
     "name": "stdout",
     "output_type": "stream",
     "text": [
      " Verarbeitete Artikel: 2857 davon exzellent: 110"
     ]
    },
    {
     "name": "stderr",
     "output_type": "stream",
     "text": [
      "Exception in thread Thread-6003:\n",
      "Traceback (most recent call last):\n",
      "  File \"/opt/homebrew/Cellar/python@3.9/3.9.10/Frameworks/Python.framework/Versions/3.9/lib/python3.9/threading.py\", line 973, in _bootstrap_inner\n",
      "    self.run()\n",
      "  File \"/opt/homebrew/Cellar/python@3.9/3.9.10/Frameworks/Python.framework/Versions/3.9/lib/python3.9/threading.py\", line 910, in run\n",
      "    self._target(*self._args, **self._kwargs)\n",
      "  File \"/var/folders/01/1jhjxsz50y902wkbvgv3nj5r0000gn/T/ipykernel_18094/3831573612.py\", line 34, in clean_save_article\n",
      "  File \"/Users/sophiabuehl/Library/Python/3.9/lib/python/site-packages/IPython/core/interactiveshell.py\", line 282, in _modified_open\n",
      "    return io_open(file, *args, **kwargs)\n",
      "FileExistsError: [Errno 17] File exists: './data/exzellent/4226.txt'\n"
     ]
    },
    {
     "name": "stdout",
     "output_type": "stream",
     "text": [
      " Verarbeitete Artikel: 2877 davon exzellent: 111"
     ]
    },
    {
     "name": "stderr",
     "output_type": "stream",
     "text": [
      "Exception in thread Thread-6028:\n",
      "Traceback (most recent call last):\n",
      "  File \"/opt/homebrew/Cellar/python@3.9/3.9.10/Frameworks/Python.framework/Versions/3.9/lib/python3.9/threading.py\", line 973, in _bootstrap_inner\n",
      "    self.run()\n",
      "  File \"/opt/homebrew/Cellar/python@3.9/3.9.10/Frameworks/Python.framework/Versions/3.9/lib/python3.9/threading.py\", line 910, in run\n",
      "    self._target(*self._args, **self._kwargs)\n",
      "  File \"/var/folders/01/1jhjxsz50y902wkbvgv3nj5r0000gn/T/ipykernel_18094/3831573612.py\", line 34, in clean_save_article\n",
      "  File \"/Users/sophiabuehl/Library/Python/3.9/lib/python/site-packages/IPython/core/interactiveshell.py\", line 282, in _modified_open\n",
      "    return io_open(file, *args, **kwargs)\n",
      "FileExistsError: [Errno 17] File exists: './data/exzellent/4263.txt'\n"
     ]
    },
    {
     "name": "stdout",
     "output_type": "stream",
     "text": [
      " Verarbeitete Artikel: 2952 davon exzellent: 112"
     ]
    },
    {
     "name": "stderr",
     "output_type": "stream",
     "text": [
      "Exception in thread Thread-6097:\n",
      "Traceback (most recent call last):\n",
      "  File \"/opt/homebrew/Cellar/python@3.9/3.9.10/Frameworks/Python.framework/Versions/3.9/lib/python3.9/threading.py\", line 973, in _bootstrap_inner\n",
      "    self.run()\n",
      "  File \"/opt/homebrew/Cellar/python@3.9/3.9.10/Frameworks/Python.framework/Versions/3.9/lib/python3.9/threading.py\", line 910, in run\n",
      "    self._target(*self._args, **self._kwargs)\n",
      "  File \"/var/folders/01/1jhjxsz50y902wkbvgv3nj5r0000gn/T/ipykernel_18094/3831573612.py\", line 34, in clean_save_article\n",
      "  File \"/Users/sophiabuehl/Library/Python/3.9/lib/python/site-packages/IPython/core/interactiveshell.py\", line 282, in _modified_open\n",
      "    return io_open(file, *args, **kwargs)\n",
      "FileExistsError: [Errno 17] File exists: './data/exzellent/4358.txt'\n"
     ]
    },
    {
     "name": "stdout",
     "output_type": "stream",
     "text": [
      " Verarbeitete Artikel: 3086 davon exzellent: 115"
     ]
    },
    {
     "name": "stderr",
     "output_type": "stream",
     "text": [
      "Exception in thread Thread-6231:\n",
      "Traceback (most recent call last):\n",
      "  File \"/opt/homebrew/Cellar/python@3.9/3.9.10/Frameworks/Python.framework/Versions/3.9/lib/python3.9/threading.py\", line 973, in _bootstrap_inner\n",
      "    self.run()\n",
      "  File \"/opt/homebrew/Cellar/python@3.9/3.9.10/Frameworks/Python.framework/Versions/3.9/lib/python3.9/threading.py\", line 910, in run\n",
      "    self._target(*self._args, **self._kwargs)\n",
      "  File \"/var/folders/01/1jhjxsz50y902wkbvgv3nj5r0000gn/T/ipykernel_18094/3831573612.py\", line 34, in clean_save_article\n",
      "  File \"/Users/sophiabuehl/Library/Python/3.9/lib/python/site-packages/IPython/core/interactiveshell.py\", line 282, in _modified_open\n",
      "Exception in thread Thread-6223:\n",
      "Traceback (most recent call last):\n",
      "  File \"/opt/homebrew/Cellar/python@3.9/3.9.10/Frameworks/Python.framework/Versions/3.9/lib/python3.9/threading.py\", line 973, in _bootstrap_inner\n",
      "    return io_open(file, *args, **kwargs)\n",
      "FileExistsError: [Errno 17] File exists: './data/exzellent/4610.txt'\n",
      "    self.run()\n",
      "  File \"/opt/homebrew/Cellar/python@3.9/3.9.10/Frameworks/Python.framework/Versions/3.9/lib/python3.9/threading.py\", line 910, in run\n",
      "    self._target(*self._args, **self._kwargs)\n",
      "  File \"/var/folders/01/1jhjxsz50y902wkbvgv3nj5r0000gn/T/ipykernel_18094/3831573612.py\", line 34, in clean_save_article\n",
      "  File \"/Users/sophiabuehl/Library/Python/3.9/lib/python/site-packages/IPython/core/interactiveshell.py\", line 282, in _modified_open\n",
      "    return io_open(file, *args, **kwargs)\n",
      "FileExistsError: [Errno 17] File exists: './data/exzellent/4597.txt'\n"
     ]
    },
    {
     "name": "stdout",
     "output_type": "stream",
     "text": [
      " Verarbeitete Artikel: 3107 davon exzellent: 117"
     ]
    },
    {
     "name": "stderr",
     "output_type": "stream",
     "text": [
      "Exception in thread Thread-6251:\n",
      "Traceback (most recent call last):\n",
      "  File \"/opt/homebrew/Cellar/python@3.9/3.9.10/Frameworks/Python.framework/Versions/3.9/lib/python3.9/threading.py\", line 973, in _bootstrap_inner\n",
      "    self.run()\n",
      "  File \"/opt/homebrew/Cellar/python@3.9/3.9.10/Frameworks/Python.framework/Versions/3.9/lib/python3.9/threading.py\", line 910, in run\n",
      "    self._target(*self._args, **self._kwargs)\n",
      "  File \"/var/folders/01/1jhjxsz50y902wkbvgv3nj5r0000gn/T/ipykernel_18094/3831573612.py\", line 34, in clean_save_article\n",
      "  File \"/Users/sophiabuehl/Library/Python/3.9/lib/python/site-packages/IPython/core/interactiveshell.py\", line 282, in _modified_open\n",
      "    return io_open(file, *args, **kwargs)\n",
      "FileExistsError: [Errno 17] File exists: './data/exzellent/4640.txt'\n"
     ]
    },
    {
     "name": "stdout",
     "output_type": "stream",
     "text": [
      " Verarbeitete Artikel: 3111 davon exzellent: 117"
     ]
    },
    {
     "name": "stderr",
     "output_type": "stream",
     "text": [
      "Exception in thread Thread-6262:\n",
      "Traceback (most recent call last):\n",
      "  File \"/opt/homebrew/Cellar/python@3.9/3.9.10/Frameworks/Python.framework/Versions/3.9/lib/python3.9/threading.py\", line 973, in _bootstrap_inner\n",
      "    self.run()\n",
      "  File \"/opt/homebrew/Cellar/python@3.9/3.9.10/Frameworks/Python.framework/Versions/3.9/lib/python3.9/threading.py\", line 910, in run\n",
      "    self._target(*self._args, **self._kwargs)\n",
      "  File \"/var/folders/01/1jhjxsz50y902wkbvgv3nj5r0000gn/T/ipykernel_18094/3831573612.py\", line 34, in clean_save_article\n"
     ]
    },
    {
     "name": "stdout",
     "output_type": "stream",
     "text": [
      " Verarbeitete Artikel: 3112 davon exzellent: 117"
     ]
    },
    {
     "name": "stderr",
     "output_type": "stream",
     "text": [
      "  File \"/Users/sophiabuehl/Library/Python/3.9/lib/python/site-packages/IPython/core/interactiveshell.py\", line 282, in _modified_open\n",
      "    return io_open(file, *args, **kwargs)\n",
      "FileExistsError: [Errno 17] File exists: './data/exzellent/4661.txt'\n"
     ]
    },
    {
     "name": "stdout",
     "output_type": "stream",
     "text": [
      " Verarbeitete Artikel: 3151 davon exzellent: 119"
     ]
    },
    {
     "name": "stderr",
     "output_type": "stream",
     "text": [
      "Exception in thread Thread-6277:\n",
      "Traceback (most recent call last):\n",
      "  File \"/opt/homebrew/Cellar/python@3.9/3.9.10/Frameworks/Python.framework/Versions/3.9/lib/python3.9/threading.py\", line 973, in _bootstrap_inner\n",
      "    self.run()\n",
      "  File \"/opt/homebrew/Cellar/python@3.9/3.9.10/Frameworks/Python.framework/Versions/3.9/lib/python3.9/threading.py\", line 910, in run\n",
      "    self._target(*self._args, **self._kwargs)\n",
      "  File \"/var/folders/01/1jhjxsz50y902wkbvgv3nj5r0000gn/T/ipykernel_18094/3831573612.py\", line 34, in clean_save_article\n",
      "  File \"/Users/sophiabuehl/Library/Python/3.9/lib/python/site-packages/IPython/core/interactiveshell.py\", line 282, in _modified_open\n",
      "    return io_open(file, *args, **kwargs)\n",
      "FileExistsError: [Errno 17] File exists: './data/exzellent/4681.txt'\n"
     ]
    },
    {
     "name": "stdout",
     "output_type": "stream",
     "text": [
      " Verarbeitete Artikel: 3159 davon exzellent: 119"
     ]
    },
    {
     "name": "stderr",
     "output_type": "stream",
     "text": [
      "Exception in thread Thread-6286:\n",
      "Traceback (most recent call last):\n",
      "  File \"/opt/homebrew/Cellar/python@3.9/3.9.10/Frameworks/Python.framework/Versions/3.9/lib/python3.9/threading.py\", line 973, in _bootstrap_inner\n",
      "    self.run()\n",
      "  File \"/opt/homebrew/Cellar/python@3.9/3.9.10/Frameworks/Python.framework/Versions/3.9/lib/python3.9/threading.py\", line 910, in run\n",
      "    self._target(*self._args, **self._kwargs)\n",
      "  File \"/var/folders/01/1jhjxsz50y902wkbvgv3nj5r0000gn/T/ipykernel_18094/3831573612.py\", line 34, in clean_save_article\n",
      "  File \"/Users/sophiabuehl/Library/Python/3.9/lib/python/site-packages/IPython/core/interactiveshell.py\", line 282, in _modified_open\n",
      "    return io_open(file, *args, **kwargs)\n",
      "FileExistsError: [Errno 17] File exists: './data/exzellent/4696.txt'\n"
     ]
    },
    {
     "name": "stdout",
     "output_type": "stream",
     "text": [
      " Verarbeitete Artikel: 3174 davon exzellent: 119"
     ]
    },
    {
     "name": "stderr",
     "output_type": "stream",
     "text": [
      "Exception in thread Thread-6122:\n",
      "Traceback (most recent call last):\n",
      "  File \"/opt/homebrew/Cellar/python@3.9/3.9.10/Frameworks/Python.framework/Versions/3.9/lib/python3.9/threading.py\", line 973, in _bootstrap_inner\n",
      "    self.run()\n",
      "  File \"/opt/homebrew/Cellar/python@3.9/3.9.10/Frameworks/Python.framework/Versions/3.9/lib/python3.9/threading.py\", line 910, in run\n",
      "    self._target(*self._args, **self._kwargs)\n",
      "  File \"/var/folders/01/1jhjxsz50y902wkbvgv3nj5r0000gn/T/ipykernel_18094/3831573612.py\", line 34, in clean_save_article\n",
      "  File \"/Users/sophiabuehl/Library/Python/3.9/lib/python/site-packages/IPython/core/interactiveshell.py\", line 282, in _modified_open\n",
      "    return io_open(file, *args, **kwargs)\n",
      "FileExistsError: [Errno 17] File exists: './data/exzellent/4405.txt'\n"
     ]
    },
    {
     "name": "stdout",
     "output_type": "stream",
     "text": [
      " Verarbeitete Artikel: 6777 davon exzellent: 180"
     ]
    },
    {
     "name": "stderr",
     "output_type": "stream",
     "text": [
      "Exception in thread Thread-9929:\n",
      "Traceback (most recent call last):\n",
      "  File \"/opt/homebrew/Cellar/python@3.9/3.9.10/Frameworks/Python.framework/Versions/3.9/lib/python3.9/threading.py\", line 973, in _bootstrap_inner\n",
      "    self.run()\n",
      "  File \"/opt/homebrew/Cellar/python@3.9/3.9.10/Frameworks/Python.framework/Versions/3.9/lib/python3.9/threading.py\", line 910, in run\n",
      "    self._target(*self._args, **self._kwargs)\n",
      "  File \"/var/folders/01/1jhjxsz50y902wkbvgv3nj5r0000gn/T/ipykernel_18094/3831573612.py\", line 16, in clean_save_article\n",
      "  File \"/opt/homebrew/lib/python3.9/site-packages/html2text/__init__.py\", line 947, in html2text\n",
      "    return h.handle(html)\n",
      "  File \"/opt/homebrew/lib/python3.9/site-packages/html2text/__init__.py\", line 142, in handle\n",
      "    self.feed(data)\n",
      "  File \"/opt/homebrew/lib/python3.9/site-packages/html2text/__init__.py\", line 139, in feed\n",
      "    super().feed(data)\n",
      "  File \"/opt/homebrew/Cellar/python@3.9/3.9.10/Frameworks/Python.framework/Versions/3.9/lib/python3.9/html/parser.py\", line 110, in feed\n",
      "    self.goahead(0)\n",
      "  File \"/opt/homebrew/Cellar/python@3.9/3.9.10/Frameworks/Python.framework/Versions/3.9/lib/python3.9/html/parser.py\", line 178, in goahead\n",
      "    k = self.parse_html_declaration(i)\n",
      "  File \"/opt/homebrew/Cellar/python@3.9/3.9.10/Frameworks/Python.framework/Versions/3.9/lib/python3.9/html/parser.py\", line 263, in parse_html_declaration\n",
      "    return self.parse_marked_section(i)\n",
      "  File \"/opt/homebrew/Cellar/python@3.9/3.9.10/Frameworks/Python.framework/Versions/3.9/lib/python3.9/_markupbase.py\", line 149, in parse_marked_section\n",
      "    sectName, j = self._scan_name( i+3, i )\n",
      "  File \"/opt/homebrew/Cellar/python@3.9/3.9.10/Frameworks/Python.framework/Versions/3.9/lib/python3.9/_markupbase.py\", line 390, in _scan_name\n",
      "    self.error(\"expected name token at %r\"\n",
      "  File \"/opt/homebrew/Cellar/python@3.9/3.9.10/Frameworks/Python.framework/Versions/3.9/lib/python3.9/_markupbase.py\", line 33, in error\n",
      "    raise NotImplementedError(\n",
      "NotImplementedError: subclasses of ParserBase must override error()\n"
     ]
    },
    {
     "name": "stdout",
     "output_type": "stream",
     "text": [
      " Verarbeitete Artikel: 17269 davon exzellent: 346"
     ]
    },
    {
     "ename": "KeyboardInterrupt",
     "evalue": "",
     "output_type": "error",
     "traceback": [
      "\u001b[0;31m---------------------------------------------------------------------------\u001b[0m",
      "\u001b[0;31mKeyboardInterrupt\u001b[0m                         Traceback (most recent call last)",
      "\u001b[1;32m/Users/sophiabuehl/Programmierung/AdvancedML/Forschungsseminar/data.ipynb Zelle 16\u001b[0m in \u001b[0;36m3\n\u001b[1;32m     <a href='vscode-notebook-cell:/Users/sophiabuehl/Programmierung/AdvancedML/Forschungsseminar/data.ipynb#X45sZmlsZQ%3D%3D?line=32'>33</a>\u001b[0m     is_excellent\u001b[39m=\u001b[39m \u001b[39mFalse\u001b[39;00m\n\u001b[1;32m     <a href='vscode-notebook-cell:/Users/sophiabuehl/Programmierung/AdvancedML/Forschungsseminar/data.ipynb#X45sZmlsZQ%3D%3D?line=34'>35</a>\u001b[0m \u001b[39m# start basic cleaning of article in seperated Thread for better performance\u001b[39;00m\n\u001b[0;32m---> <a href='vscode-notebook-cell:/Users/sophiabuehl/Programmierung/AdvancedML/Forschungsseminar/data.ipynb#X45sZmlsZQ%3D%3D?line=35'>36</a>\u001b[0m Thread(target\u001b[39m=\u001b[39;49mclean_save_article, args\u001b[39m=\u001b[39;49m(page, revision, is_excellent))\u001b[39m.\u001b[39;49mstart()\n\u001b[1;32m     <a href='vscode-notebook-cell:/Users/sophiabuehl/Programmierung/AdvancedML/Forschungsseminar/data.ipynb#X45sZmlsZQ%3D%3D?line=37'>38</a>\u001b[0m \u001b[39m# update output\u001b[39;00m\n\u001b[1;32m     <a href='vscode-notebook-cell:/Users/sophiabuehl/Programmierung/AdvancedML/Forschungsseminar/data.ipynb#X45sZmlsZQ%3D%3D?line=38'>39</a>\u001b[0m sys\u001b[39m.\u001b[39mstdout\u001b[39m.\u001b[39mwrite(\u001b[39m'\u001b[39m\u001b[39m\\r\u001b[39;00m\u001b[39m Verarbeitete Artikel: \u001b[39m\u001b[39m'\u001b[39m \u001b[39m+\u001b[39m \u001b[39mstr\u001b[39m(excellent_count \u001b[39m+\u001b[39m not_excellent_count) \u001b[39m+\u001b[39m \u001b[39m'\u001b[39m\u001b[39m davon exzellent: \u001b[39m\u001b[39m'\u001b[39m \u001b[39m+\u001b[39m \u001b[39mstr\u001b[39m(excellent_count))\n",
      "File \u001b[0;32m/opt/homebrew/Cellar/python@3.9/3.9.10/Frameworks/Python.framework/Versions/3.9/lib/python3.9/threading.py:897\u001b[0m, in \u001b[0;36mThread.start\u001b[0;34m(self)\u001b[0m\n\u001b[1;32m    895\u001b[0m         \u001b[39mdel\u001b[39;00m _limbo[\u001b[39mself\u001b[39m]\n\u001b[1;32m    896\u001b[0m     \u001b[39mraise\u001b[39;00m\n\u001b[0;32m--> 897\u001b[0m \u001b[39mself\u001b[39;49m\u001b[39m.\u001b[39;49m_started\u001b[39m.\u001b[39;49mwait()\n",
      "File \u001b[0;32m/opt/homebrew/Cellar/python@3.9/3.9.10/Frameworks/Python.framework/Versions/3.9/lib/python3.9/threading.py:574\u001b[0m, in \u001b[0;36mEvent.wait\u001b[0;34m(self, timeout)\u001b[0m\n\u001b[1;32m    572\u001b[0m signaled \u001b[39m=\u001b[39m \u001b[39mself\u001b[39m\u001b[39m.\u001b[39m_flag\n\u001b[1;32m    573\u001b[0m \u001b[39mif\u001b[39;00m \u001b[39mnot\u001b[39;00m signaled:\n\u001b[0;32m--> 574\u001b[0m     signaled \u001b[39m=\u001b[39m \u001b[39mself\u001b[39;49m\u001b[39m.\u001b[39;49m_cond\u001b[39m.\u001b[39;49mwait(timeout)\n\u001b[1;32m    575\u001b[0m \u001b[39mreturn\u001b[39;00m signaled\n",
      "File \u001b[0;32m/opt/homebrew/Cellar/python@3.9/3.9.10/Frameworks/Python.framework/Versions/3.9/lib/python3.9/threading.py:312\u001b[0m, in \u001b[0;36mCondition.wait\u001b[0;34m(self, timeout)\u001b[0m\n\u001b[1;32m    310\u001b[0m \u001b[39mtry\u001b[39;00m:    \u001b[39m# restore state no matter what (e.g., KeyboardInterrupt)\u001b[39;00m\n\u001b[1;32m    311\u001b[0m     \u001b[39mif\u001b[39;00m timeout \u001b[39mis\u001b[39;00m \u001b[39mNone\u001b[39;00m:\n\u001b[0;32m--> 312\u001b[0m         waiter\u001b[39m.\u001b[39;49macquire()\n\u001b[1;32m    313\u001b[0m         gotit \u001b[39m=\u001b[39m \u001b[39mTrue\u001b[39;00m\n\u001b[1;32m    314\u001b[0m     \u001b[39melse\u001b[39;00m:\n",
      "\u001b[0;31mKeyboardInterrupt\u001b[0m: "
     ]
    }
   ],
   "source": [
    "# create folder if not exists\n",
    "if not os.path.exists(EXZELLENT_FOLDER):\n",
    "    os.makedirs(EXZELLENT_FOLDER)\n",
    "if not os.path.exists(NOT_EXZELLENT_FOLDER):\n",
    "    os.makedirs(NOT_EXZELLENT_FOLDER)\n",
    "if not os.path.exists(SUBSET_FOLDER):\n",
    "    os.makedirs(SUBSET_FOLDER)\n",
    "\n",
    "PATTERN = r\"\\{\\{Exzellent\\|\"\n",
    "dump = mwxml.Dump.from_file(open(DUMP_FILE_ENTPACKT))\n",
    "\n",
    "excellent_count = 0\n",
    "not_excellent_count = 0\n",
    "\n",
    "print(\"### Wikipedia Dump ###\")\n",
    "print(dump.site_info.name, dump.site_info.dbname)\n",
    "\n",
    "print(\"### Exzelente Aritkel ###\")\n",
    "if not os.path.isdir(EXZELLENT_FOLDER):\n",
    "    os.makedirs(EXZELLENT_FOLDER)\n",
    "    \n",
    "# for schleifen entnommen aus: \n",
    "for idx_page, page in enumerate(dump):\n",
    "    for idx_revision, revision in enumerate(page):\n",
    "        if revision.text is not None:\n",
    "            x = re.search(PATTERN, revision.text)\n",
    "            if x is not None:\n",
    "                # finde the excellent articles\n",
    "                excellent_count += 1\n",
    "                is_excellent = True\n",
    "            else:\n",
    "                not_excellent_count += 1\n",
    "                is_excellent= False\n",
    "\n",
    "            # start basic cleaning of article in seperated Thread for better performance\n",
    "            Thread(target=clean_save_article, args=(page, revision, is_excellent)).start()\n",
    "\n",
    "            # update output\n",
    "            sys.stdout.write('\\r Verarbeitete Artikel: ' + str(excellent_count + not_excellent_count) + ' davon exzellent: ' + str(excellent_count))\n",
    "            sys.stdout.flush()\n",
    "\n",
    "print('\\n Anzahl der exzellenten Artikel: ', str(excellent_count))"
   ]
  },
  {
   "attachments": {},
   "cell_type": "markdown",
   "metadata": {},
   "source": [
    "### Subset generieren"
   ]
  },
  {
   "cell_type": "code",
   "execution_count": 20,
   "metadata": {},
   "outputs": [
    {
     "name": "stdout",
     "output_type": "stream",
     "text": [
      "Gesamt Anzahl exzellenter Artikel:  2666629\n",
      "Gesamt Anzahl nicht exzellenter Artikel:  2689\n",
      "Gesamtanzahl Artikel:  2669318\n",
      "Anzahl exzellente Artikel Subset:  4\n",
      "Anzahl nicht exzellente Artikel Subset:  2997\n"
     ]
    }
   ],
   "source": [
    "# number overall articles\n",
    "SUBSET_SIZE = 3000\n",
    "\n",
    "articles_exzellent = os.listdir(EXZELLENT_FOLDER)\n",
    "articles_not_exzellent = os.listdir(NOT_EXZELLENT_FOLDER)\n",
    "\n",
    "number_exzellent:int = len(articles_exzellent)\n",
    "number_not_exzellent:int = len(articles_not_exzellent)\n",
    "\n",
    "ratio:float = float((number_exzellent / number_not_exzellent))\n",
    "\n",
    "print(\"Gesamt Anzahl exzellenter Artikel: \", number_not_exzellent)\n",
    "print(\"Gesamt Anzahl nicht exzellenter Artikel: \", number_exzellent)\n",
    "print(\"Gesamtanzahl Artikel: \", (number_exzellent + number_not_exzellent))\n",
    "\n",
    "for idx, article in enumerate(articles_exzellent):\n",
    "    shutil.copyfile(os.path.join(EXZELLENT_FOLDER,article), os.path.join(SUBSET_FOLDER,'exzellent',article))\n",
    "    if idx >= int(ratio * SUBSET_SIZE):\n",
    "        print(\"Anzahl exzellente Artikel Subset: \", idx + 1)\n",
    "        break\n",
    "\n",
    "for idx, article in enumerate(articles_not_exzellent):\n",
    "    shutil.copyfile(os.path.join(NOT_EXZELLENT_FOLDER,article), os.path.join(SUBSET_FOLDER,'not_exzellent',article))\n",
    "    if idx >= int((1 - ratio) * SUBSET_SIZE):\n",
    "        print(\"Anzahl nicht exzellente Artikel Subset: \", idx + 1)\n",
    "        break"
   ]
  },
  {
   "attachments": {},
   "cell_type": "markdown",
   "metadata": {},
   "source": []
  }
 ],
 "metadata": {
  "kernelspec": {
   "display_name": "base",
   "language": "python",
   "name": "python3"
  },
  "language_info": {
   "codemirror_mode": {
    "name": "ipython",
    "version": 3
   },
   "file_extension": ".py",
   "mimetype": "text/x-python",
   "name": "python",
   "nbconvert_exporter": "python",
   "pygments_lexer": "ipython3",
   "version": "3.9.10"
  },
  "orig_nbformat": 4
 },
 "nbformat": 4,
 "nbformat_minor": 2
}
