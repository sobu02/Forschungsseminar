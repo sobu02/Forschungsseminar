{
 "cells": [
  {
   "attachments": {},
   "cell_type": "markdown",
   "metadata": {},
   "source": [
    "## Schlüsselwörter Notebook Aufgabe 2\n",
    "Eine Zusammenfassung der wichtigsten Erkenntnisse und Ergebnisse befindet sich in der mit abgegebenen Abschlusspräsentation. Dieses Notebook behandelt die gestellte Aufgabe 2 der Shared Tasks und wurde von Jan Moormann und Sophia Bühl bearbeitet. \n",
    "\n",
    "#### Pakete installieren\n",
    "Zur Installation und Verwaltung von Paketen in Python wird pip verwendet. Die für das Notebook benötigten Pakete werden nachfolgend installiert."
   ]
  },
  {
   "cell_type": "code",
   "execution_count": 105,
   "metadata": {},
   "outputs": [
    {
     "name": "stdout",
     "output_type": "stream",
     "text": [
      "huggingface/tokenizers: The current process just got forked, after parallelism has already been used. Disabling parallelism to avoid deadlocks...\n",
      "To disable this warning, you can either:\n",
      "\t- Avoid using `tokenizers` before the fork if possible\n",
      "\t- Explicitly set the environment variable TOKENIZERS_PARALLELISM=(true | false)\n"
     ]
    },
    {
     "name": "stdout",
     "output_type": "stream",
     "text": [
      "\u001b[33mDEPRECATION: Configuring installation scheme with distutils config files is deprecated and will no longer work in the near future. If you are using a Homebrew or Linuxbrew Python, please see discussion at https://github.com/Homebrew/homebrew-core/issues/76621\u001b[0m\u001b[33m\n",
      "\u001b[0mRequirement already satisfied: html2text==2020.1.16 in /opt/homebrew/lib/python3.9/site-packages (from -r requirements.txt (line 1)) (2020.1.16)\n",
      "Requirement already satisfied: mwxml==0.3.3 in /opt/homebrew/lib/python3.9/site-packages (from -r requirements.txt (line 2)) (0.3.3)\n",
      "Requirement already satisfied: wikitextparser==0.51.2 in /opt/homebrew/lib/python3.9/site-packages (from -r requirements.txt (line 3)) (0.51.2)\n",
      "Requirement already satisfied: bz2file==0.98 in /opt/homebrew/lib/python3.9/site-packages (from -r requirements.txt (line 4)) (0.98)\n",
      "Requirement already satisfied: requests==2.30.0 in /opt/homebrew/lib/python3.9/site-packages (from -r requirements.txt (line 5)) (2.30.0)\n",
      "Requirement already satisfied: pandas==1.4.2 in /opt/homebrew/lib/python3.9/site-packages (from -r requirements.txt (line 6)) (1.4.2)\n",
      "Requirement already satisfied: sklearn==0.0.post5 in /opt/homebrew/lib/python3.9/site-packages (from -r requirements.txt (line 7)) (0.0.post5)\n",
      "Requirement already satisfied: imbalanced-learn==0.11.0 in /opt/homebrew/lib/python3.9/site-packages (from -r requirements.txt (line 8)) (0.11.0)\n",
      "Requirement already satisfied: textstat==0.7.3 in /opt/homebrew/lib/python3.9/site-packages (from -r requirements.txt (line 9)) (0.7.3)\n",
      "Requirement already satisfied: transformers==4.30.2 in /opt/homebrew/lib/python3.9/site-packages (from -r requirements.txt (line 10)) (4.30.2)\n",
      "Requirement already satisfied: torchmetrics==0.11.4 in /opt/homebrew/lib/python3.9/site-packages (from -r requirements.txt (line 11)) (0.11.4)\n",
      "Requirement already satisfied: torchsummary==1.5.1 in /opt/homebrew/lib/python3.9/site-packages (from -r requirements.txt (line 12)) (1.5.1)\n",
      "Requirement already satisfied: tqdm==4.65.0 in /opt/homebrew/lib/python3.9/site-packages (from -r requirements.txt (line 13)) (4.65.0)\n",
      "Requirement already satisfied: matplotlib==3.7.1 in /opt/homebrew/lib/python3.9/site-packages (from -r requirements.txt (line 14)) (3.7.1)\n",
      "Requirement already satisfied: seaborn==0.12.2 in /opt/homebrew/lib/python3.9/site-packages (from -r requirements.txt (line 15)) (0.12.2)\n",
      "Requirement already satisfied: Wikipedia-API==0.6.0 in /opt/homebrew/lib/python3.9/site-packages (from -r requirements.txt (line 16)) (0.6.0)\n",
      "Requirement already satisfied: wikipedia==1.4.0 in /opt/homebrew/lib/python3.9/site-packages (from -r requirements.txt (line 17)) (1.4.0)\n",
      "Requirement already satisfied: treetaggerwrapper==2.3 in /opt/homebrew/lib/python3.9/site-packages (from -r requirements.txt (line 18)) (2.3)\n",
      "Requirement already satisfied: spacy==3.6.0 in /opt/homebrew/lib/python3.9/site-packages (from -r requirements.txt (line 19)) (3.6.0)\n",
      "Requirement already satisfied: HanTa==1.1.1 in /opt/homebrew/lib/python3.9/site-packages (from -r requirements.txt (line 20)) (1.1.1)\n",
      "Requirement already satisfied: nltk==3.8.1 in /opt/homebrew/lib/python3.9/site-packages (from -r requirements.txt (line 21)) (3.8.1)\n",
      "Requirement already satisfied: keybert==0.7.0 in /opt/homebrew/lib/python3.9/site-packages (from -r requirements.txt (line 22)) (0.7.0)\n",
      "Requirement already satisfied: wordcloud==1.9.2 in /opt/homebrew/lib/python3.9/site-packages (from -r requirements.txt (line 23)) (1.9.2)\n",
      "Requirement already satisfied: yake==0.4.8 in /opt/homebrew/lib/python3.9/site-packages (from -r requirements.txt (line 24)) (0.4.8)\n",
      "Requirement already satisfied: jsonschema>=2.5.1 in /opt/homebrew/lib/python3.9/site-packages (from mwxml==0.3.3->-r requirements.txt (line 2)) (4.4.0)\n",
      "Requirement already satisfied: mwcli>=0.0.2 in /opt/homebrew/lib/python3.9/site-packages (from mwxml==0.3.3->-r requirements.txt (line 2)) (0.0.3)\n",
      "Requirement already satisfied: mwtypes>=0.3.0 in /opt/homebrew/lib/python3.9/site-packages (from mwxml==0.3.3->-r requirements.txt (line 2)) (0.3.2)\n",
      "Requirement already satisfied: para>=0.0.1 in /opt/homebrew/lib/python3.9/site-packages (from mwxml==0.3.3->-r requirements.txt (line 2)) (0.0.8)\n",
      "Requirement already satisfied: regex>=2022.9.11 in /opt/homebrew/lib/python3.9/site-packages (from wikitextparser==0.51.2->-r requirements.txt (line 3)) (2023.5.5)\n",
      "Requirement already satisfied: wcwidth in /Users/sophiabuehl/Library/Python/3.9/lib/python/site-packages (from wikitextparser==0.51.2->-r requirements.txt (line 3)) (0.2.5)\n",
      "Requirement already satisfied: charset-normalizer<4,>=2 in /opt/homebrew/lib/python3.9/site-packages (from requests==2.30.0->-r requirements.txt (line 5)) (2.0.10)\n",
      "Requirement already satisfied: idna<4,>=2.5 in /opt/homebrew/lib/python3.9/site-packages (from requests==2.30.0->-r requirements.txt (line 5)) (3.3)\n",
      "Requirement already satisfied: urllib3<3,>=1.21.1 in /opt/homebrew/lib/python3.9/site-packages (from requests==2.30.0->-r requirements.txt (line 5)) (1.26.8)\n",
      "Requirement already satisfied: certifi>=2017.4.17 in /opt/homebrew/lib/python3.9/site-packages (from requests==2.30.0->-r requirements.txt (line 5)) (2021.10.8)\n",
      "Requirement already satisfied: python-dateutil>=2.8.1 in /opt/homebrew/lib/python3.9/site-packages (from pandas==1.4.2->-r requirements.txt (line 6)) (2.8.2)\n",
      "Requirement already satisfied: pytz>=2020.1 in /opt/homebrew/lib/python3.9/site-packages (from pandas==1.4.2->-r requirements.txt (line 6)) (2021.3)\n",
      "Requirement already satisfied: numpy>=1.20.0 in /opt/homebrew/lib/python3.9/site-packages (from pandas==1.4.2->-r requirements.txt (line 6)) (1.22.1)\n",
      "Requirement already satisfied: scipy>=1.5.0 in /opt/homebrew/lib/python3.9/site-packages (from imbalanced-learn==0.11.0->-r requirements.txt (line 8)) (1.9.1)\n",
      "Requirement already satisfied: scikit-learn>=1.0.2 in /opt/homebrew/lib/python3.9/site-packages (from imbalanced-learn==0.11.0->-r requirements.txt (line 8)) (1.2.2)\n",
      "Requirement already satisfied: joblib>=1.1.1 in /opt/homebrew/lib/python3.9/site-packages (from imbalanced-learn==0.11.0->-r requirements.txt (line 8)) (1.2.0)\n",
      "Requirement already satisfied: threadpoolctl>=2.0.0 in /opt/homebrew/lib/python3.9/site-packages (from imbalanced-learn==0.11.0->-r requirements.txt (line 8)) (3.1.0)\n",
      "Requirement already satisfied: pyphen in /opt/homebrew/lib/python3.9/site-packages (from textstat==0.7.3->-r requirements.txt (line 9)) (0.14.0)\n",
      "Requirement already satisfied: filelock in /opt/homebrew/lib/python3.9/site-packages (from transformers==4.30.2->-r requirements.txt (line 10)) (3.12.0)\n",
      "Requirement already satisfied: huggingface-hub<1.0,>=0.14.1 in /opt/homebrew/lib/python3.9/site-packages (from transformers==4.30.2->-r requirements.txt (line 10)) (0.14.1)\n",
      "Requirement already satisfied: packaging>=20.0 in /opt/homebrew/lib/python3.9/site-packages (from transformers==4.30.2->-r requirements.txt (line 10)) (21.3)\n",
      "Requirement already satisfied: pyyaml>=5.1 in /opt/homebrew/lib/python3.9/site-packages (from transformers==4.30.2->-r requirements.txt (line 10)) (6.0)\n",
      "Requirement already satisfied: tokenizers!=0.11.3,<0.14,>=0.11.1 in /opt/homebrew/lib/python3.9/site-packages (from transformers==4.30.2->-r requirements.txt (line 10)) (0.13.3)\n",
      "Requirement already satisfied: safetensors>=0.3.1 in /opt/homebrew/lib/python3.9/site-packages (from transformers==4.30.2->-r requirements.txt (line 10)) (0.3.1)\n",
      "Requirement already satisfied: torch>=1.8.1 in /opt/homebrew/lib/python3.9/site-packages (from torchmetrics==0.11.4->-r requirements.txt (line 11)) (2.0.1)\n",
      "Requirement already satisfied: contourpy>=1.0.1 in /opt/homebrew/lib/python3.9/site-packages (from matplotlib==3.7.1->-r requirements.txt (line 14)) (1.0.6)\n",
      "Requirement already satisfied: cycler>=0.10 in /opt/homebrew/lib/python3.9/site-packages (from matplotlib==3.7.1->-r requirements.txt (line 14)) (0.11.0)\n",
      "Requirement already satisfied: fonttools>=4.22.0 in /opt/homebrew/lib/python3.9/site-packages (from matplotlib==3.7.1->-r requirements.txt (line 14)) (4.38.0)\n",
      "Requirement already satisfied: kiwisolver>=1.0.1 in /opt/homebrew/lib/python3.9/site-packages (from matplotlib==3.7.1->-r requirements.txt (line 14)) (1.4.4)\n",
      "Requirement already satisfied: pillow>=6.2.0 in /opt/homebrew/lib/python3.9/site-packages (from matplotlib==3.7.1->-r requirements.txt (line 14)) (9.3.0)\n",
      "Requirement already satisfied: pyparsing>=2.3.1 in /opt/homebrew/lib/python3.9/site-packages (from matplotlib==3.7.1->-r requirements.txt (line 14)) (3.0.7)\n",
      "Requirement already satisfied: importlib-resources>=3.2.0 in /opt/homebrew/lib/python3.9/site-packages (from matplotlib==3.7.1->-r requirements.txt (line 14)) (6.0.0)\n",
      "Requirement already satisfied: beautifulsoup4 in /Users/sophiabuehl/Library/Python/3.9/lib/python/site-packages (from wikipedia==1.4.0->-r requirements.txt (line 17)) (4.11.1)\n",
      "Requirement already satisfied: spacy-legacy<3.1.0,>=3.0.11 in /opt/homebrew/lib/python3.9/site-packages (from spacy==3.6.0->-r requirements.txt (line 19)) (3.0.12)\n",
      "Requirement already satisfied: spacy-loggers<2.0.0,>=1.0.0 in /opt/homebrew/lib/python3.9/site-packages (from spacy==3.6.0->-r requirements.txt (line 19)) (1.0.4)\n",
      "Requirement already satisfied: murmurhash<1.1.0,>=0.28.0 in /opt/homebrew/lib/python3.9/site-packages (from spacy==3.6.0->-r requirements.txt (line 19)) (1.0.9)\n",
      "Requirement already satisfied: cymem<2.1.0,>=2.0.2 in /opt/homebrew/lib/python3.9/site-packages (from spacy==3.6.0->-r requirements.txt (line 19)) (2.0.7)\n",
      "Requirement already satisfied: preshed<3.1.0,>=3.0.2 in /opt/homebrew/lib/python3.9/site-packages (from spacy==3.6.0->-r requirements.txt (line 19)) (3.0.8)\n",
      "Requirement already satisfied: thinc<8.2.0,>=8.1.8 in /opt/homebrew/lib/python3.9/site-packages (from spacy==3.6.0->-r requirements.txt (line 19)) (8.1.10)\n",
      "Requirement already satisfied: wasabi<1.2.0,>=0.9.1 in /opt/homebrew/lib/python3.9/site-packages (from spacy==3.6.0->-r requirements.txt (line 19)) (1.1.1)\n",
      "Requirement already satisfied: srsly<3.0.0,>=2.4.3 in /opt/homebrew/lib/python3.9/site-packages (from spacy==3.6.0->-r requirements.txt (line 19)) (2.4.6)\n",
      "Requirement already satisfied: catalogue<2.1.0,>=2.0.6 in /opt/homebrew/lib/python3.9/site-packages (from spacy==3.6.0->-r requirements.txt (line 19)) (2.0.8)\n",
      "Requirement already satisfied: typer<0.10.0,>=0.3.0 in /opt/homebrew/lib/python3.9/site-packages (from spacy==3.6.0->-r requirements.txt (line 19)) (0.7.0)\n",
      "Requirement already satisfied: pathy>=0.10.0 in /opt/homebrew/lib/python3.9/site-packages (from spacy==3.6.0->-r requirements.txt (line 19)) (0.10.1)\n",
      "Requirement already satisfied: smart-open<7.0.0,>=5.2.1 in /opt/homebrew/lib/python3.9/site-packages (from spacy==3.6.0->-r requirements.txt (line 19)) (6.3.0)\n",
      "Requirement already satisfied: pydantic!=1.8,!=1.8.1,<1.11.0,>=1.7.4 in /opt/homebrew/lib/python3.9/site-packages (from spacy==3.6.0->-r requirements.txt (line 19)) (1.10.7)\n",
      "Requirement already satisfied: jinja2 in /opt/homebrew/lib/python3.9/site-packages (from spacy==3.6.0->-r requirements.txt (line 19)) (3.0.3)\n",
      "Requirement already satisfied: setuptools in /opt/homebrew/lib/python3.9/site-packages (from spacy==3.6.0->-r requirements.txt (line 19)) (60.5.0)\n",
      "Requirement already satisfied: langcodes<4.0.0,>=3.2.0 in /opt/homebrew/lib/python3.9/site-packages (from spacy==3.6.0->-r requirements.txt (line 19)) (3.3.0)\n",
      "Requirement already satisfied: click in /opt/homebrew/lib/python3.9/site-packages (from nltk==3.8.1->-r requirements.txt (line 21)) (8.0.4)\n",
      "Requirement already satisfied: sentence-transformers>=0.3.8 in /opt/homebrew/lib/python3.9/site-packages (from keybert==0.7.0->-r requirements.txt (line 22)) (2.2.2)\n",
      "Requirement already satisfied: rich>=10.4.0 in /opt/homebrew/lib/python3.9/site-packages (from keybert==0.7.0->-r requirements.txt (line 22)) (13.3.5)\n",
      "Requirement already satisfied: tabulate in /opt/homebrew/lib/python3.9/site-packages (from yake==0.4.8->-r requirements.txt (line 24)) (0.8.10)\n",
      "Requirement already satisfied: segtok in /opt/homebrew/lib/python3.9/site-packages (from yake==0.4.8->-r requirements.txt (line 24)) (1.5.11)\n",
      "Requirement already satisfied: networkx in /opt/homebrew/lib/python3.9/site-packages (from yake==0.4.8->-r requirements.txt (line 24)) (3.1)\n",
      "Requirement already satisfied: jellyfish in /opt/homebrew/lib/python3.9/site-packages (from yake==0.4.8->-r requirements.txt (line 24)) (0.11.2)\n",
      "Requirement already satisfied: fsspec in /opt/homebrew/lib/python3.9/site-packages (from huggingface-hub<1.0,>=0.14.1->transformers==4.30.2->-r requirements.txt (line 10)) (2022.11.0)\n",
      "Requirement already satisfied: typing-extensions>=3.7.4.3 in /opt/homebrew/lib/python3.9/site-packages (from huggingface-hub<1.0,>=0.14.1->transformers==4.30.2->-r requirements.txt (line 10)) (4.4.0)\n",
      "Requirement already satisfied: zipp>=3.1.0 in /opt/homebrew/lib/python3.9/site-packages (from importlib-resources>=3.2.0->matplotlib==3.7.1->-r requirements.txt (line 14)) (3.7.0)\n",
      "Requirement already satisfied: attrs>=17.4.0 in /opt/homebrew/lib/python3.9/site-packages (from jsonschema>=2.5.1->mwxml==0.3.3->-r requirements.txt (line 2)) (21.4.0)\n",
      "Requirement already satisfied: pyrsistent!=0.17.0,!=0.17.1,!=0.17.2,>=0.14.0 in /opt/homebrew/lib/python3.9/site-packages (from jsonschema>=2.5.1->mwxml==0.3.3->-r requirements.txt (line 2)) (0.18.1)\n",
      "Requirement already satisfied: docopt in /opt/homebrew/lib/python3.9/site-packages (from mwcli>=0.0.2->mwxml==0.3.3->-r requirements.txt (line 2)) (0.6.2)\n",
      "Requirement already satisfied: jsonable>=0.3.0 in /opt/homebrew/lib/python3.9/site-packages (from mwtypes>=0.3.0->mwxml==0.3.3->-r requirements.txt (line 2)) (0.3.1)\n",
      "Requirement already satisfied: six>=1.5 in /opt/homebrew/lib/python3.9/site-packages (from python-dateutil>=2.8.1->pandas==1.4.2->-r requirements.txt (line 6)) (1.16.0)\n",
      "Requirement already satisfied: markdown-it-py<3.0.0,>=2.2.0 in /opt/homebrew/lib/python3.9/site-packages (from rich>=10.4.0->keybert==0.7.0->-r requirements.txt (line 22)) (2.2.0)\n",
      "Requirement already satisfied: pygments<3.0.0,>=2.13.0 in /opt/homebrew/lib/python3.9/site-packages (from rich>=10.4.0->keybert==0.7.0->-r requirements.txt (line 22)) (2.15.1)\n",
      "Requirement already satisfied: torchvision in /opt/homebrew/lib/python3.9/site-packages (from sentence-transformers>=0.3.8->keybert==0.7.0->-r requirements.txt (line 22)) (0.15.2)\n",
      "Requirement already satisfied: sentencepiece in /opt/homebrew/lib/python3.9/site-packages (from sentence-transformers>=0.3.8->keybert==0.7.0->-r requirements.txt (line 22)) (0.1.99)\n",
      "Requirement already satisfied: blis<0.8.0,>=0.7.8 in /opt/homebrew/lib/python3.9/site-packages (from thinc<8.2.0,>=8.1.8->spacy==3.6.0->-r requirements.txt (line 19)) (0.7.9)\n",
      "Requirement already satisfied: confection<1.0.0,>=0.0.1 in /opt/homebrew/lib/python3.9/site-packages (from thinc<8.2.0,>=8.1.8->spacy==3.6.0->-r requirements.txt (line 19)) (0.0.4)\n",
      "Requirement already satisfied: sympy in /opt/homebrew/lib/python3.9/site-packages (from torch>=1.8.1->torchmetrics==0.11.4->-r requirements.txt (line 11)) (1.12)\n",
      "Requirement already satisfied: soupsieve>1.2 in /Users/sophiabuehl/Library/Python/3.9/lib/python/site-packages (from beautifulsoup4->wikipedia==1.4.0->-r requirements.txt (line 17)) (2.3.2.post1)\n",
      "Requirement already satisfied: MarkupSafe>=2.0 in /opt/homebrew/lib/python3.9/site-packages (from jinja2->spacy==3.6.0->-r requirements.txt (line 19)) (2.1.1)\n",
      "Requirement already satisfied: mdurl~=0.1 in /opt/homebrew/lib/python3.9/site-packages (from markdown-it-py<3.0.0,>=2.2.0->rich>=10.4.0->keybert==0.7.0->-r requirements.txt (line 22)) (0.1.2)\n",
      "Requirement already satisfied: mpmath>=0.19 in /opt/homebrew/lib/python3.9/site-packages (from sympy->torch>=1.8.1->torchmetrics==0.11.4->-r requirements.txt (line 11)) (1.3.0)\n",
      "\u001b[33mDEPRECATION: Configuring installation scheme with distutils config files is deprecated and will no longer work in the near future. If you are using a Homebrew or Linuxbrew Python, please see discussion at https://github.com/Homebrew/homebrew-core/issues/76621\u001b[0m\u001b[33m\n",
      "\u001b[0m\n",
      "\u001b[1m[\u001b[0m\u001b[34;49mnotice\u001b[0m\u001b[1;39;49m]\u001b[0m\u001b[39;49m A new release of pip is available: \u001b[0m\u001b[31;49m23.1.2\u001b[0m\u001b[39;49m -> \u001b[0m\u001b[32;49m23.2.1\u001b[0m\n",
      "\u001b[1m[\u001b[0m\u001b[34;49mnotice\u001b[0m\u001b[1;39;49m]\u001b[0m\u001b[39;49m To update, run: \u001b[0m\u001b[32;49mpython3.9 -m pip install --upgrade pip\u001b[0m\n"
     ]
    }
   ],
   "source": [
    "! pip install -r requirements.txt"
   ]
  },
  {
   "attachments": {},
   "cell_type": "markdown",
   "metadata": {},
   "source": [
    "#### Pakete importieren\n",
    "Die installierten Pakete müssen anschließend importiert werden, um sie verwenden zu können."
   ]
  },
  {
   "cell_type": "code",
   "execution_count": 107,
   "metadata": {},
   "outputs": [
    {
     "name": "stderr",
     "output_type": "stream",
     "text": [
      "[nltk_data] Downloading package wordnet to\n",
      "[nltk_data]     /Users/sophiabuehl/nltk_data...\n",
      "[nltk_data]   Package wordnet is already up-to-date!\n",
      "[nltk_data] Downloading package punkt to\n",
      "[nltk_data]     /Users/sophiabuehl/nltk_data...\n",
      "[nltk_data]   Package punkt is already up-to-date!\n"
     ]
    }
   ],
   "source": [
    "import os\n",
    "from keybert import KeyBERT\n",
    "import pandas as pd\n",
    "\n",
    "import nltk\n",
    "nltk.download('wordnet')\n",
    "nltk.download('punkt')\n",
    "from nltk.corpus import stopwords\n",
    "from nltk.corpus import wordnet\n",
    "from nltk.stem import WordNetLemmatizer\n",
    "\n",
    "from HanTa import HanoverTagger as ht\n",
    "\n",
    "import csv\n",
    "import ast\n",
    "\n",
    "import numpy as np\n",
    "\n",
    "import requests\n",
    "import re\n",
    "\n",
    "import shutil\n",
    "import random\n",
    "\n",
    "from threading import Thread\n",
    "\n",
    "import yake\n",
    "\n",
    "import time\n",
    "import random\n",
    "import math\n",
    "\n",
    "import pandas as pd\n",
    "import matplotlib.pyplot as plt\n",
    "from wordcloud import WordCloud\n",
    "\n",
    "from collections import Counter\n",
    "from sklearn.feature_extraction.text import TfidfVectorizer\n",
    "from sklearn.metrics.pairwise import cosine_similarity "
   ]
  },
  {
   "attachments": {},
   "cell_type": "markdown",
   "metadata": {},
   "source": [
    "#### Statische Variablen\n",
    "In diesem Abschnitt werden die statischen Variablen definiert, um in den folgenden Funktionen auf sie zugreifen zu können. Dies dient der Übersicht und dem Verständnis des Codes.\n",
    "\n",
    "Um nicht nur das Subset, sondern alle exzellenten Artikel nutzen zu können, muss der Pfad entsprechend auskommentiert werden. Die Artikel sind in der statischen Variablen **TEXT_FOLDER** gespeichert. In **TARGET_FOLDER** befindet sich ein Subset zur Demonstration. Der Pfad kann hier angepasst werden.\n",
    "\n",
    "\n",
    "\n",
    "*Wenn der Code mit dem gesmaten Datensatz durchgeführt werden soll muss unbdeingt **TARGET_FOLDER** mit **TEXT_FOLDER** überall ersetzt werden!*"
   ]
  },
  {
   "cell_type": "code",
   "execution_count": 108,
   "metadata": {},
   "outputs": [],
   "source": [
    "# whole set of excellet articles\n",
    "#TEXT_FOLDER = './data/exzellent'\n",
    "\n",
    "# subset of the excellent articles (faster) / comment thgis out if you want to try it with the whole dataset\n",
    "TEXT_FOLDER = './data/subset/exzellent'\n",
    "TARGET_FOLDER = './data/subset/keywords_subset'\n",
    "\n",
    "# folder for the cleaned articles\n",
    "CLEANED_FOLDER = './data/cleaned_exzellent/'\n",
    "\n",
    "# results for the count method\n",
    "COUNT_CSV = \"count.csv\"\n",
    "\n",
    "# results for the keybert\n",
    "KEYBERT_CSV = \"keybert.csv\"\n",
    "\n",
    "# results for the yake\n",
    "YAKE_CSV = 'yake.csv'"
   ]
  },
  {
   "cell_type": "code",
   "execution_count": 109,
   "metadata": {},
   "outputs": [],
   "source": [
    "def create_subset(text_folder, target_folder, num_articles=25, random_seed=42):\n",
    "    # Liste aller Dateien im Textordner\n",
    "    all_files = os.listdir(text_folder)\n",
    "    # Zufällige Auswahl von 'num_articles' Dateien mit festem Seed\n",
    "    random.seed(random_seed)\n",
    "    selected_files = random.sample(all_files, num_articles)\n",
    "\n",
    "    # Erstelle den Zielordner, wenn er nicht existiert\n",
    "    if not os.path.exists(target_folder):\n",
    "        os.makedirs(target_folder)\n",
    "\n",
    "    # Kopiere die ausgewählten Dateien in den Zielordner\n",
    "    for file_name in selected_files:\n",
    "        source_path = os.path.join(text_folder, file_name)\n",
    "        target_path = os.path.join(target_folder, file_name)\n",
    "        shutil.copy(source_path, target_path)"
   ]
  },
  {
   "cell_type": "code",
   "execution_count": 110,
   "metadata": {},
   "outputs": [],
   "source": [
    "RANDOM_SEED = 42\n",
    "\n",
    "create_subset(TEXT_FOLDER, TARGET_FOLDER, num_articles=25, random_seed=RANDOM_SEED)"
   ]
  },
  {
   "attachments": {},
   "cell_type": "markdown",
   "metadata": {},
   "source": [
    "### Vorbereitung der Daten\n",
    "#### Speichern der Artikel mit Titel\n",
    "In dieser Funktion wird der Dateiname in den Titel des Wikipedia-Artikels geändert, von dem er abhängt. Dadurch kann bei den Ergebnissen der Artikel nachvollziehbar zugeordnet werden und übersichtlich dargestellt werden. Es wird nur der Pfad zu den exzelleten Artikeln benötigt. Diese wurden in dem vorherigen Notebook extrahiert."
   ]
  },
  {
   "cell_type": "code",
   "execution_count": 111,
   "metadata": {},
   "outputs": [],
   "source": [
    "def change_file_name(TARGET_FOLDER):\n",
    "    \"\"\"\n",
    "    Renames the article-files based on the article title extracted from the file\n",
    "\n",
    "    Args:\n",
    "        TARGET_FOLDER (str): The path to the text folder\n",
    "\n",
    "    \"\"\"\n",
    "\n",
    "    # for loop to generate folder if it doesn't exist\n",
    "    for file_name in os.listdir(TARGET_FOLDER):\n",
    "        file_path = os.path.join(TARGET_FOLDER, file_name)\n",
    "\n",
    "        # check if txt file, otherwise decode error\n",
    "        # Idea from https://stackoverflow.com/questions/38518023/unicodedecodeerror-utf8-codec-cant-decode-byte-0x80-in-position-3131-invali\n",
    "        if file_name.endswith(\".txt\"):\n",
    "            file_path = os.path.join(TARGET_FOLDER, file_name)\n",
    "\n",
    "            # open file and read lines\n",
    "            with open(file_path, \"r\", encoding=\"utf-8\") as file:\n",
    "                row = file.readlines()\n",
    "                    \n",
    "                # if the line is not empty\n",
    "                if row:\n",
    "                        \n",
    "                    # extrect article title from first line\n",
    "                    titel = row[0].strip()\n",
    "\n",
    "                    # clean the title from special chars\n",
    "                    chars = r'[<>:\"/\\\\|*]'\n",
    "                    cleaned_titel = re.sub(chars, '', titel)\n",
    "\n",
    "                    # get new file name\n",
    "                    new_file_name = cleaned_titel + \".txt\"\n",
    "                    new_file_path = os.path.join(TARGET_FOLDER, new_file_name)\n",
    "\n",
    "                    # rename the file\n",
    "                    os.rename(file_path, new_file_path)"
   ]
  },
  {
   "cell_type": "code",
   "execution_count": 112,
   "metadata": {},
   "outputs": [],
   "source": [
    "# call function to change file name \n",
    "change_file_name(TARGET_FOLDER)"
   ]
  },
  {
   "attachments": {},
   "cell_type": "markdown",
   "metadata": {},
   "source": [
    "#### Text der exzellenten Artikel säubern\n",
    "Zur Vorverarbeitung der exzellenten Artikel wird der Inhalt der jeweiligen Textdateien eingegeben. Danach werden die Token gebildet, um den Text in kleinere Einheiten zu unterteilen. Mit dem HannoverTagger werden alle nicht benötigten Wortarten aus dem Text gefiltert. Nur Substantive, Eigennamen und Adjektive bleiben übrig. Diese Wortarten sind für die Schlüsselwörter prädestiniert, da somit ein Substantiv und ein beschreibendes Adjektiv das Schlüsselwort bilden und damit Aufschluss über den Text des Artikels geben können. Es hat sich im Versuch der Vorteil ergeben, dass HTML-spezifische zeichen dadurch herausgefiltert werden und auch Tabellen nicht mehr berücksichtigt werden. Dadurch wurde eine einfache und wirksame Methode gefunden, um die Artikel zu filtern und nur die benötigten Wörter zu erhalten, um sinnvolle Schlüsselwörter zu bilden. Anschließend wird der Text gefiltert und in die Textdatei umgeschrieben und in einem separaten Ordner gespeichert.\n",
    "\n",
    "Das Paket des HannoverTagger wird von https://github.com/wartaal/HanTa und ursprünglich von https://serwiss.bib.hs-hannover.de/frontdoor/index/index/docId/1527 verwendet. In diesem Zusammenhang wird es genutzt, um das POS-Tagging durchzuführen. Das bedeutet, dass der Text in Substantive, Verben, Adjektive und so weiter kategorisiert wird, um abschließed danach zu filtern."
   ]
  },
  {
   "cell_type": "code",
   "execution_count": 113,
   "metadata": {},
   "outputs": [],
   "source": [
    "# define tagger\n",
    "tagger = ht.HanoverTagger('morphmodel_ger.pgz')"
   ]
  },
  {
   "cell_type": "code",
   "execution_count": 114,
   "metadata": {},
   "outputs": [],
   "source": [
    "def clean_text(txt_file):\n",
    "    \"\"\"\n",
    "    Cleans the text in the file by tokenizing, POS-tagging, and lemmatizing nouns and adjectives\n",
    "\n",
    "    Args:\n",
    "        txt_file (str): The name of the txt file to be cleaned\n",
    "\n",
    "    \"\"\"\n",
    "\n",
    "    # path to text file\n",
    "    input_path = os.path.join(TARGET_FOLDER, txt_file)\n",
    "\n",
    "    # read the txt file\n",
    "    with open(input_path, 'r') as file:\n",
    "        text = file.read()\n",
    "\n",
    "    # tokenize the text of each file and define the language\n",
    "    words = nltk.word_tokenize(text, language='german')\n",
    "\n",
    "    # POS-Tagging with the Hanover-Tagger\n",
    "    tagged_words = tagger.tag_sent(words)\n",
    "    pos_tags = [(word, tag) for word, _, tag in tagged_words]\n",
    "\n",
    "    # Lemmatize nouns and adjectives\n",
    "    lemmatizer = WordNetLemmatizer()\n",
    "    cleaned_words = []\n",
    "    for word, pos in pos_tags:\n",
    "        if pos.startswith('NN'):  # Nomen\n",
    "            lemma = lemmatizer.lemmatize(word, wordnet.NOUN)\n",
    "            cleaned_words.append(lemma)\n",
    "        elif pos.startswith('NE'):  # Namen\n",
    "            cleaned_words.append(word)\n",
    "        elif pos.startswith('ADJ'):  # Adjektive\n",
    "            lemma = lemmatizer.lemmatize(word, wordnet.ADJ)\n",
    "            cleaned_words.append(lemma)\n",
    "\n",
    "    # Merge the cleaned words into a cleaned text\n",
    "    cleaned_text = ' '.join(cleaned_words)\n",
    "\n",
    "    # save the cleaned text\n",
    "    output_path = os.path.join(CLEANED_FOLDER, txt_file)\n",
    "    with open(output_path, 'w') as file:\n",
    "        file.write(cleaned_text)"
   ]
  },
  {
   "attachments": {},
   "cell_type": "markdown",
   "metadata": {},
   "source": [
    "#### Daten säubern und speichern\n",
    "In der folgenden Funktion wird die eigentliche Bereinigung durchgeführt. Dazu legen wir einen neuen Ordner für die bereinigten Artikel an, falls er nicht schon vorhanden ist. Threads werden verwendet, um den Prozess zu beschleunigen."
   ]
  },
  {
   "cell_type": "code",
   "execution_count": 115,
   "metadata": {},
   "outputs": [],
   "source": [
    "def clean_data(CLEANED_FOLDER, TARGET_FOLDER):\n",
    "    \"\"\"\n",
    "    Cleans the text data in the folder and saves the cleaned files in another folder\n",
    "\n",
    "    Args:\n",
    "        CLEANED_FOLDER (str): The path to the cleaned folder\n",
    "        TARGET_FOLDER (str): The path to the text folder\n",
    "\n",
    "    \"\"\"\n",
    "\n",
    "    # path to file with cleaned erticles\n",
    "    if not os.path.exists(CLEANED_FOLDER):\n",
    "        os.makedirs(CLEANED_FOLDER)\n",
    "\n",
    "    # list with all the files\n",
    "    txt_files = [file for file in os.listdir(TARGET_FOLDER) if file.endswith('.txt')]\n",
    "\n",
    "    # iterate over files\n",
    "    for txt_file in txt_files:\n",
    "       clean_text(txt_file)"
   ]
  },
  {
   "cell_type": "code",
   "execution_count": 116,
   "metadata": {},
   "outputs": [],
   "source": [
    "clean_data(CLEANED_FOLDER, TARGET_FOLDER)"
   ]
  },
  {
   "attachments": {},
   "cell_type": "markdown",
   "metadata": {},
   "source": [
    "### Schlüsselwörter identifizieren"
   ]
  },
  {
   "attachments": {},
   "cell_type": "markdown",
   "metadata": {},
   "source": [
    "#### Schlüsselwörter mit KeyBert\n",
    "In dieser Funktion werden die Schlüsselwörter generiert. Hierfür wird das KeyBert-Modell verwendet. Für jeden Artikel werden fünf Schlüsselwörter bzw. Phrasen mit jeweils zwei Wörtern identifiziert. Hierfür werden 15 Kandidaten gebildet und möglichst viele verschiedene davon ausgewählt, um eine hohe Diversität der Schlüsselwörter zu erreichen.\n",
    "\n",
    "Das KeyBert-Modell wurde von https://github.com/MaartenGr/KeyBERT übernommen und funktioniert wie folgt. KeyBert generiert Schlüsselwörter oder Keyphrasen aus einem Text auf Basis von Ähnlichkeiten. Es verwendet die Bert-Embeddings, um die ähnlichsten Wörter des Dokuments zu ermitteln. Die Wort-Embeddings extrahieren N-Gramme und definieren die Schlüsselwörter, die den gesamten Text am besten beschreiben. KeyBert ist ein einfaches und leicht zu benutzendes Modell in der NLP für eine Schlüsselwort-Extraktion. Aus den gebildeten möglichen Schlüsselwörtern werden möglichst verschiedene ausgewählt, um eine große Diversität in den Schlüsselwörtern zu erhalten und wenig Dopplungen in den Schlüselwörtern zu erhalten."
   ]
  },
  {
   "cell_type": "code",
   "execution_count": 117,
   "metadata": {},
   "outputs": [],
   "source": [
    "def keybert_keywords(TARGET_FOLDER, CLEANED_FOLDER):\n",
    "    \"\"\"\n",
    "    Extracts keywords using the KeyBERT model for the articles and returns DataFrame with the titles and extracted keywords\n",
    "\n",
    "    Args:\n",
    "        TARGET_FOLDER (str): path to the text folder\n",
    "        CLEANED_FOLDER (str): path to the cleaned folder\n",
    "\n",
    "    Returns:\n",
    "        DataFrame: DataFrame with the titles and extracted keywords\n",
    "\n",
    "    \"\"\"\n",
    "\n",
    "    # empty list for dataset\n",
    "    data = []\n",
    "\n",
    "    # get the files in folder\n",
    "    for filename in os.listdir(TARGET_FOLDER):\n",
    "\n",
    "        # check if it is a txt file\n",
    "        if filename.endswith(\".txt\"):\n",
    "\n",
    "            # read text files\n",
    "            txt_path = os.path.join(CLEANED_FOLDER, filename)\n",
    "            with open(txt_path, 'r', encoding='utf-8') as f:\n",
    "                content = f.read()\n",
    "\n",
    "            # extract keywords for title with KeyBert model\n",
    "            kw_model = KeyBERT()\n",
    "            keywords = kw_model.extract_keywords(content, keyphrase_ngram_range=(1, 2)\n",
    "                                                 , use_maxsum=True,  top_n=5\n",
    "                                                 ,  nr_candidates=15)\n",
    "\n",
    "            # extract title out of filename\n",
    "            title = os.path.splitext(filename)[0]\n",
    "\n",
    "            # add dataset to list\n",
    "            data.append({'Titel': title, 'Schlüsselwörter': keywords})\n",
    "\n",
    "    # create dataframe with keywords and title\n",
    "    df_keybert = pd.DataFrame(data)\n",
    "\n",
    "    return df_keybert"
   ]
  },
  {
   "cell_type": "code",
   "execution_count": 118,
   "metadata": {},
   "outputs": [],
   "source": [
    "df_keybert = keybert_keywords(TARGET_FOLDER, CLEANED_FOLDER)"
   ]
  },
  {
   "cell_type": "code",
   "execution_count": 119,
   "metadata": {},
   "outputs": [],
   "source": [
    "# print the head of the df to proof the results\n",
    "#print(df_keybert.head)"
   ]
  },
  {
   "attachments": {},
   "cell_type": "markdown",
   "metadata": {},
   "source": [
    "#### Themen anhand der Wort-Häufigkeit\n",
    "Um einen zusätzlichen Überblick zu erhalten, wird eine regelbasierte Methode angewendet. Dabei werden die Wörter im Wikipedia-Artikel gezählt und die Wörter mit der größten Anzahl als Themen des Artikels identifiziert. Es wird also davon ausgegangen, dass die Wörter, die einen Artikel am besten beschreiben und repräsentieren, auch am häufigsten im jeweiligen Artikel vorkommen.\n",
    "\n",
    "Dieser Ansatz bringt aber auch Nachteile mit sich. Durch das reine Zählen der Wörter werden diese ohne den zugehörigen Kontext betrachtet, wodurch in manchen Fällen auch irrelevante Wörter als Schlüsselwörter identifiziert werden können. Zudem ist eine gute Bereiningung der Artikel notwendig, um keine Stoppwörter zu erkennen, oder Zeichen als Schlüsselwörter zu haben. \n",
    "\n",
    "Dennoch ist der Ansatz des Wörterzählens vergleichsweise einfach und intuitiv. Durch Methoden wie die TF-IDF Berechnung wird nicht nur die Häufigkeit, sondern auch die Seltenheit in den anderen Dokumenten überprüft und ist daher ein guter Ansatz, um die Schlüsselwörter in den Artikeln zu identifizieren. Die Wörter werden nicht einfach nur gezählt (Vgl. https://www.visitor-analytics.io/de/glossar/t/term-frequency-inverse-document-frequency-tf-idf/# 14.06.23).\n",
    "\n",
    "Für die Funktion count_words() wurde ChatGPT zur Inspiration genutzt und Teile daraus entnommen! Die Kommentare wurden selbstständig hinzugefügt, um den Code zu verstehen."
   ]
  },
  {
   "cell_type": "code",
   "execution_count": 120,
   "metadata": {},
   "outputs": [],
   "source": [
    "def count_words(TARGET_FOLDER, CLEANED_FOLDER, COUNT_CSV):\n",
    "    \"\"\"\n",
    "    Counts the words in the articles and saves all articles with the frequent words to a CSV\n",
    "\n",
    "    Args:\n",
    "        TARGET_FOLDER (str): path to the text folder\n",
    "        CLEANED_FOLDER (str): path to the cleaned folder\n",
    "        COUNT_CSV (str): path to the output CSV file\n",
    "    \"\"\"\n",
    "\n",
    "    # create dictionary to store the counts of the words\n",
    "    article_word_counts = {}\n",
    "\n",
    "    # get list of stopwords\n",
    "    stop_words = set(stopwords.words('german'))\n",
    "\n",
    "    # get files in folder\n",
    "    file_list = [filename for filename in os.listdir(TARGET_FOLDER) if filename.endswith(\".txt\")]\n",
    "\n",
    "    for filename in file_list:\n",
    "\n",
    "        # read the txt files fro folder\n",
    "        txt_path = os.path.join(CLEANED_FOLDER, filename)\n",
    "        with open(txt_path, 'r', encoding='utf-8') as f:\n",
    "            content = f.read()\n",
    "\n",
    "        # split the defined content into words\n",
    "        words = content.split()\n",
    "\n",
    "        # remove stopwords and proof if the words are alphabetic\n",
    "        words = [word.lower() for word in words if word.lower() not in stop_words and word.isalpha()]\n",
    "\n",
    "        # update the count of the words\n",
    "        word_counts = Counter(words)\n",
    "        article_word_counts[filename] = word_counts\n",
    "\n",
    "    # create the output folder\n",
    "    output_dir = os.path.dirname(os.path.abspath(COUNT_CSV))\n",
    "    if not os.path.exists(output_dir):\n",
    "        os.makedirs(output_dir)\n",
    "\n",
    "    # create the output CSV\n",
    "    with open(COUNT_CSV, 'w', newline='', encoding='utf-8') as csvfile:\n",
    "        fieldnames = ['Titel', 'Schlüsselwörter']\n",
    "        writer = csv.DictWriter(csvfile, fieldnames=fieldnames)\n",
    "        writer.writeheader()\n",
    "\n",
    "        # write results into the csv\n",
    "        for article, word_counts in article_word_counts.items():\n",
    "\n",
    "            # get the most common words\n",
    "            most_common = word_counts.most_common(5)\n",
    "\n",
    "            # delete keywords with only one sign and the 'isbn'\n",
    "            words_list = [word for word, count in most_common if len(word) > 1 and word.lower() != 'isbn']\n",
    "\n",
    "            # write the results into te list\n",
    "            writer.writerow({'Titel': article, 'Schlüsselwörter': ', '.join(words_list)})"
   ]
  },
  {
   "cell_type": "code",
   "execution_count": 121,
   "metadata": {},
   "outputs": [],
   "source": [
    "# call the function\n",
    "most_common = count_words(TARGET_FOLDER, CLEANED_FOLDER, COUNT_CSV)"
   ]
  },
  {
   "cell_type": "code",
   "execution_count": 122,
   "metadata": {},
   "outputs": [],
   "source": [
    "# load CSV file\n",
    "data = pd.read_csv(COUNT_CSV)\n",
    "\n",
    "# initialize tf-idf vectorizer\n",
    "vectorizer = TfidfVectorizer()\n",
    "\n",
    "# compute tf-idf matrix for all articles\n",
    "corpus = []\n",
    "for filename in data['Titel']:\n",
    "    txt_path = os.path.join(CLEANED_FOLDER, filename)\n",
    "    with open(txt_path, 'r', encoding='utf-8') as f:\n",
    "        content = f.read()\n",
    "    corpus.append(content)\n",
    "tfidf_matrix = vectorizer.fit_transform(corpus)"
   ]
  },
  {
   "cell_type": "code",
   "execution_count": 123,
   "metadata": {},
   "outputs": [],
   "source": [
    "# bring the csv file into the correct format for the following code\n",
    "with open(COUNT_CSV, 'r', newline='', encoding='utf-8') as csvfile:\n",
    "\n",
    "    # define reader\n",
    "    reader = csv.reader(csvfile)\n",
    "\n",
    "    # skip head line\n",
    "    next(reader)\n",
    "\n",
    "    with open(COUNT_CSV, 'w', newline='', encoding='utf-8') as outfile:\n",
    "\n",
    "        # define writer\n",
    "        writer = csv.writer(outfile)\n",
    "\n",
    "        # write the header of the csv \n",
    "        writer.writerow(['Titel', 'Schlüsselwörter'])\n",
    "\n",
    "        for row in reader:\n",
    "\n",
    "            # delete the .txt ending of the article names\n",
    "            title = row[0].replace('.txt', '')\n",
    "            keywords = row[1]\n",
    "            writer.writerow([title, keywords])"
   ]
  },
  {
   "attachments": {},
   "cell_type": "markdown",
   "metadata": {},
   "source": [
    "#### Schlüsselwörter mit YAKE\n",
    "Um einen Vergleich zwischen den Schlüsselwörtern zu haben und sie in der Evaluation besser bewerten zu können, wird ein zusätzliches Modell für die Schlüsselwortextraktion herangezogen. Die Struktur der Funktion ist dem KeyBert-Modell sehr ähnlich. Fünf Schlüsselwörter werden auf der Grundlage von Textmerkmalen mit jeweils zwei Wörtern generiert, um die treffendsten Schlüsselwörter zu erhalten.\n",
    "\n",
    "Das YAKE-Modell wurde von https://github.com/LIAAD/yake übernommen. Es teilt den Artikel in Wörter und einzelne Phrasen auf und weist diesen Gewichten zu. Die Gewichtung entsteht durch die Anzahl, wie oft Wörter im Text vorkommen und wie sie im Text verteilt sind. Um genauere Schlüsselwörter zu erhalten, die nicht nur auf der Frequenz und Verteilung beruhen, versucht YAKE zudem den Kontext zu erfassen, indem zusätzlich die Wörter im Umkreis betrachtet werden."
   ]
  },
  {
   "cell_type": "code",
   "execution_count": 124,
   "metadata": {},
   "outputs": [],
   "source": [
    "def yake_keywords(TARGET_FOLDER, CLEANED_FOLDER):\n",
    "    \"\"\"\n",
    "    Extracts keywords using YAKE for the articles and returns DataFrame with the titles and extracted keywords\n",
    "\n",
    "    Args:\n",
    "        TARGET_FOLDER (str): The path to the text folder\n",
    "        CLEANED_FOLDER (str): The path to the cleaned folder\n",
    "\n",
    "    Returns:\n",
    "        DataFrame: DataFrame with the titles and extracted keywords\n",
    "\n",
    "    \"\"\"\n",
    "\n",
    "    # empty list for dataset\n",
    "    data = []\n",
    "\n",
    "    # get the files in the folder\n",
    "    for filename in os.listdir(TARGET_FOLDER):\n",
    "\n",
    "        # check if it is a txt file\n",
    "        if filename.endswith(\".txt\"):\n",
    "        \n",
    "            # read text files\n",
    "            txt_path = os.path.join(CLEANED_FOLDER, filename)\n",
    "            with open(txt_path, 'r', encoding='utf-8') as f:\n",
    "                content = f.read()\n",
    "\n",
    "            # extract keywords for title with Yake model\n",
    "            kw_extractor = yake.KeywordExtractor()\n",
    "            keywords = kw_extractor.extract_keywords(content)\n",
    "\n",
    "            # extract title out of filename\n",
    "            title = os.path.splitext(filename)[0]\n",
    "\n",
    "            # extract only the first two words from the keywords\n",
    "            extracted_keywords = [\" \".join(kw[0].split()[:2]) for kw in keywords[:5]]\n",
    "\n",
    "            # add dataset to list\n",
    "            data.append({'Titel': title, 'Schlüsselwörter': extracted_keywords})\n",
    "\n",
    "    # create dataframe with keywords and title\n",
    "    df_yake = pd.DataFrame(data)\n",
    "\n",
    "    return df_yake\n"
   ]
  },
  {
   "cell_type": "code",
   "execution_count": 125,
   "metadata": {},
   "outputs": [],
   "source": [
    "df_yake = yake_keywords(TARGET_FOLDER, CLEANED_FOLDER)"
   ]
  },
  {
   "attachments": {},
   "cell_type": "markdown",
   "metadata": {},
   "source": [
    "#### Dateien in richtiges Format bringen\n",
    "Speichern der Dataframes aus den beiden Modellen in einer csv-Datei, um damit einfacher weiter arbeiten zu können."
   ]
  },
  {
   "cell_type": "code",
   "execution_count": 126,
   "metadata": {},
   "outputs": [],
   "source": [
    "# save the dataframe back into a csv file\n",
    "df_keybert.to_csv('./keybert.csv') \n",
    "df_yake.to_csv('./yake_output.csv')"
   ]
  },
  {
   "attachments": {},
   "cell_type": "markdown",
   "metadata": {},
   "source": [
    "**Säubern der KeyBert CSV-Datei** <br>\n",
    "Das KeyBert-Modell enthält in der CSV noch den Score für jedes Schlüsselwort, der angibt, wie ähnlich es dem Text ist. Es ist gut, diese Zahl als einen ersten Indikator für die Leistung des Keybert-Modells zu nutzen. Aber die Zahl wird für den weiteren Code nicht benötigt und soll aus der csv-Datei extrahiert werden. Deshalb werden die nächsten beiden Funktionen definiert."
   ]
  },
  {
   "cell_type": "code",
   "execution_count": 127,
   "metadata": {},
   "outputs": [],
   "source": [
    "def clean_keywords(keyword_str):\n",
    "    \"\"\"\n",
    "    Cleans the keyword string and returns a list of cleaned keywords\n",
    "\n",
    "    Args:\n",
    "        keyword_str (str): The keyword string\n",
    "\n",
    "    Returns:\n",
    "        list: List of cleaned keywords\n",
    "\n",
    "    \"\"\"\n",
    "\n",
    "    # keyword_str into a python list \n",
    "    keyword_list = ast.literal_eval(keyword_str)\n",
    "\n",
    "    # iterate over list and get first element\n",
    "    cleaned_keywords = [keyword[0] for keyword in keyword_list]\n",
    "    \n",
    "    return list(cleaned_keywords)"
   ]
  },
  {
   "cell_type": "code",
   "execution_count": 128,
   "metadata": {},
   "outputs": [],
   "source": [
    "def process_keywords_csv(input_file, output_file): \n",
    "    \"\"\"\n",
    "    Cleans the keywords and writes the cleaned data to a CSV\n",
    "\n",
    "    Args:\n",
    "        input_file (str): The path to input CSV\n",
    "        output_file (str): The path to output CSV\n",
    "\n",
    "    \"\"\"\n",
    "\n",
    "    # opens csv-file   \n",
    "    with open(input_file, 'r', encoding='utf-8') as file:\n",
    "\n",
    "        # read csv-file as dictionary\n",
    "        csv_reader = csv.DictReader(file)\n",
    "\n",
    "        # save the rows separately\n",
    "        rows = list(csv_reader)\n",
    "\n",
    "        # clean the rows with the function above\n",
    "        keywords = [(row['Titel'], clean_keywords(row['Schlüsselwörter'])) for row in rows]\n",
    "\n",
    "    # open output file\n",
    "    with open(output_file, 'w', newline='', encoding='utf-8') as file:\n",
    "\n",
    "        # create csv writer\n",
    "        writer = csv.writer(file)\n",
    "\n",
    "        # define the column names and write it in output file\n",
    "        writer.writerow(['Titel', 'Schlüsselwörter'])\n",
    "\n",
    "        # write keywords in output file\n",
    "        for keyword in keywords:\n",
    "            writer.writerow(keyword)"
   ]
  },
  {
   "cell_type": "code",
   "execution_count": 129,
   "metadata": {},
   "outputs": [],
   "source": [
    "process_keywords_csv('keybert.csv', 'key_output.csv')"
   ]
  },
  {
   "attachments": {},
   "cell_type": "markdown",
   "metadata": {},
   "source": [
    "### Beispielhafte Visualisierung der Ergebnisse\n",
    "In der folgenden Zelle wird eine Wortwolke zu einem beispielhaften Artikel erstellt, um die identifizierten Schlüsselwörter zu visualisieren. Daraus wird ersichtlich, dass sich der Artikel mit dem Externsteine befasst. Es ist zudem erkennbar, dass es sich dabei um ein Felsengrab handelt und der Felsen im Teutoburgerwald liegt, welcher sich im Nordwesten Deutschlands befindet. Zudem ist ein Stadtteil nach dem Felsen benannt, nämlich Holzhausen-Externsteine. Die Schlüsselwörter beschreiben den Artikel und bieten sinnvollen Aufschluss über dessen Inhalt.\n",
    "\n",
    "Die beschriebene Wortwolke nutzt die Schlüsselwörter des KeyBert-Modells. Um zu sehen, wie gut das Modell abschniedet, wurden zusätzlich die Schlüsselwörter mit dem YAKE-Modell erstellt. Es fällt direkt auf, dass die zweite Wortwolke nicht mehr abbildet, worum es sich in dem Text handelt und es für einen außenstehenden Betrachter nicht zu erkennen ist, dass es sich um einen Artikel über die Externsteine handelt. Dies ist ein erneutes Anzeichen, dass KeyBert besser abschneidet, als YAKE."
   ]
  },
  {
   "attachments": {},
   "cell_type": "markdown",
   "metadata": {},
   "source": [
    "#### Visualisierung KeyBert"
   ]
  },
  {
   "cell_type": "code",
   "execution_count": 130,
   "metadata": {},
   "outputs": [
    {
     "data": {
      "image/png": "[encoded data removed]",
      "text/plain": [
       "<Figure size 640x480 with 1 Axes>"
      ]
     },
     "metadata": {},
     "output_type": "display_data"
    }
   ],
   "source": [
    "# idea from: https://www.analyticsvidhya.com/blog/2021/08/creating-customized-word-cloud-in-python/ (12.06.23)\n",
    "# read csv file\n",
    "df = pd.read_csv('key_output.csv')\n",
    "\n",
    "# title from article\n",
    "title_visualize_keybert = 'Mainz'\n",
    "\n",
    "# filter keywords for title\n",
    "keywords_visualize_keybert = df.loc[df['Titel'] == title_visualize_keybert, 'Schlüsselwörter'].values[0]\n",
    "\n",
    "# konvert keywords to string\n",
    "keywords_str_keybert = ' '.join(eval(keywords_visualize_keybert))\n",
    "\n",
    "# create wordcloud\n",
    "wordcloud_keybert = WordCloud(width=600, height=400, background_color='white', max_font_size=70).generate(keywords_str_keybert)\n",
    "\n",
    "# plot the wordcloud\n",
    "plt.imshow(wordcloud_keybert, interpolation='bilinear')\n",
    "plt.axis('off')\n",
    "plt.show()"
   ]
  },
  {
   "attachments": {},
   "cell_type": "markdown",
   "metadata": {},
   "source": [
    "#### Visualisierung Wörter zählen"
   ]
  },
  {
   "cell_type": "code",
   "execution_count": 131,
   "metadata": {},
   "outputs": [
    {
     "data": {
      "image/png": "[encoded data removed]",
      "text/plain": [
       "<Figure size 640x480 with 1 Axes>"
      ]
     },
     "metadata": {},
     "output_type": "display_data"
    }
   ],
   "source": [
    "# Read the count.csv file\n",
    "df = pd.read_csv('count.csv')\n",
    "\n",
    "# Specify the title of the article\n",
    "title_visualize_keybert = 'Mainz'\n",
    "\n",
    "# Filter keywords for the specified title\n",
    "keywords_visualize_keybert = df.loc[df['Titel'] == title_visualize_keybert, 'Schlüsselwörter'].values[0]\n",
    "\n",
    "# Convert keywords to string\n",
    "keywords_str_keybert = keywords_visualize_keybert.replace(', ', ' ')\n",
    "\n",
    "# Create wordcloud\n",
    "wordcloud_keybert = WordCloud(width=600, height=400, background_color='white', max_font_size=70).generate(keywords_str_keybert)\n",
    "\n",
    "# Plot the wordcloud\n",
    "plt.imshow(wordcloud_keybert, interpolation='bilinear')\n",
    "plt.axis('off')\n",
    "plt.show()"
   ]
  },
  {
   "attachments": {},
   "cell_type": "markdown",
   "metadata": {},
   "source": [
    "#### Visualisierung YAKE"
   ]
  },
  {
   "cell_type": "code",
   "execution_count": 132,
   "metadata": {},
   "outputs": [
    {
     "data": {
      "image/png": "[encoded data removed]",
      "text/plain": [
       "<Figure size 640x480 with 1 Axes>"
      ]
     },
     "metadata": {},
     "output_type": "display_data"
    }
   ],
   "source": [
    "# read csv file\n",
    "df = pd.read_csv('yake_output.csv')\n",
    "\n",
    "# title from article\n",
    "title_visualize = 'Mainz'\n",
    "\n",
    "# filter keywords for title\n",
    "keywords_visualize_yake = df.loc[df['Titel'] == title_visualize, 'Schlüsselwörter'].values[0]\n",
    "\n",
    "# konvert keywords to string\n",
    "keywords_str_yake = ' '.join(eval(keywords_visualize_yake))\n",
    "\n",
    "# create wordcloud\n",
    "wordcloud_yake = WordCloud(width=600, height=400, background_color='white', max_font_size=70).generate(keywords_str_yake)\n",
    "\n",
    "# plot the wordcloud\n",
    "plt.imshow(wordcloud_yake, interpolation='bilinear')\n",
    "plt.axis('off')\n",
    "plt.show()"
   ]
  },
  {
   "attachments": {},
   "cell_type": "markdown",
   "metadata": {},
   "source": [
    "### Evaluation der Schlüsselwörter - Kosinus-Score\n",
    "Das KeyBert Modell nutzt die Kosinus-Ähnlichkeit, um die Ähnlichkeit der identifizierten Schlüsselwörter zum Textdokument zu ermitteln. Die Wörter Kosinus-Ähnlichkeit und Ähnlichkeits-Score werden synonym verwendet. Für die Kosinus-Ähnlichkeit wird der Kosinus des Winkels der beiden Vektoren bestimmt. Dadurch kann ermittelt werden, ob die beiden Vektoren in eine Richtung zeigen. Der Score kann dabei zwischen -1 und +1 liegen. Im Minusbereich sind die Vektoren entgegengesetzt ausgerichtet, während sie im Plusbereich in eine ähnliche Richtung zeigen. Je näher sich die Vektoren sind und desto kleiner der Winkel ist, desto höher ist der Ähnlichkeits-Score des KeyBert Modells. (Vgl. https://www.learndatasci.com/glossary/cosine-similarity/ letzter Aufruf: 24.05.2023) \n",
    "\n",
    "Der Kosinus Score lässt sich zudem auch für die beiden anderen Vorgehensweisen berechnen und damit eine Vergleichbarkeit der Modelle herstellen.\n",
    "\n",
    "Um nicht für alle über 2700 exzellenten Wikipedia Artikeln einzeln diesen Score zu interpretieren, wird in der folgenden Funktion zunächst der Ähnlichkeits-Score jedes Artikels berechnet und anschließend das Mittel über alle Artikel ermittelt. Es ergibt sich ein erster Eindruck, wie gut die identifizierten Schlüsselwörter im Schnitt zu den Artikeln passen."
   ]
  },
  {
   "cell_type": "code",
   "execution_count": 133,
   "metadata": {},
   "outputs": [],
   "source": [
    "def calculate_average_similarity(df_keybert):\n",
    "    \"\"\"\n",
    "    Calculates the average similarity score for the articles in the DataFrame\n",
    "\n",
    "    Args:\n",
    "        df_keybert (DataFrame): DataFrame containing the titles and extracted keywords with the similarity scores\n",
    "\n",
    "    Returns:\n",
    "        float: The average similarity score for all articles\n",
    "\n",
    "    \"\"\"\n",
    "\n",
    "    # empty list for the scores\n",
    "    article_scores = []\n",
    "    \n",
    "    for index, row in df_keybert.iterrows():\n",
    "\n",
    "        # keywords in the column Schlüsselwörter\n",
    "        keywords = row['Schlüsselwörter']\n",
    "        \n",
    "        # set variables for count\n",
    "        total_score = 0\n",
    "        count = 0\n",
    "        \n",
    "        # iterate over the keywords in articles\n",
    "        for keyword in keywords:\n",
    "            # score is on second place in the tuple\n",
    "            similarity_score = keyword[1]\n",
    "            # score is added to score of the article\n",
    "            total_score += similarity_score\n",
    "            count += 1\n",
    "        \n",
    "        # calculate the article score for each article file\n",
    "        if count > 0:\n",
    "            average_score = total_score / count\n",
    "        else:\n",
    "            # dont want to divide by 0 if there is no score\n",
    "            average_score = 0\n",
    "        \n",
    "        # append the article score to the list\n",
    "        article_scores.append(average_score)\n",
    "    \n",
    "    # calculate score over all articles\n",
    "    if len(article_scores) > 0:\n",
    "        articles_average_score = sum(article_scores) / len(article_scores)\n",
    "    else:\n",
    "        articles_average_score = 0\n",
    "    \n",
    "    return articles_average_score"
   ]
  },
  {
   "cell_type": "code",
   "execution_count": 134,
   "metadata": {},
   "outputs": [],
   "source": [
    "def compute_average_cosine_similarity(tfidf_matrix):\n",
    "    \"\"\"\n",
    "    Computes average cosine similarity between all the articles\n",
    "\n",
    "    Args:\n",
    "        tfidf_matrix (ndarray): TF-IDF matrix\n",
    "\n",
    "    Returns:\n",
    "        float: average cosine similarity\n",
    "    \"\"\"\n",
    "\n",
    "    # compute the cosine similarity of all the articles\n",
    "    cosine_similarities = cosine_similarity(tfidf_matrix, tfidf_matrix)\n",
    "    cosine_similarities = cosine_similarities - np.eye(cosine_similarities.shape[0])\n",
    "\n",
    "    # compute average cosine similarity\n",
    "    average_similarity = np.mean(cosine_similarities)\n",
    "    \n",
    "    return average_similarity"
   ]
  },
  {
   "attachments": {},
   "cell_type": "markdown",
   "metadata": {},
   "source": [
    "#### KeyBert Kosinus-Score"
   ]
  },
  {
   "cell_type": "code",
   "execution_count": 135,
   "metadata": {},
   "outputs": [
    {
     "name": "stdout",
     "output_type": "stream",
     "text": [
      "Average Similarity Score KeyBert: 0.563748\n"
     ]
    }
   ],
   "source": [
    "average_similarity_keybert = calculate_average_similarity(df_keybert)\n",
    "print(\"Average Similarity Score KeyBert:\", average_similarity_keybert)"
   ]
  },
  {
   "attachments": {},
   "cell_type": "markdown",
   "metadata": {},
   "source": [
    "##### Winkel berechnen KeyBert\n",
    "Um ein Gefühl dieses Wertes zu bekommen, wird nachfolgend zusätzlich der Winkel zum entsprechenden Kosinus-Score berechnet. Der in der folgenden Zelle ermittelte Winkel zum Konsinus-Score beträgt ungefähr 56 Grad. Das Ergebnis ist weit weg von den 180°, bei dem die Vektoren in die entgegengesetzte Richtung zeigen und kleiner als 90°. Null Grad wäre hier der beste Wert, da die Schlüselwörter im Mittel zum Artikel bestmöglich ähnlich sind und diesen perfekt abbilden. \n",
    "\n",
    "Die Artikel sind nicht nur einzelne Sätze oder Wörter und dementsprechend lang. Je länger ein Text ist, desto schwieriger wird es, dass einzelne Schlüsselwörter eine perfekte Ähnlichkeit zu einem ganzen Text besitzen. Aus diesen benannten Gründen ist eine gute durchschnittliche Ähnlichkeit für die identifizierten Schlüsselwörter zu den Artikeln zu erkennen und der Score von 0.56 ist in der ersten Evaluation ein guter Wert."
   ]
  },
  {
   "cell_type": "code",
   "execution_count": 136,
   "metadata": {},
   "outputs": [],
   "source": [
    "# for this code the documentation https://www.tutorialspoint.com/python/number_acos.htm was used\n",
    "\n",
    "def calculate_angle(average_similarity):\n",
    "    # calculate the radian measure\n",
    "    angle = math.acos(average_similarity)\n",
    "\n",
    "    # calculate the degree\n",
    "    angle_degrees = math.degrees(angle)\n",
    "\n",
    "    return angle_degrees"
   ]
  },
  {
   "cell_type": "code",
   "execution_count": 137,
   "metadata": {},
   "outputs": [
    {
     "name": "stdout",
     "output_type": "stream",
     "text": [
      "Angle Cosine Score KeyBert: 55.68460470752645\n"
     ]
    }
   ],
   "source": [
    "angle_degrees = calculate_angle(average_similarity_keybert)\n",
    "print(\"Angle Cosine Score KeyBert:\", angle_degrees)"
   ]
  },
  {
   "attachments": {},
   "cell_type": "markdown",
   "metadata": {},
   "source": [
    "##### Ergebnis KeyBert\n",
    "\n",
    "Der ermittelte Ähnlichkeits-Score über alle deutschen, exzellenten Wikipedia Artikeln beträgt 0,56. Dies ist ein Indiz dafür, dass die Schlüsselwörter im Schnitt eine hohe Ähnlichkeit zum jeweiligen Artikel aufweisen. Ein Wert größer null bedeutet, dass die Vektoren in eine ähnliche Richtung zeigen und nicht voneinander abgewandt sind. Zudem ist der Winkel zwischen den Vektoren zur gegebenen Textlänge relativ klein. \n",
    "\n",
    "Die Ergebnisse über den Ähnlichkeits-Score geben erste Rückschlüsse, dass die gewählte Methode zur Schlüsselwörter-Identifizierung funktioniert und gute Ergebnisse erbringt. Um die erste Vermutung zu bestätigen und einen Vergleich zu einem anderen Modell zu haben, wird im nächsten Schritt das Yake Modell genutzt, um erneut Schlüsselwörter aus den Artikeln zu erstellen."
   ]
  },
  {
   "attachments": {},
   "cell_type": "markdown",
   "metadata": {},
   "source": [
    "#### Wörter zählen Kosinus-Score\n",
    "Um eine Metrik zu haben und die Ergebnisse der verschiedenen Modelle zu vergleichen wird die Kosinus-Ähnlichkeit genutzt. Diese wurde ausgewählt, da das KeyBert-Modell diesen Wert nutzt und automatisch berechnet. Zudem ist der Wert sehr einfach zu verstehen und nachvollziehbar, wodurch eine Interpretation möglich wird."
   ]
  },
  {
   "cell_type": "code",
   "execution_count": 138,
   "metadata": {},
   "outputs": [
    {
     "name": "stdout",
     "output_type": "stream",
     "text": [
      "Average Cosine Similarity Count: 0.017278023820540004\n"
     ]
    }
   ],
   "source": [
    "# compute average cosine similarity for all articles\n",
    "average_similarity_count = compute_average_cosine_similarity(tfidf_matrix)\n",
    "\n",
    "# print the average similarity\n",
    "print(\"Average Cosine Similarity Count:\", average_similarity_count)"
   ]
  },
  {
   "attachments": {},
   "cell_type": "markdown",
   "metadata": {},
   "source": [
    "##### Winkel berechnen Wörter zählen"
   ]
  },
  {
   "cell_type": "code",
   "execution_count": 139,
   "metadata": {},
   "outputs": [
    {
     "name": "stdout",
     "output_type": "stream",
     "text": [
      "Angle Cosine Score Count: 89.00999289476832\n"
     ]
    }
   ],
   "source": [
    "angle_degrees = calculate_angle(average_similarity_count)\n",
    "print(\"Angle Cosine Score Count:\", angle_degrees)"
   ]
  },
  {
   "attachments": {},
   "cell_type": "markdown",
   "metadata": {},
   "source": [
    "##### Ergebnis Wörter zählen\n",
    "Die Berechnung des Winkels hilft, den Kosinus-Score von ca. 0.0173 besser zu verstehen. Der Winkel des Scores für das Zählen der Wörter liegt bei ungefähr 89 Grad. Die Vektoren zeigen daher zwar ungefähr in die gleiche Richtung, da der Winkel noch kleiner 90° ist, aber der Winkel ist deutlich größer, als bei den Ergebnissen des KeyBert Modells. Die Schlüsselwörter sind demnach weniger ähnlich zum Text des Artikels."
   ]
  },
  {
   "attachments": {},
   "cell_type": "markdown",
   "metadata": {},
   "source": [
    "#### YAKE Kosinus-Score"
   ]
  },
  {
   "cell_type": "code",
   "execution_count": 140,
   "metadata": {},
   "outputs": [
    {
     "name": "stdout",
     "output_type": "stream",
     "text": [
      "Average Similarity Score YAKE: 0.002295741303892603\n"
     ]
    }
   ],
   "source": [
    "# create tf-idf-Vektor for keywords\n",
    "tfidf_vectorizer = TfidfVectorizer()\n",
    "tfidf_matrix = tfidf_vectorizer.fit_transform(df_yake['Schlüsselwörter'].apply(lambda x: ' '.join(x)))\n",
    "\n",
    "# calculate average cosinus score\n",
    "average_similarity_yake = compute_average_cosine_similarity(tfidf_matrix)\n",
    "\n",
    "# print the average cosinus score\n",
    "print(\"Average Similarity Score YAKE:\", average_similarity_yake)"
   ]
  },
  {
   "attachments": {},
   "cell_type": "markdown",
   "metadata": {},
   "source": [
    "##### Winkel berechnen YAKE"
   ]
  },
  {
   "cell_type": "code",
   "execution_count": 141,
   "metadata": {},
   "outputs": [
    {
     "name": "stdout",
     "output_type": "stream",
     "text": [
      "Angle Cosine Score Count: 89.86846359689072\n"
     ]
    }
   ],
   "source": [
    "angle_degrees = calculate_angle(average_similarity_yake)\n",
    "print(\"Angle Cosine Score Count:\", angle_degrees)"
   ]
  },
  {
   "attachments": {},
   "cell_type": "markdown",
   "metadata": {},
   "source": [
    "##### Ergebnis YAKE\n",
    "Die Kosinus-Ähnlichkeit beträgt mit dem YAKE-Modell ca. 0.0022. Dieser Wert ist Nahe null und zeigt daher an, dass der Winkel nahe der 90° sein muss. Die Vektoren stehen demnach orthogonal aufeinander und zeigen bereits in verschiedene Richtungen. Dadurch sind die identifizierten Schlüsselwörter dem Text nicht sehr ähnlich, wie die nachfolgende beispielhafte Visualisierung zeigt. Zu den anderen beiden Methoden liefert YAKE die schlechtesten Schlüsselwörter, um die jeweiligen Artikel zu beschreiben. Dies könnte daran liegen, dass die Daten für diese Methode falsch aufbereitet wurden, oder der Text für das Modell zu lang ist und eine Grenze erreicht wurde."
   ]
  },
  {
   "attachments": {},
   "cell_type": "markdown",
   "metadata": {},
   "source": [
    "### Evaluation der Schlüsselwörter - Wikipedia API\n",
    "Es wurden zwei Modelle mit unterschiedlichen Ansätzen ausprobiert, um die Schlüsselwörter aus den exzellenten deutschen Wikipedia-Artikeln zu erhalten. Da es keinen Datensatz mit den \"richtigen\" Schlüsselwörtern gibt, wird eine etwas andere als sinnvoll erachtete Methode zur Evaluierung in Betracht gezogen. Dazu werden die Schlüsselwörter über die Wikipedia-API in die Suchfunktion eingefügt. Anschließend wird geprüft, ob der erste gefundene Artikel mit dem Titel der eingegebenen Schlüsselwörter übereinstimmt.\n",
    "\n",
    "Auf diese Weise lässt sich gut erkennen, ob die Schlüsselwörter dem Text ähnlich sind und alle relevanten Informationen aus dem Artikel enthalten. Wenn der richtige Artikel mit den identifizierten Schlüsselwörtern gefunden werden kann, ist dies ein guter Indikator für die richtigen Schlüsselwörter. \n",
    "\n",
    "Für jede der Schlüsselphrasen/Schlüsselwörter werden zwei Wörter verwendet, um die Grammatik nicht zu verlieren und den Text so gut wie möglich zu beschreiben und einen größeren Kontext abzudecken. Dies ist auch der Grund, warum die Grundformen der Wörter(Lemmatation) nicht verwendet werden, da sonst die Bedeutung hinter den beiden Wörtern verloren ginge und sie nicht mehr zusammenhängen würden. Es wurde versucht, eine Lemmatisierung (mit Spacy) durchzuführen. Aufgrund der geringen Auswahl an deutschen Lemmatisierern war es jedoch schwierig, einen geeigneten zu finden. Außerdem wurden viele Wörter falsch abgeschnitten, was dazu führte, dass die Grammatik und die Bedeutung hinter den Wörtern nicht mehr korrekt waren."
   ]
  },
  {
   "cell_type": "code",
   "execution_count": 145,
   "metadata": {},
   "outputs": [],
   "source": [
    "def get_search_result(search_query):\n",
    "    \"\"\"\n",
    "    Retrieves the title of the first Wikipedia search result\n",
    "\n",
    "    Args:\n",
    "        search_query (str): The query string to search Wikipedia\n",
    "\n",
    "    Returns:\n",
    "        str or None: The title of the first search result, or None if there is no result\n",
    "\n",
    "    \"\"\"\n",
    "\n",
    "    # language code to german\n",
    "    language = 'de'\n",
    "\n",
    "    # get only first result of the wikipedia search\n",
    "    number_of_results = 1\n",
    "\n",
    "    # empty dictionary for http header \n",
    "    headers = {}\n",
    "\n",
    "    # url for API to search and create the full url\n",
    "    api_url = 'https://api.wikimedia.org/core/v1/wikipedia/'\n",
    "    endpoint = '/search/page'\n",
    "    url = api_url + language + endpoint\n",
    "\n",
    "    # set the parameters for the search\n",
    "    parameters = {'q': search_query, 'limit': number_of_results}\n",
    "\n",
    "    # send get request with url, header and parameters. Parse API rsponse as JSON\n",
    "    response = requests.get(url, headers=headers, params=parameters)\n",
    "    response = response.json()\n",
    "\n",
    "    # if there is one result, return title\n",
    "    if len(response['pages']) > 0:\n",
    "        return response['pages'][0]['title']\n",
    "    # if there is no result, return no title found\n",
    "    else:\n",
    "        pass\n",
    "        return None"
   ]
  },
  {
   "cell_type": "code",
   "execution_count": 146,
   "metadata": {},
   "outputs": [],
   "source": [
    "def validate_keywords(csv_file):\n",
    "    \"\"\"\n",
    "    Validates keywords in the given CSV by searching for articles on Wikipedia\n",
    "\n",
    "    Args:\n",
    "        csv_file (str): The path to the CSV\n",
    "\n",
    "    Returns:\n",
    "        tuple: A tuple containing the count of articles\n",
    "\n",
    "    \"\"\"\n",
    "\n",
    "    # count for the articles\n",
    "    count_found = 0\n",
    "\n",
    "    # open csv-file\n",
    "    with open(csv_file, 'r', encoding='utf-8') as file:\n",
    "\n",
    "        # create dictionary reader\n",
    "        csv_reader = csv.DictReader(file)\n",
    "\n",
    "        # iterate over the rows and count them in idx\n",
    "        for idx, row in enumerate(csv_reader):\n",
    "\n",
    "            # exrat title and keywords\n",
    "            title = row['Titel']\n",
    "            keywords = row['Schlüsselwörter'].split(', ')  # Split the string of keywords into a list\n",
    "            \n",
    "            # search article with keywords\n",
    "            search_results = get_search_result(','.join(keywords))\n",
    "\n",
    "            # if there is a search result \n",
    "            if search_results:\n",
    "                found_title = search_results\n",
    "\n",
    "                if found_title.lower() == title.lower():\n",
    "\n",
    "                    # and the title is the same as the title in the csv-file\n",
    "                    #print(f\"The article '{found_title}' was found for the title '{title}'.\")\n",
    "                    count_found += 1\n",
    "\n",
    "                else:\n",
    "                    # and the title is not the same as the title in the csv-file\n",
    "                    #print(f\"The found article '{found_title}' is not matching the title '{title}'.\")\n",
    "                    pass\n",
    "            else:\n",
    "                # and no article was found\n",
    "                #print(f\"No article found for title '{title}'.\")\n",
    "                pass\n",
    "                \n",
    "            # break between 7 and 10 seconds, to have not too many requests for the API\n",
    "            time.sleep(random.randint(7,10))\n",
    "    \n",
    "    return count_found, idx"
   ]
  },
  {
   "cell_type": "code",
   "execution_count": 147,
   "metadata": {},
   "outputs": [
    {
     "name": "stdout",
     "output_type": "stream",
     "text": [
      "Keybert ### Gefunden: 21 von 25\n",
      "Count ### Gefunden: 17 von 25\n",
      "Yake ### Gefunden: 18 von 25\n"
     ]
    }
   ],
   "source": [
    "# print the results for the evaluation\n",
    "count_found_keybert, idx = validate_keywords('key_output.csv')\n",
    "count_found_count, idx = validate_keywords('count.csv')\n",
    "count_found_yake, idx = validate_keywords('yake_output.csv')\n",
    "print(\"Keybert ### Gefunden:\", count_found_keybert , 'von',idx + 1)\n",
    "print(\"Count ### Gefunden:\", count_found_count, 'von',idx + 1)\n",
    "print(\"Yake ### Gefunden:\", count_found_yake, 'von',idx + 1)\n"
   ]
  },
  {
   "attachments": {},
   "cell_type": "markdown",
   "metadata": {},
   "source": [
    "#### Evaluation der Schlüsselwörter - Links\n",
    "Es wurde sich gegen eine Evaluation der Schlüsselwörter mithilfe der Verlinkungen in Wikipedia entschieden. Dies geschieht mit der Begründung, dass jeder bereits vorhandene Artikel, der das Thema auch nur ansatzweise streift, für gewöhnlich verlinkt wird. Dadurch werden auch Schlüsselwörter angegeben, die keinen direkten Kontext zum Artikel aufzeigen und keinen sinnvollen Beitrag für die Evaluation liefern. Ein Beispiel dafür ist die Verlinkung 'Sommersonnenwende' im Artikel 'Externsteine'. Dies wird zwar erwähnt, mit dem reinen Wort lässt sich aber nicht auf den Artikel schließen und ist daher kein gut gewähltes Schlüsselwort. Zudem sind in einem Artikel sehr viele Verlinkungen enthalten, wodurch eine Vielzahl überprüft werden müsste."
   ]
  },
  {
   "attachments": {},
   "cell_type": "markdown",
   "metadata": {},
   "source": [
    "### Evaluation Ergebnisse\n",
    "Wir können in den Ergebnissen sehen, dass alle drei ausgewählten Modelle eine gute Leistung bei der Erstellung von Schlüsselwörtern und dem Wiederfinden des richtigen Artikels bei der Wikipedia-Suche erzielen. Das zeigt, dass die Schlüsselwörter dem Text sehr ähnlich sind und dass die Schlüsselwörter die Artikel sehr gut beschreiben. \n",
    "\n",
    "Es wurden drei verschiedene Modelle zum Vergleich herangezogen, die unterschiedlich gut abschneiden. **KeyBert** schneidet erwartungsgemäß am besten ab. Das liegt daran, dass die Ähnlichkeit zum Artikel zur Identifikation der Schlüsselwörter verwendet wird. Darüber hinaus werden mehrere mögliche Schlüsselwörter gebildet und die unähnlichsten für die eigentliche Auswahl verwendet. Somit ist die Vielfalt der Schlüsselwörter sehr gut und decken alle relevanten Aspekte des Textes ab. Das Modell hat **21** der insgesamt 25 exzellenten deutschen Wikipedia-Artikel im Training aus dem Subset gefunden (insgesamt 2409 von 2739) gefunden. Dies entspricht einer Genauigkeit von **86,25%**. Der ermittelte Ähnlichkeits-Score des Subsets von 0.56 bestätigt die Ergebnisse des Modells. Dieser zeigt ebenfalls an, dass die Schlüsselwörter sehr ähnlich zum Text sind, da die Vektoren in die gleiche Richtung zeigen und der Winkel zwischen ihnen mit **56°** zur Textlänge vergleichsweise klein ist. Um eine bessere Genauigkeit zu erzielen, könnten mehr Schlüsselwörter generiert und in die Suche einbezogen werden. Die Vorverarbeitung des Textes scheint aufgrund der guten Keywords ausreichend zu sein.\n",
    "\n",
    "Das Zählen der Wörter mit TF-IDF hat den Vorteil, dass nicht nur die Häufigkeit im aktuellen Artikel betrachtet wird, sondern auch die Häufigkeit des Wortes in anderen Artikeln. Dadurch kann bestimmten Schlüsselwörtern eine höhere Gewichtung zugeteilt werden. Die Ergebnisse sind zum KeyBert Modell mit einem Kosinus-Score von 0.0173 und einem Winkel von **89°** signifikant schlechter. Dennoch ist das Zählen der Wörter nach der ausgewählten Metrik etwas besser, als die Ergebnisse mit YAKE. Dennoch werden etwas weniger Artikel gefunden über die Wikipedia Suche, als bei den anderen beiden Modellen.\n",
    "\n",
    "Das Modell **Yake** schneidet immer noch gut ab, aber etwas schlechter als die beiden vorherigen Modelle. Es verwendet Merkmale im Text, um die Schlüsselwörter zu erstellen. Die Tatsache, dass das Modell etwas schlechter abschneidet, liegt vermutlich an der Vorgehensweise des Modells und dass nicht die Ähnlichkeit betrachtet wird. Im Gegensatz zum KeyBert-Modell fand das Modell nur **18** von 25 Artikeln (insgesamt 2048 von 2793) auf der Grundlage der ermittelten Schlüsselwörter richtig. Das bedeutet, dass im Vergleich 3 (insgesamt 361) weniger exzellente Artikel gefunden wurden. Damit liegt die Genauigkeit des Yake-Modells bei nur **73,33%**. Zudem liegt der Wert der Kosinus-Ähnlichkeit fast bei Null (0.0023) und damit bei **90°**. Die Vektoren zeigen zwar nicht in eine entgegengesetzte Richtung, aber stehen orthogonal zueinander. Dennoch zeigt das Ergebnis, dass das Modell funktioniert, auch wenn keine guten Schlüsselwörter identifiziert werden. \n",
    "\n",
    "Die eindeutigste und nach den ausgewählten Metriken beste Schlüsselwortidentifikation wird demnach mit dem KeyBert-Modell erreicht und ist in diesem Fall zu bevorzugen. Es ist einfach zu verstehen und berechnet den Kosinus-Score bereits mit. Dadurch ist das Modell gleichzeitig einfach zu interpretieren und benötigt keinen zusätzlichen Aufwand."
   ]
  }
 ],
 "metadata": {
  "kernelspec": {
   "display_name": "Python 3",
   "language": "python",
   "name": "python3"
  },
  "language_info": {
   "codemirror_mode": {
    "name": "ipython",
    "version": 3
   },
   "file_extension": ".py",
   "mimetype": "text/x-python",
   "name": "python",
   "nbconvert_exporter": "python",
   "pygments_lexer": "ipython3",
   "version": "3.9.10"
  },
  "orig_nbformat": 4
 },
 "nbformat": 4,
 "nbformat_minor": 2
}
